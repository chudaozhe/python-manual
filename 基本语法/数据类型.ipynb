{
 "cells": [
  {
   "cell_type": "markdown",
   "source": [
    "## 数据类型"
   ],
   "metadata": {
    "collapsed": false
   }
  },
  {
   "cell_type": "markdown",
   "source": [
    "### 整形 int\n",
    "可以表示为正数、负数、零"
   ],
   "metadata": {
    "collapsed": false
   }
  },
  {
   "cell_type": "code",
   "execution_count": null,
   "metadata": {
    "collapsed": true
   },
   "outputs": [],
   "source": [
    "n1 = 90\n",
    "n2 = -76\n",
    "n3 = 0\n",
    "print(n1, type(n1))\n",
    "print(n2, type(n2))\n",
    "print(n3, type(n3))"
   ]
  },
  {
   "cell_type": "markdown",
   "source": [
    "### 浮点型 float"
   ],
   "metadata": {
    "collapsed": false
   }
  },
  {
   "cell_type": "code",
   "execution_count": null,
   "outputs": [],
   "source": [
    "a = 3.14159\n",
    "print(a, type(a))\n",
    "# 使用浮点数进行计算，可能会出现位数不确定的情况\n",
    "n = 1.1\n",
    "n1 = 2.2\n",
    "n2 = 3.3\n",
    "print(n + n1)\n",
    "from decimal import Decimal\n",
    "\n",
    "print(Decimal('1.1') + Decimal('2.2'))"
   ],
   "metadata": {
    "collapsed": false
   }
  },
  {
   "cell_type": "markdown",
   "source": [
    "### 布尔类型 bool\n",
    "表示真或假的值"
   ],
   "metadata": {
    "collapsed": false
   }
  },
  {
   "cell_type": "code",
   "execution_count": null,
   "outputs": [],
   "source": [
    "f1 = True\n",
    "f2 = False\n",
    "print(f1, type(f1))\n",
    "print(f2, type(f2))\n",
    "print(f1 + 1)  # 1+1=2,f1为真表示1\n",
    "print(f2 + 1)  # 0+1=1，f2为假表示0"
   ],
   "metadata": {
    "collapsed": false
   }
  },
  {
   "cell_type": "markdown",
   "source": [
    "### 字符串 str\n",
    "称为不可变的字符序列"
   ],
   "metadata": {
    "collapsed": false
   }
  },
  {
   "cell_type": "code",
   "execution_count": null,
   "outputs": [],
   "source": [
    "str = '人生苦短，我用python'  # 单引号与双引号都可表示一行的字符串\n",
    "str1 = \"人生苦短，我用python\"\n",
    "str2 = '''\n",
    "人生苦短，我用python1\n",
    "人生苦短，我用python2\n",
    "人生苦短，我用python3\n",
    "'''  # 三引号定义的字符串可以分布在连续的多行\n",
    "print(str, type(str))\n",
    "print(str1, type(str1))\n",
    "print(str2, type(str2))"
   ],
   "metadata": {
    "collapsed": false
   }
  }
 ],
 "metadata": {
  "kernelspec": {
   "display_name": "Python 3",
   "language": "python",
   "name": "python3"
  },
  "language_info": {
   "codemirror_mode": {
    "name": "ipython",
    "version": 2
   },
   "file_extension": ".py",
   "mimetype": "text/x-python",
   "name": "python",
   "nbconvert_exporter": "python",
   "pygments_lexer": "ipython2",
   "version": "2.7.6"
  }
 },
 "nbformat": 4,
 "nbformat_minor": 0
}
