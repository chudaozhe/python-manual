{
 "cells": [
  {
   "cell_type": "markdown",
   "source": [
    "## 异常"
   ],
   "metadata": {
    "collapsed": false
   }
  },
  {
   "cell_type": "markdown",
   "source": [
    "### try...except...结构\n",
    "\n",
    "```\n",
    "try:\n",
    "\t...\n",
    "\t可能会出现的异常的代码...\n",
    "\t...\n",
    "except   xxx(异常类型):\n",
    "\t...\n",
    "\t异常处理代码...    # 报错后执行的代码\n",
    "\t...\n",
    "```"
   ],
   "metadata": {
    "collapsed": false
   }
  },
  {
   "cell_type": "code",
   "execution_count": 2,
   "outputs": [
    {
     "name": "stdout",
     "output_type": "stream",
     "text": [
      "输出错误\n",
      "输出错误\n"
     ]
    }
   ],
   "source": [
    "# 输入两个整数并进行除数运算\n",
    "try:\n",
    "    num1 = int(input('输入第一个整数：'))\n",
    "    num2 = int(input('输入第二个整数：'))\n",
    "    num = num1/num2\n",
    "    print(num)\n",
    "except:\n",
    "    print('输出错误')\n",
    "\n",
    "#或\n",
    "try:\n",
    "    num1 = int(input('输入第一个整数：'))\n",
    "    num2 = int(input('输入第二个整数：'))\n",
    "    num = num1/num2\n",
    "    print(num)\n",
    "except ZeroDivisionError:\n",
    "    print('输出错误')"
   ],
   "metadata": {
    "collapsed": false,
    "ExecuteTime": {
     "start_time": "2023-04-29T20:14:19.163943Z",
     "end_time": "2023-04-29T20:14:33.698187Z"
    }
   }
  },
  {
   "cell_type": "markdown",
   "source": [
    "多个except结构：捕获异常的顺序按照先子类后父亲类的顺序，为了避免遗漏可能出现的异常，可以在最后增加BaseException\n",
    "\n",
    "```\n",
    "try:\n",
    "\t...\n",
    "\t...   # 可能会出现的异常的代码\n",
    "\t...\n",
    "except Expection1:\n",
    "\t...\n",
    "\t...   # 异常处理代码\n",
    "\t...\n",
    "except Expection2:\n",
    "\t...\n",
    "\t...   # 异常处理代码\n",
    "\t...\n",
    "except BaseException:\n",
    "\t...\n",
    "\t...   # 异常处理代码\n",
    "\t...\n",
    "```"
   ],
   "metadata": {
    "collapsed": false
   }
  },
  {
   "cell_type": "code",
   "execution_count": 5,
   "outputs": [
    {
     "name": "stdout",
     "output_type": "stream",
     "text": [
      "1.0\n"
     ]
    }
   ],
   "source": [
    "try:\n",
    "    num1 = int(input('输入第一个整数：'))\n",
    "    num2 = int(input('输入第二个整数：'))\n",
    "    num = num1/num2\n",
    "    print(num)\n",
    "except ZeroDivisionError:\n",
    "    print('除数不能为0')\n",
    "except ValueError:\n",
    "    print('不能为字母')\n",
    "except BaseException as e:\n",
    "    print('程序结束')"
   ],
   "metadata": {
    "collapsed": false,
    "ExecuteTime": {
     "start_time": "2023-04-29T20:16:56.166441Z",
     "end_time": "2023-04-29T20:17:00.323756Z"
    }
   }
  },
  {
   "cell_type": "markdown",
   "source": [
    "try...except...else结构\n",
    "\n",
    "如果try块中没有抛出异常，则执行else块，如果try中抛出异常，则执行except块。"
   ],
   "metadata": {
    "collapsed": false
   }
  },
  {
   "cell_type": "code",
   "execution_count": 6,
   "outputs": [
    {
     "name": "stdout",
     "output_type": "stream",
     "text": [
      "出错了\n",
      "division by zero\n"
     ]
    }
   ],
   "source": [
    "try:\n",
    "    num1 = int(input('输入第一个整数：'))\n",
    "    num2 = int(input('输入第二个整数：'))\n",
    "    num = num1/num2\n",
    "\n",
    "except BaseException as e:\n",
    "    print('出错了')\n",
    "    print(e)\n",
    "else:\n",
    "    print('结果为：',num)"
   ],
   "metadata": {
    "collapsed": false,
    "ExecuteTime": {
     "start_time": "2023-04-29T20:18:20.029204Z",
     "end_time": "2023-04-29T20:18:25.828526Z"
    }
   }
  },
  {
   "cell_type": "markdown",
   "source": [
    "try...except...else...finally结构\n",
    "\n",
    "finally块无论如何是否发生异常都会被执行，能常用来释放try块中申请的资源。"
   ],
   "metadata": {
    "collapsed": false
   }
  },
  {
   "cell_type": "code",
   "execution_count": null,
   "outputs": [],
   "source": [
    "try:\n",
    "    num1 = int(input('输入第一个整数：'))\n",
    "    num2 = int(input('输入第二个整数：'))\n",
    "    num = num1/num2\n",
    "except BaseException as e:\n",
    "    print('出错了')\n",
    "    print(e)\n",
    "else:\n",
    "    print('结果为：',num)\n",
    "finally:\n",
    "    print('无论是否产生异常，总会被执行的代码')\n",
    "print('程序结束')"
   ],
   "metadata": {
    "collapsed": false
   }
  },
  {
   "cell_type": "markdown",
   "source": [
    "### 常见的异常\n",
    "\n",
    "| 序号 | 异常类型              | 描述              |\n",
    "|----|-------------------|-----------------|\n",
    "| 1  | ZeroDivisionError | 除(或取模)零(所有数据类型) |\n",
    "| 2  | IndexError        | 序列中没有此索引(index) |\n",
    "| 3  | KeyError          | 映射中没有这个键        |\n",
    "| 4  | NameError         | 未声明/初始化对象(没有)   |"
   ],
   "metadata": {
    "collapsed": false
   }
  },
  {
   "cell_type": "code",
   "execution_count": null,
   "outputs": [],
   "source": [],
   "metadata": {
    "collapsed": false
   }
  }
 ],
 "metadata": {
  "kernelspec": {
   "display_name": "Python 3",
   "language": "python",
   "name": "python3"
  },
  "language_info": {
   "codemirror_mode": {
    "name": "ipython",
    "version": 2
   },
   "file_extension": ".py",
   "mimetype": "text/x-python",
   "name": "python",
   "nbconvert_exporter": "python",
   "pygments_lexer": "ipython2",
   "version": "2.7.6"
  }
 },
 "nbformat": 4,
 "nbformat_minor": 0
}
