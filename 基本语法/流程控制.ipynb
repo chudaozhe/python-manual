{
 "cells": [
  {
   "cell_type": "markdown",
   "source": [
    "## 流程控制"
   ],
   "metadata": {
    "collapsed": false
   }
  },
  {
   "cell_type": "code",
   "execution_count": null,
   "outputs": [],
   "source": [
    "print(bool(False))\n",
    "print(bool(0))\n",
    "print(bool(0.0))\n",
    "print(bool(''))\n",
    "print(bool(None))\n",
    "print(bool(\"\"))\n",
    "print(bool([]))\n",
    "print(bool(list()))\n",
    "print(bool(()))\n",
    "print(bool(tuple()))\n",
    "print(bool({}))\n",
    "print(bool(dict()))\n",
    "print(bool(set()))\n",
    "print('--以上的对象布尔值为False--')\n",
    "\n",
    "print('--其余(下面对)都为True--')\n",
    "print(bool(18))\n",
    "print(bool(\"hello world\"))"
   ],
   "metadata": {
    "collapsed": false,
    "ExecuteTime": {
     "start_time": "2023-04-26T12:10:30.484458Z",
     "end_time": "2023-04-26T12:10:30.491406Z"
    }
   }
  },
  {
   "cell_type": "markdown",
   "source": [
    "False、数值0、None、空字符串、空列表、空元组、空字典、空集合的布尔值为False"
   ],
   "metadata": {
    "collapsed": false
   }
  },
  {
   "cell_type": "markdown",
   "source": [
    "## 选择结构(if 语句)"
   ],
   "metadata": {
    "collapsed": false
   }
  },
  {
   "cell_type": "markdown",
   "source": [
    "### 单分支结构：如果...就"
   ],
   "metadata": {
    "collapsed": false
   }
  },
  {
   "cell_type": "code",
   "execution_count": null,
   "outputs": [],
   "source": [
    "money = 1000\n",
    "je = int(input('取款金额：'))\n",
    "if je <= money:  # if 条件表达式：(条件表达式为布尔值)\n",
    "    money = money - je\n",
    "    print('取款成功，余额为：', money)"
   ],
   "metadata": {
    "collapsed": false
   }
  },
  {
   "cell_type": "markdown",
   "source": [
    "### 双分支结构：如果不满足...就\n",
    "语法结构\n",
    "```\n",
    "if 条件表达式:\n",
    "  条件执行体1\n",
    "else:\n",
    "  条件执行体2\n",
    "```"
   ],
   "metadata": {
    "collapsed": false
   }
  },
  {
   "cell_type": "code",
   "execution_count": null,
   "outputs": [],
   "source": [
    "num1 = int(input('输出一个整数：'))\n",
    "if num1 % 2 == 0:\n",
    "    print('此数为偶数！')\n",
    "else:\n",
    "    print('此数为奇数！')"
   ],
   "metadata": {
    "collapsed": false,
    "ExecuteTime": {
     "start_time": "2023-04-26T12:43:20.706398Z",
     "end_time": "2023-04-26T12:43:25.520114Z"
    }
   }
  },
  {
   "cell_type": "markdown",
   "source": [
    "条件表达式：是if....else的简写\n",
    "\n",
    "语法结构：x if 判断条件  else  y\n",
    "\n",
    "运算规则：如果判断条件的布尔值为True, 条件表达式的返回值为x, 否则条件表达式的返回值为y;"
   ],
   "metadata": {
    "collapsed": false
   }
  },
  {
   "cell_type": "code",
   "execution_count": null,
   "outputs": [],
   "source": [
    "num1 = int(input('输出一个整数：'))\n",
    "res = '此数为偶数！' if num1 % 2 == 0 else '此数为奇数！'\n",
    "print(res)"
   ],
   "metadata": {
    "collapsed": false,
    "ExecuteTime": {
     "start_time": "2023-04-26T13:04:26.814547Z",
     "end_time": "2023-04-26T13:04:30.235222Z"
    }
   }
  },
  {
   "cell_type": "markdown",
   "source": [
    "### 多分支结构：...是...? 是或不是\n",
    "语法结构\n",
    "```\n",
    "if 条件表达式1:\n",
    "  条件执行体1\n",
    "elif 条件表达式2:\n",
    "  条件执行体2\n",
    "elif 条件表达式N:\n",
    "  条件执行体N\n",
    "[else:] # 可写可不写\n",
    "  条件执行体N+1\n",
    "```"
   ],
   "metadata": {
    "collapsed": false
   }
  },
  {
   "cell_type": "code",
   "execution_count": null,
   "outputs": [],
   "source": [
    "# 从键盘中录入一个“整数”成绩，判断它的范围\n",
    "# 90-100:A  80-90：B   70-80：C 60-70:及格  60以下不及格\n",
    "score = int(input('请输入一个整数成绩：'))\n",
    "if score >= 90 and score <= 100:  # 可以写成90<=score<=100\n",
    "    print('A')\n",
    "elif score >= 80 and score < 90:\n",
    "    print('B')\n",
    "elif score >= 70 and score < 80:\n",
    "    print('良好')\n",
    "elif score >= 60 and score < 70:\n",
    "    print('合格')\n",
    "elif score < 60 and score >= 0:\n",
    "    print('不及格')\n",
    "else:\n",
    "    print('对不起，输入的成绩不在范围之内！')"
   ],
   "metadata": {
    "collapsed": false,
    "ExecuteTime": {
     "start_time": "2023-04-26T12:48:58.737146Z",
     "end_time": "2023-04-26T12:49:03.025420Z"
    }
   }
  },
  {
   "cell_type": "markdown",
   "source": [
    "### 嵌套if"
   ],
   "metadata": {
    "collapsed": false
   }
  },
  {
   "cell_type": "markdown",
   "source": [
    "语法结构\n",
    "```\n",
    "if 条件表达式1:\n",
    "  if 内层条件表达式:\n",
    "    内层条件执行体1\n",
    "  else:\n",
    "    内层条件执行体2\n",
    "else:\n",
    "  条件执行体\n",
    "```"
   ],
   "metadata": {
    "collapsed": false
   }
  },
  {
   "cell_type": "code",
   "execution_count": null,
   "outputs": [],
   "source": [
    "'''\n",
    "会员  >=200  8折\n",
    "     >=100  9折\n",
    "     不打折\n",
    "非会员  >=200 9.5折\n",
    "        不打折\n",
    "'''\n",
    "huiyuan = input('是否为会员y/n：')\n",
    "money = float(input('请输入钱：'))\n",
    "if huiyuan == 'y':  # 判断为会员\n",
    "    if money >= 200:\n",
    "        print('会员最后金额为：', money * 0.8)\n",
    "    elif money >= 100:\n",
    "        print('会员最后金额为：', money * 0.9)\n",
    "    else:\n",
    "        print('会员最后金额为：', money)\n",
    "else:  # 判断不会为会员\n",
    "    if money >= 200:  # 大于等于号前后注意空格，空格也有影响；\n",
    "        print('最后非会员金额为：', money * 0.95)\n",
    "    else:\n",
    "        print('最后非会员金额为：', money)"
   ],
   "metadata": {
    "collapsed": false,
    "ExecuteTime": {
     "start_time": "2023-04-26T12:56:11.527802Z",
     "end_time": "2023-04-26T12:56:19.448283Z"
    }
   }
  },
  {
   "cell_type": "markdown",
   "source": [
    "### pass语句\n",
    "该语句什么都不做，只是一个占位符，用在语法上需要语句的地方；\n",
    "\n",
    "什么时候用：先搭建语法结构，还没想好代码怎么写的时候\n",
    "\n",
    "与哪些语句一起使用：if 语句的条件执行体、for-in语句循环体、定义函数的函数体"
   ],
   "metadata": {
    "collapsed": false
   }
  },
  {
   "cell_type": "code",
   "execution_count": null,
   "outputs": [],
   "source": [
    "def fun1(a, b):\n",
    "    pass"
   ],
   "metadata": {
    "collapsed": false
   }
  },
  {
   "cell_type": "markdown",
   "source": [
    "## 循环结构(while 语句与for in)"
   ],
   "metadata": {
    "collapsed": false
   }
  },
  {
   "cell_type": "code",
   "execution_count": 9,
   "outputs": [
    {
     "name": "stdout",
     "output_type": "stream",
     "text": [
      "range(0, 10)\n",
      "[0, 1, 2, 3, 4, 5, 6, 7, 8, 9]\n",
      "[1, 2, 3, 4, 5, 6, 7, 8, 9]\n",
      "[1, 6]\n",
      "True\n",
      "True\n",
      "True\n"
     ]
    }
   ],
   "source": [
    "start=1\n",
    "stop=10\n",
    "step=5\n",
    "r1 = range(stop)\t#创建一个(0,stop)之间的整数序列，步长为1；\n",
    "r2 = range(start, stop) #创建一个(start,stop)之间的整数序列，步长为1；\n",
    "r3 = range(start, stop, step)\n",
    "\n",
    "print(r1)\n",
    "print(list(r1))\n",
    "print(list(r2))\n",
    "print(list(r3))\n",
    "'''判断指定的整数，在序列中是否存在  in 或 not in'''\n",
    "print(2 in r1)\n",
    "print(2 in list(r1))\n",
    "print(10 not in r1)"
   ],
   "metadata": {
    "collapsed": false,
    "ExecuteTime": {
     "start_time": "2023-04-26T15:10:33.678625Z",
     "end_time": "2023-04-26T15:10:33.685577Z"
    }
   }
  },
  {
   "cell_type": "markdown",
   "source": [
    "### while 语句\n",
    "选择结构的if与循环结构while的区别：\n",
    "\n",
    "if是判断一次，条件为True执行一行；while是判断N+1次，条件为True执行N次；\n",
    "\n",
    "while循环的执行流程：\n",
    "\n",
    "四步循环法：初始变量、条件判断、条件执行体(循环体)、改变变量"
   ],
   "metadata": {
    "collapsed": false
   }
  },
  {
   "cell_type": "code",
   "execution_count": 13,
   "outputs": [
    {
     "name": "stdout",
     "output_type": "stream",
     "text": [
      "10\n"
     ]
    }
   ],
   "source": [
    "# 计算0-4之间的累加和\n",
    "sum = 0\n",
    "'''初始化变量为0'''\n",
    "i = 0\n",
    "while i <= 4:  # 条件判断\n",
    "    sum = sum + i  # 条件执行体(循环体)\n",
    "    i = i + 1  # 改变变量\n",
    "print(sum)"
   ],
   "metadata": {
    "collapsed": false,
    "ExecuteTime": {
     "start_time": "2023-04-27T00:00:04.636809Z",
     "end_time": "2023-04-27T00:00:04.646368Z"
    }
   }
  },
  {
   "cell_type": "code",
   "execution_count": null,
   "outputs": [],
   "source": [
    "# 计算1-100之间的偶数和\n",
    "i = 1\n",
    "sum = 0\n",
    "while i <= 100:\n",
    "    if i % 2 == 0:\n",
    "        sum += i\n",
    "    i += 1\n",
    "print(sum)"
   ],
   "metadata": {
    "collapsed": false
   }
  },
  {
   "cell_type": "code",
   "execution_count": null,
   "outputs": [],
   "source": [
    "# 计算1-100之间的偶数和\n",
    "i = 1\n",
    "sum = 0\n",
    "while i <= 100:\n",
    "    if not bool(i % 2):  # 为0的布尔值为false，not false=true---执行；1的布尔值为true，not true=false--不执行！\n",
    "        sum += i\n",
    "    i += 1\n",
    "print(sum)"
   ],
   "metadata": {
    "collapsed": false
   }
  },
  {
   "cell_type": "markdown",
   "source": [
    "### for in循环\n",
    "in表达从(字符串、序列等)中一次取值，又称为遍历；\n",
    "\n",
    "for in遍历的对象必须是可迭代对象；"
   ],
   "metadata": {
    "collapsed": false
   }
  },
  {
   "cell_type": "code",
   "execution_count": 2,
   "outputs": [
    {
     "name": "stdout",
     "output_type": "stream",
     "text": [
      "1\n",
      "2\n",
      "3\n",
      "4\n",
      "5\n",
      "6\n",
      "7\n",
      "8\n",
      "9\n"
     ]
    }
   ],
   "source": [
    "for i in range(1,10):\n",
    "    print(i)    # 循环的次数"
   ],
   "metadata": {
    "collapsed": false,
    "ExecuteTime": {
     "start_time": "2023-04-26T23:06:53.003386Z",
     "end_time": "2023-04-26T23:06:53.043454Z"
    }
   }
  },
  {
   "cell_type": "code",
   "execution_count": 3,
   "outputs": [
    {
     "name": "stdout",
     "output_type": "stream",
     "text": [
      "P\n",
      "y\n",
      "t\n",
      "h\n",
      "o\n",
      "n\n"
     ]
    }
   ],
   "source": [
    "for item in \"Python\":\n",
    "    print(item)"
   ],
   "metadata": {
    "collapsed": false,
    "ExecuteTime": {
     "start_time": "2023-04-26T23:09:07.311186Z",
     "end_time": "2023-04-26T23:09:07.376906Z"
    }
   }
  },
  {
   "cell_type": "code",
   "execution_count": 4,
   "outputs": [
    {
     "name": "stdout",
     "output_type": "stream",
     "text": [
      "人生苦短，我用python\n",
      "人生苦短，我用python\n",
      "人生苦短，我用python\n",
      "人生苦短，我用python\n",
      "人生苦短，我用python\n"
     ]
    }
   ],
   "source": [
    "for _ in range(5):\n",
    "    print('人生苦短，我用python')"
   ],
   "metadata": {
    "collapsed": false,
    "ExecuteTime": {
     "start_time": "2023-04-26T23:11:18.913189Z",
     "end_time": "2023-04-26T23:11:18.951660Z"
    }
   }
  },
  {
   "cell_type": "markdown",
   "source": [
    "### 流程控制语句break"
   ],
   "metadata": {
    "collapsed": false
   }
  },
  {
   "cell_type": "code",
   "execution_count": 6,
   "outputs": [],
   "source": [
    "# 从键盘录入密码，最多输入三次，如果正确就结束循环；\n",
    "\n",
    "for i in range(3):\t# 0 1 2\n",
    "    secret = int(input('请输入密码：'))\n",
    "    if secret==258096:\n",
    "        break\n",
    "    else:\n",
    "        print('密码错误，请重新输入！')"
   ],
   "metadata": {
    "collapsed": false,
    "ExecuteTime": {
     "start_time": "2023-04-26T23:16:22.127039Z",
     "end_time": "2023-04-26T23:16:34.408943Z"
    }
   }
  },
  {
   "cell_type": "code",
   "execution_count": 9,
   "outputs": [],
   "source": [
    "i=0         # 初始化变量\n",
    "while i<3:     # 条件判断\n",
    "    secreat = int(input('请输入密码：'))  # 条件执行体\n",
    "    if secreat==123456:\n",
    "        break\n",
    "    else:\n",
    "        print('密码错误，请重新输入')\n",
    "    i+=1             # 改变变量"
   ],
   "metadata": {
    "collapsed": false,
    "ExecuteTime": {
     "start_time": "2023-04-26T23:18:51.589162Z",
     "end_time": "2023-04-26T23:18:58.879757Z"
    }
   }
  },
  {
   "cell_type": "markdown",
   "source": [
    "### 流程控制语句continue"
   ],
   "metadata": {
    "collapsed": false
   }
  },
  {
   "cell_type": "code",
   "execution_count": 11,
   "outputs": [
    {
     "name": "stdout",
     "output_type": "stream",
     "text": [
      "5\n",
      "10\n",
      "15\n",
      "20\n",
      "25\n",
      "30\n",
      "35\n",
      "40\n",
      "45\n",
      "50\n"
     ]
    }
   ],
   "source": [
    "for i in range(1,51):\n",
    "    if i%5!=0:\n",
    "        continue\n",
    "    print(i)"
   ],
   "metadata": {
    "collapsed": false,
    "ExecuteTime": {
     "start_time": "2023-04-26T23:40:41.190768Z",
     "end_time": "2023-04-26T23:40:41.236598Z"
    }
   }
  },
  {
   "cell_type": "code",
   "execution_count": null,
   "outputs": [],
   "source": [],
   "metadata": {
    "collapsed": false
   }
  }
 ],
 "metadata": {
  "kernelspec": {
   "display_name": "Python 3",
   "language": "python",
   "name": "python3"
  },
  "language_info": {
   "codemirror_mode": {
    "name": "ipython",
    "version": 2
   },
   "file_extension": ".py",
   "mimetype": "text/x-python",
   "name": "python",
   "nbconvert_exporter": "python",
   "pygments_lexer": "ipython2",
   "version": "2.7.6"
  }
 },
 "nbformat": 4,
 "nbformat_minor": 0
}
