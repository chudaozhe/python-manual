{
 "cells": [
  {
   "cell_type": "markdown",
   "source": [
    "## 函数\n",
    "函数的定义：函数就是执行特定任务和以完成特定功能的一段代码(榨汁机)；\n",
    "\n",
    "为什么使用函数：复用代码，隐藏实现细节，提高可维护性，提高可读性便于调试；"
   ],
   "metadata": {
    "collapsed": false
   }
  },
  {
   "cell_type": "markdown",
   "source": [
    "### 函数的创建与调用\n",
    "\n",
    "```\n",
    "def 函数名 ([输入参数]): # 函数名符合标识符的规范自命名\n",
    "    函数体\t\t\t# 实现功能\n",
    "    [return xxx]\t# 接收结果的容器（变量）\n",
    "```"
   ],
   "metadata": {
    "collapsed": false
   }
  },
  {
   "cell_type": "code",
   "execution_count": 1,
   "outputs": [
    {
     "name": "stdout",
     "output_type": "stream",
     "text": [
      "1098\n"
     ]
    }
   ],
   "source": [
    "def calc(a, b):\n",
    "    c = a + b\n",
    "    return c  # 结束函数体并将结果提交，提交给函数的调用处\n",
    "\n",
    "\n",
    "res = calc(99, 999)  # 调用\n",
    "print(res)"
   ],
   "metadata": {
    "collapsed": false,
    "ExecuteTime": {
     "start_time": "2023-04-29T11:20:46.862101Z",
     "end_time": "2023-04-29T11:20:46.872906Z"
    }
   }
  },
  {
   "cell_type": "markdown",
   "source": [
    "### 函数的参数传递\n",
    "```\n",
    "形式参数(形参)\n",
    "def calc(a,b):  # a,b称为形式参数，形式参数在函数的定义处\n",
    "实际参数(实参)\n",
    "res = calc(99,999) # 10,20称为实参，实参在函数的调用处\n",
    "```"
   ],
   "metadata": {
    "collapsed": false
   }
  },
  {
   "cell_type": "markdown",
   "source": [
    "函数调用的参数传递方式：\n",
    "```\n",
    "位置实参：根据形参对应的位置进行实参传递\n",
    "res = calc(99,999)\n",
    "关键字实参：根据形参名称进行实参传递\n",
    "res = calc(b=999,a=99)    # 等号左侧的字母称为关键字参数\n",
    "```"
   ],
   "metadata": {
    "collapsed": false
   }
  },
  {
   "cell_type": "markdown",
   "source": [
    "传参的`可变对象`与`不可变对象`\n",
    "\n",
    "不可变对象，在函数体的修改不会影响实参的值\n",
    "可变对象，在函数体的修改下会影响实参的值"
   ],
   "metadata": {
    "collapsed": false
   }
  },
  {
   "cell_type": "code",
   "execution_count": 4,
   "outputs": [
    {
     "name": "stdout",
     "output_type": "stream",
     "text": [
      "n1 11\n",
      "n2 [90, 50, 78]\n",
      "arg1 11\n",
      "arg2 [90, 50, 78]\n",
      "arg1 100\n",
      "arg2 [90, 50, 78, 10]\n",
      "n1 11\n",
      "n2 [90, 50, 78, 10]\n"
     ]
    },
    {
     "data": {
      "text/plain": "'在函数调用的过程中，进行参数的传递\\n如果是不可变对象n1，在函数体的修改不会影响实参的值，arg1的值改为100，不会影响；\\n如果是可变对象n2，在函数体的修改下会影响实参的值，arg2的列表中append(10),会影响n2的值'"
     },
     "execution_count": 4,
     "metadata": {},
     "output_type": "execute_result"
    }
   ],
   "source": [
    "# 定义函数\n",
    "def fun(arg1,arg2):\n",
    "    print('arg1',arg1)\n",
    "    print('arg2',arg2)\n",
    "    arg1=100\n",
    "    arg2.append(10)\n",
    "    print('arg1', arg1)\n",
    "    print('arg2', arg2)\n",
    "# 调用函数\n",
    "n1=11\n",
    "n2=[90,50,78]\n",
    "print('n1',n1)\n",
    "print('n2',n2)\n",
    "fun(n1,n2)   # 位置传参，实参名称可以与形参名称不一致\n",
    "print('n1',n1) # n1=11,\n",
    "print('n2',n2)\n",
    "'''在函数调用的过程中，进行参数的传递\n",
    "如果是不可变对象n1，在函数体的修改不会影响实参的值，arg1的值改为100，不会影响；\n",
    "如果是可变对象n2，在函数体的修改下会影响实参的值，arg2的列表中append(10),会影响n2的值'''"
   ],
   "metadata": {
    "collapsed": false,
    "ExecuteTime": {
     "start_time": "2023-04-29T11:57:32.685805Z",
     "end_time": "2023-04-29T11:57:32.697657Z"
    }
   }
  },
  {
   "cell_type": "markdown",
   "source": [
    "### 函数的返回值"
   ],
   "metadata": {
    "collapsed": false
   }
  },
  {
   "cell_type": "markdown",
   "source": [
    "1.如果函数没有返回值，return可以省略不写；"
   ],
   "metadata": {
    "collapsed": false
   }
  },
  {
   "cell_type": "code",
   "execution_count": 5,
   "outputs": [
    {
     "name": "stdout",
     "output_type": "stream",
     "text": [
      "hello\n"
     ]
    }
   ],
   "source": [
    "def fun1():\n",
    "    print('hello')\n",
    "    return    # 可以省略不写\n",
    "\n",
    "fun1()"
   ],
   "metadata": {
    "collapsed": false,
    "ExecuteTime": {
     "start_time": "2023-04-29T12:03:46.264001Z",
     "end_time": "2023-04-29T12:03:46.286840Z"
    }
   }
  },
  {
   "cell_type": "markdown",
   "source": [
    "2.函数的返回值如果是1个，直接返回原类型"
   ],
   "metadata": {
    "collapsed": false
   }
  },
  {
   "cell_type": "code",
   "execution_count": 6,
   "outputs": [
    {
     "name": "stdout",
     "output_type": "stream",
     "text": [
      "hello\n"
     ]
    }
   ],
   "source": [
    "def fun1():\n",
    "    return 'hello'\n",
    "\n",
    "print(fun1())"
   ],
   "metadata": {
    "collapsed": false,
    "ExecuteTime": {
     "start_time": "2023-04-29T12:05:07.430402Z",
     "end_time": "2023-04-29T12:05:07.453823Z"
    }
   }
  },
  {
   "cell_type": "markdown",
   "source": [
    "3.函数的返回值，如果是多个，返回的结果为元组"
   ],
   "metadata": {
    "collapsed": false
   }
  },
  {
   "cell_type": "code",
   "execution_count": 7,
   "outputs": [
    {
     "name": "stdout",
     "output_type": "stream",
     "text": [
      "('hello', 'python')\n"
     ]
    }
   ],
   "source": [
    "def fun2():\n",
    "    return 'hello','python'\n",
    "\n",
    "print(fun2())"
   ],
   "metadata": {
    "collapsed": false,
    "ExecuteTime": {
     "start_time": "2023-04-29T12:05:41.314700Z",
     "end_time": "2023-04-29T12:05:41.337321Z"
    }
   }
  },
  {
   "cell_type": "markdown",
   "source": [
    "一个示例"
   ],
   "metadata": {
    "collapsed": false
   }
  },
  {
   "cell_type": "code",
   "execution_count": null,
   "outputs": [],
   "source": [
    "def fun(num):\n",
    "    odd = []  # 存奇数\n",
    "    even = []  # 存偶数\n",
    "    for i in num:\n",
    "        if i % 2:  # 奇数为1，布尔值为True\n",
    "            odd.append(i)\n",
    "        else:\n",
    "            even.append(i)\n",
    "    return odd, even\n",
    "\n",
    "\n",
    "lst = [10, 55, 88, 98, 78, 56, 69, 33]\n",
    "print(fun(lst))"
   ],
   "metadata": {
    "collapsed": false
   }
  },
  {
   "cell_type": "markdown",
   "source": [
    "### 函数的参数定义\n",
    "\n",
    "#### 默认值参数\n",
    "函数定义默认值参数:函数定义时，给形参设置默认值，只有与默认值不符的时候才需要传递实参"
   ],
   "metadata": {
    "collapsed": false
   }
  },
  {
   "cell_type": "code",
   "execution_count": 8,
   "outputs": [
    {
     "name": "stdout",
     "output_type": "stream",
     "text": [
      "100 10\n",
      "10 20\n"
     ]
    }
   ],
   "source": [
    "def fun(a,b=10):\n",
    "    print(a,b)\n",
    "\n",
    "fun(100)\t# 只传一个参数，b采用默认值\n",
    "fun(10,20)   # 20将默认值替换"
   ],
   "metadata": {
    "collapsed": false,
    "ExecuteTime": {
     "start_time": "2023-04-29T12:30:57.761541Z",
     "end_time": "2023-04-29T12:30:57.790299Z"
    }
   }
  },
  {
   "cell_type": "markdown",
   "source": [
    "#### 个数可变的位置参数\n",
    "定义函数时，可能无法事先确定传递的位置实参的个数时，使用可变的位置参数；使用`*`定义个数可变的位置形参；结果为一个元组"
   ],
   "metadata": {
    "collapsed": false
   }
  },
  {
   "cell_type": "code",
   "execution_count": 11,
   "outputs": [
    {
     "name": "stdout",
     "output_type": "stream",
     "text": [
      "(10,)\n",
      "(10, 20)\n",
      "(10, 30, 50)\n"
     ]
    }
   ],
   "source": [
    "def fun(*args):   #多个参数，args是一个自定义的\n",
    "    print(args)\n",
    "\n",
    "fun(10)\n",
    "fun(10,20)\n",
    "fun(10,30,50)"
   ],
   "metadata": {
    "collapsed": false,
    "ExecuteTime": {
     "start_time": "2023-04-29T12:33:35.303580Z",
     "end_time": "2023-04-29T12:33:35.310944Z"
    }
   }
  },
  {
   "cell_type": "markdown",
   "source": [
    "#### 个数可变的关键字形参\n",
    "定义函数时，无法事先确定传递的关键字实参的个数时，使用可变的关键字形参；使用`**`定义个数可变的关键字形参；结果为一个字典"
   ],
   "metadata": {
    "collapsed": false
   }
  },
  {
   "cell_type": "code",
   "execution_count": 12,
   "outputs": [
    {
     "name": "stdout",
     "output_type": "stream",
     "text": [
      "{'a': 10}\n",
      "{'a': 10, 'b': 20}\n",
      "{'a': 10, 'b': 30, 'c': 50}\n"
     ]
    }
   ],
   "source": [
    "def fun(**args):  # 只能是一个参数\n",
    "    print(args)\n",
    "\n",
    "fun(a=10)\n",
    "fun(a=10,b=20)\n",
    "fun(a=10,b=30,c=50)"
   ],
   "metadata": {
    "collapsed": false,
    "ExecuteTime": {
     "start_time": "2023-04-29T12:36:48.719868Z",
     "end_time": "2023-04-29T12:36:48.746117Z"
    }
   }
  },
  {
   "cell_type": "markdown",
   "source": [
    "在一个函数定义过程中，既有个数可变关键字形参，也有个数可变位置形参，个数可变的位置形参就在个数可变的关键字形参之前！这样就不会报错；"
   ],
   "metadata": {
    "collapsed": false
   }
  },
  {
   "cell_type": "markdown",
   "source": [
    "#### 函数的参数总结\n",
    "\n",
    "函数调用时的参数传递"
   ],
   "metadata": {
    "collapsed": false
   }
  },
  {
   "cell_type": "code",
   "execution_count": null,
   "outputs": [],
   "source": [
    "'''函数调用时的参数--位置/关键字实参'''\n",
    "def fun(a,b,c):  # a,b,c在函数的定义处，所以是形式参数\n",
    "    print('a=',a)\n",
    "    print('b=',b)\n",
    "    print('c=',c)\n",
    "\n",
    "fun(10,20,30)  # 函数调用时的参数传递，称为位置传参\n",
    "lst=[50,70,10]\n",
    "fun(*lst)  # 在函数调用时将列表中的每一个元素都转换为位置实参传入\n",
    "\n",
    "# 将字典中的每个键值对都关键字实参--使用**\n",
    "fun(a=100,b=200,c=300)   # 函数的调用处，关键字传参\n",
    "dic={'a':111,'b':222,'c':333}\n",
    "fun(**dic)   # 在函数调用时，将字典的每一个键值对转化为关键字实参传入"
   ],
   "metadata": {
    "collapsed": false
   }
  },
  {
   "cell_type": "markdown",
   "source": [
    "函数定义时的参数传递"
   ],
   "metadata": {
    "collapsed": false
   }
  },
  {
   "cell_type": "code",
   "execution_count": null,
   "outputs": [],
   "source": [
    "def fun3(a,b,c,d):\n",
    "    print('a',a)\n",
    "    print('b',b)\n",
    "    print('c',c)\n",
    "    print('d',d)\n",
    "\n",
    "fun3(88,99,111,255)  # 位置传参\n",
    "fun3(a=45,b=55,c=65,d=85)  # 关键字传参\n",
    "fun3(10,20,c=40,d=50)  # 前两个是位置实参传递，后两个是关键字实参传递\n",
    "\n",
    "# 函数定义时参数的形参的顺序问题\n",
    "def fun4(a,b,*args1,c,d,**args2):   # 从*args1之后的参数在函数调用只能采用关键字传递\n",
    "    print('a',a)\n",
    "    print('b',b)\n",
    "    print('args1',args1)\n",
    "    print('args2',args2)\n",
    "    print('c',c)\n",
    "    print('d',d)\n",
    "fun4(1,2,3,4,5,6,c=11, d=7, e=8)\n",
    "\n",
    "def fun6(*args,**args2):\n",
    "    pass\n",
    "\n",
    "def fun7(a,b=10,*args,**args2):\n",
    "    pass"
   ],
   "metadata": {
    "collapsed": false
   }
  },
  {
   "cell_type": "markdown",
   "source": [
    "### 变量的作用域\n",
    "程序代码能访问该变量的区域；\n",
    "\n",
    "根据变量的有效范围可分为：\n",
    "\n",
    "局部变量：在函数内定义的并使用的变量，只在函数内部有效，局部变量使用global声明，这个变量就会变为全局变量；\n",
    "全局变量：在函数体外定义的变量，可作用于函数体外；"
   ],
   "metadata": {
    "collapsed": false
   }
  },
  {
   "cell_type": "code",
   "execution_count": 16,
   "outputs": [
    {
     "name": "stdout",
     "output_type": "stream",
     "text": [
      "样老师\n",
      "20\n",
      "20\n"
     ]
    }
   ],
   "source": [
    "def fun(a,b):\n",
    "    c=a+b  # c称为局部变量，因为c是函数体内定义的变量，a和b为函数的形参，作用范围也是函数内部，相当于局部变量\n",
    "    print(c)\n",
    "\n",
    "# print(a)  报错，a与c超出了局部变量的范围(超出了作用域)\n",
    "# print(c)\n",
    "\n",
    "name='样老师' # name的作用范围为内部和外部都可以使用，称为全局变量\n",
    "print(name)\n",
    "\n",
    "def fun3():\n",
    "    global age  # 函数内部定义的变量为局部变量，局部变量使用global声明，这个变量就是全局变量\n",
    "    age=20\n",
    "    print(age)\n",
    "fun3()\n",
    "print(age)"
   ],
   "metadata": {
    "collapsed": false,
    "ExecuteTime": {
     "start_time": "2023-04-29T13:28:44.971543Z",
     "end_time": "2023-04-29T13:28:45.007224Z"
    }
   }
  },
  {
   "cell_type": "markdown",
   "source": [
    "### 递归函数\n",
    "递归是什么：程序调用自身的编程技巧。\n",
    "定义：如果在一个函数的函数体内调用了该函数本身，这个函数就称为递归函数；\n",
    "\n",
    "组成部分：递归调用与递归终止条件；\n",
    "调用过程：每递归调用一次函数，都会在站内存分配一个栈针；每执行完一次函数，都会释放相应的空间\n",
    "优缺点：缺点：占用内存多，效率低下；优点：思路和代码简单"
   ],
   "metadata": {
    "collapsed": false
   }
  },
  {
   "cell_type": "code",
   "execution_count": 17,
   "outputs": [
    {
     "name": "stdout",
     "output_type": "stream",
     "text": [
      "720\n"
     ]
    }
   ],
   "source": [
    "def fun(n):  # 计算阶乘的数\n",
    "    if n==1:\n",
    "        return 1\n",
    "    else:\n",
    "        return n*fun(n-1)\n",
    "\n",
    "print(fun(6))"
   ],
   "metadata": {
    "collapsed": false,
    "ExecuteTime": {
     "start_time": "2023-04-29T13:31:27.103097Z",
     "end_time": "2023-04-29T13:31:27.140537Z"
    }
   }
  },
  {
   "cell_type": "markdown",
   "source": [
    "```\n",
    "解释：从上到下递推，从下到上回归(还需理解)\n",
    "fun(6)          720\n",
    "  |\n",
    "6*fun(5)            6*(120)\n",
    "  |\n",
    "6*(5*fun(4))         6*(5*24)\n",
    "   |\n",
    "6*(5*(4*fun(3)))        6*(5*(4*6))\n",
    "   |\n",
    "6*(5*(4*(3*fun(2))))     6*(5*(4*(3*2)))\n",
    "    |\n",
    "6*(5*(4*(3*(2*fun(1)))))      6*(5*(4*(3*(2*1))))\n",
    "```"
   ],
   "metadata": {
    "collapsed": false
   }
  },
  {
   "cell_type": "markdown",
   "source": [
    "### 斐波那契数列"
   ],
   "metadata": {
    "collapsed": false
   }
  },
  {
   "cell_type": "code",
   "execution_count": null,
   "outputs": [],
   "source": [
    "def fib(n):  # n代表第几位数\n",
    "    if n==1:\n",
    "        return 1\n",
    "    elif n==2:\n",
    "        return 1\n",
    "    else:\n",
    "        return fib(n-1)+fib(n-2)\n",
    "\n",
    "print(fib(7))\n",
    "\n",
    "# 1 1 2 3 5 8 13 ...\n",
    "# 输出前六位数字\n",
    "for i in range(1,7):\n",
    "    print(fib(i))"
   ],
   "metadata": {
    "collapsed": false
   }
  }
 ],
 "metadata": {
  "kernelspec": {
   "display_name": "Python 3",
   "language": "python",
   "name": "python3"
  },
  "language_info": {
   "codemirror_mode": {
    "name": "ipython",
    "version": 2
   },
   "file_extension": ".py",
   "mimetype": "text/x-python",
   "name": "python",
   "nbconvert_exporter": "python",
   "pygments_lexer": "ipython2",
   "version": "2.7.6"
  }
 },
 "nbformat": 4,
 "nbformat_minor": 0
}
