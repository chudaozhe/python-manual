{
 "cells": [
  {
   "cell_type": "markdown",
   "source": [
    "## 集合"
   ],
   "metadata": {
    "collapsed": false
   }
  },
  {
   "cell_type": "markdown",
   "source": [
    "\n",
    "Python语言提供的内置数据结构；\n",
    "\n",
    "与列表、字典一样都属于可变类型(增删改查)的序列；\n",
    "\n",
    "集合是没有value的字典；\n",
    "\n",
    "向集合里放数据元素会通过哈希函数计算存储位置，所以第一个放进的元素未必在第一位。（集合元素是无序的）"
   ],
   "metadata": {
    "collapsed": false
   }
  },
  {
   "cell_type": "markdown",
   "source": [
    "### 集合的创建\n",
    "1.直接{} `s={'python','hello',90}`，存储单个元素，不允许重复."
   ],
   "metadata": {
    "collapsed": false
   }
  },
  {
   "cell_type": "code",
   "execution_count": 1,
   "outputs": [
    {
     "name": "stdout",
     "output_type": "stream",
     "text": [
      "{3, 4, 5, 6, 7}\n"
     ]
    }
   ],
   "source": [
    "s={6,6,7,4,5,6,4,3,4,3} # 将重复元素去掉\n",
    "print(s)"
   ],
   "metadata": {
    "collapsed": false,
    "ExecuteTime": {
     "start_time": "2023-04-27T22:40:07.628587Z",
     "end_time": "2023-04-27T22:40:07.640398Z"
    }
   }
  },
  {
   "cell_type": "markdown",
   "source": [
    "2.使用内置函数"
   ],
   "metadata": {
    "collapsed": false
   }
  },
  {
   "cell_type": "code",
   "execution_count": 4,
   "outputs": [
    {
     "name": "stdout",
     "output_type": "stream",
     "text": [
      "{0, 1, 2, 3, 4, 5}\n",
      "{2, 3, 4, 5, 6} <class 'set'>\n",
      "{78, 34, 90, 6} <class 'set'>\n",
      "{'h', 'p', 'o', 't', 'y', 'n'} <class 'set'>\n",
      "{34, 22, 56, 11, 78} <class 'set'>\n",
      "set() <class 'set'>\n"
     ]
    }
   ],
   "source": [
    "s = set(range(6))\n",
    "print(s)   # {0, 1, 2, 3, 4, 5}\n",
    "\n",
    "s = set([2,5,6,2,4,6,3,2])\n",
    "print(s,type(s)) # {2, 3, 4, 5, 6} <class 'set'>\n",
    "\n",
    "s = set((34,6,78,90))\n",
    "print(s,type(s))  # {78, 34, 90, 6} <class 'set'>\n",
    "\n",
    "s = set('python')\n",
    "print(s,type(s)) # {'y', 'o', 'p', 'n', 'h', 't'} <class 'set'>\n",
    "\n",
    "s = set({34,56,78,11,22,22})\n",
    "print(s,type(s)) # {34, 22, 56, 11, 78} <class 'set'>\n",
    "\n",
    "s = set()   # 定义一个空集合，如果是s={}的话数据类型是字典！\n",
    "print(s,type(s)) # set() <class 'set'>"
   ],
   "metadata": {
    "collapsed": false,
    "ExecuteTime": {
     "start_time": "2023-04-27T23:20:39.108763Z",
     "end_time": "2023-04-27T23:20:39.118255Z"
    }
   }
  },
  {
   "cell_type": "markdown",
   "source": [
    "### 集合的相关操作\n",
    "集合元素的判断操作：in或not in"
   ],
   "metadata": {
    "collapsed": false
   }
  },
  {
   "cell_type": "code",
   "execution_count": null,
   "outputs": [],
   "source": [
    "s = {1,2,5,9,80,100}\n",
    "print(1 in s)\n",
    "print(100 not in s)"
   ],
   "metadata": {
    "collapsed": false
   }
  },
  {
   "cell_type": "markdown",
   "source": [
    "#### 集合元素的新增操作\n",
    "1.调用add()方法，一次添加一个元素\n",
    "\n",
    "2.调用update()方法至少添加一个元素"
   ],
   "metadata": {
    "collapsed": false
   }
  },
  {
   "cell_type": "code",
   "execution_count": null,
   "outputs": [],
   "source": [
    "s = {1,2,5,9,80,100}\n",
    "s.add(12)\n",
    "print(s) # {1, 2, 100, 5, 9, 12, 80}\n",
    "\n",
    "s = {1,2,5,9,80,100}\n",
    "s.update({300,20,800,70})\n",
    "print(s) # {800, 1, 2, 100, 5, 70, 9, 300, 80, 20}\n",
    "\n",
    "s = {1,2,5,9,80,100}\n",
    "s.update(['op',78,66])\n",
    "print(s) # {1, 2, 'op', 100, 5, 66, 9, 78, 80}\n",
    "\n",
    "s = {1,2,5,9,80,100}\n",
    "s.update((65,88,99,'oh'))\n",
    "print(s) # {1, 2, 65, 100, 5, 99, 9, 80, 88, 'oh'}"
   ],
   "metadata": {
    "collapsed": false
   }
  },
  {
   "cell_type": "markdown",
   "source": [
    "#### 集合元素的删除操作：\n",
    "\n",
    "调用remove()方法，一次删除一个指定的元素，如果指定的元素不存在抛出keyerror；"
   ],
   "metadata": {
    "collapsed": false
   }
  },
  {
   "cell_type": "code",
   "execution_count": null,
   "outputs": [],
   "source": [
    "s = {1,2,5,9,80,100}\n",
    "s.remove(100)\n",
    "print(s) # {1, 2, 5, 9, 80}\n",
    "\n",
    "s = {1,2,5,9,80,100}\n",
    "s.remove(90)\n",
    "print(s) # KeyError"
   ],
   "metadata": {
    "collapsed": false
   }
  },
  {
   "cell_type": "markdown",
   "source": [
    "调用discard()方法，一次删除一个指定的元素，如果指定的元素不存在不抛出异常"
   ],
   "metadata": {
    "collapsed": false
   }
  },
  {
   "cell_type": "code",
   "execution_count": null,
   "outputs": [],
   "source": [
    "s = {1,2,5,9,80,100}\n",
    "s.discard(90)\n",
    "print(s) # {1, 2, 100, 5, 9, 80} 有就删除，没有不报错"
   ],
   "metadata": {
    "collapsed": false
   }
  },
  {
   "cell_type": "markdown",
   "source": [
    "调用pop()方法，一次只删除一个任意的元素；"
   ],
   "metadata": {
    "collapsed": false
   }
  },
  {
   "cell_type": "code",
   "execution_count": null,
   "outputs": [],
   "source": [
    "s = {1,2,5,9,80,100,11}\n",
    "s.pop()  # 不能添加参数，规定无参；TypeError\n",
    "print(s) # {2, 100, 5, 9, 11, 80}"
   ],
   "metadata": {
    "collapsed": false
   }
  },
  {
   "cell_type": "markdown",
   "source": [
    "调用clear()方法，清空集合；"
   ],
   "metadata": {
    "collapsed": false
   }
  },
  {
   "cell_type": "code",
   "execution_count": null,
   "outputs": [],
   "source": [
    "s = {1,2,5,9,80,100,11}\n",
    "s.clear()  #无参，清空\n",
    "print(s) # set()"
   ],
   "metadata": {
    "collapsed": false
   }
  },
  {
   "cell_type": "markdown",
   "source": [
    "### 集合间的关系\n",
    "两个集合是否相等：可以使用运算符==或!=进行判断"
   ],
   "metadata": {
    "collapsed": false
   }
  },
  {
   "cell_type": "code",
   "execution_count": null,
   "outputs": [],
   "source": [
    "s1={10,20,30,40}\n",
    "s2={40,30,10,20}\n",
    "print(s1==s2)  # True\n",
    "print(s1!=s2)  # False\n",
    "#集合里的元素是无序列，输出的顺序不会决定存储顺序(元素内容相同集合即可)"
   ],
   "metadata": {
    "collapsed": false
   }
  },
  {
   "cell_type": "markdown",
   "source": [
    "一个集合是否是另一个集合的子集：可以调用方法issubset进行判断；B是A的子集"
   ],
   "metadata": {
    "collapsed": false
   }
  },
  {
   "cell_type": "code",
   "execution_count": null,
   "outputs": [],
   "source": [
    "s1={10,20,30,40}\n",
    "s2={40,30,10,20,60,100}\n",
    "s3={10,20,30,90,100}\n",
    "se=s1.issubset(s2)\n",
    "see=s3.issubset(s1)\n",
    "print(se)  # True\n",
    "print(see)   # False"
   ],
   "metadata": {
    "collapsed": false
   }
  },
  {
   "cell_type": "markdown",
   "source": [
    "一个集合是否是另一个集合的超集：可以调用方法issuperset进行判断；A是B的超级"
   ],
   "metadata": {
    "collapsed": false
   }
  },
  {
   "cell_type": "code",
   "execution_count": null,
   "outputs": [],
   "source": [
    "s1={10,20,30,40}\n",
    "s2={40,30,10,20,60,100}\n",
    "s3={10,20,30,90,100}\n",
    "se=s2.issuperset(s1)\n",
    "see=s2.issuperset(s3)\n",
    "print(se)  # True\n",
    "print(see)   # False"
   ],
   "metadata": {
    "collapsed": false
   }
  },
  {
   "cell_type": "markdown",
   "source": [
    "两个集合是否没有交集：可以调用方法isdisjoint进行判断"
   ],
   "metadata": {
    "collapsed": false
   }
  },
  {
   "cell_type": "code",
   "execution_count": null,
   "outputs": [],
   "source": [
    "s1={10,20,30,40}\n",
    "s2={40,30,10,20,60,100}\n",
    "s3={400,500,45}\n",
    "se=s2.isdisjoint(s1)\n",
    "see=s2.isdisjoint(s3)\n",
    "print(se)  # Flase  有交集为flase\n",
    "print(see)   # True   无交集为True"
   ],
   "metadata": {
    "collapsed": false
   }
  },
  {
   "cell_type": "markdown",
   "source": [
    "### 集合的数据操作\n",
    "集合的数学关系：\n",
    "\n",
    "交集："
   ],
   "metadata": {
    "collapsed": false
   }
  },
  {
   "cell_type": "code",
   "execution_count": null,
   "outputs": [],
   "source": [
    "s1={50,45,89,40,10}\n",
    "s2={40,89,50,10,30}\n",
    "print(s1.intersection(s2))\n",
    "print(s1 & s2)      # intersection()与&都是交集操作"
   ],
   "metadata": {
    "collapsed": false
   }
  },
  {
   "cell_type": "markdown",
   "source": [
    "并集："
   ],
   "metadata": {
    "collapsed": false
   }
  },
  {
   "cell_type": "code",
   "execution_count": null,
   "outputs": [],
   "source": [
    "s1={50,45,89,40,10}\n",
    "s2={40,89,50,10,3099,66}\n",
    "print(s1.union(s2))\n",
    "print(s1 | s2)      # union()与|都是并集操作"
   ],
   "metadata": {
    "collapsed": false
   }
  },
  {
   "cell_type": "markdown",
   "source": [
    "差集："
   ],
   "metadata": {
    "collapsed": false
   }
  },
  {
   "cell_type": "code",
   "execution_count": null,
   "outputs": [],
   "source": [
    "s1={50,45,89,40,10}\n",
    "s2={40,89,50,10,3099,66}\n",
    "print(s1.difference(s2))   # s1-s2   {45}\n",
    "print(s2.difference(s1))    # s2-s1  {66, 3099}  在s2的集合里将s1的元素全部去掉\n",
    "print(s1 - s2)      # difference()与-都是差集操作"
   ],
   "metadata": {
    "collapsed": false
   }
  },
  {
   "cell_type": "markdown",
   "source": [
    "对称差集"
   ],
   "metadata": {
    "collapsed": false
   }
  },
  {
   "cell_type": "code",
   "execution_count": null,
   "outputs": [],
   "source": [
    "s1={50,45,89,40,10}\n",
    "s2={40,89,50,10,3099,66}\n",
    "print(s1.symmetric_difference(s2))   # 去掉相同的元素，余留下来的元素\n",
    "print(s1 ^ s2)      # symmetric_difference()与^都是对称差集操作"
   ],
   "metadata": {
    "collapsed": false
   }
  },
  {
   "cell_type": "markdown",
   "source": [
    "### 集合生成式\n",
    "用于生成集合的公式："
   ],
   "metadata": {
    "collapsed": false
   }
  },
  {
   "cell_type": "markdown",
   "source": [
    "`{i*i for i in range(10)}`\n",
    "i*i表示集合元素的表达式\n",
    "i自定义变量\n",
    "range(10)可迭代对象（迭代：轮流代替）、\n",
    "将{}修改为[]就是列表生产式\n",
    "没有元组生成式，因为元组是不可变数据类型；"
   ],
   "metadata": {
    "collapsed": false
   }
  },
  {
   "cell_type": "code",
   "execution_count": null,
   "outputs": [],
   "source": [
    "sett = {i*i for i in range(10)}   # for i in range(10) 默认0-9\n",
    "print(sett)   # 集合元素是无序的"
   ],
   "metadata": {
    "collapsed": false
   }
  },
  {
   "cell_type": "markdown",
   "source": [
    "### 列表、字典、元组、集合总结"
   ],
   "metadata": {
    "collapsed": false
   }
  },
  {
   "cell_type": "markdown",
   "source": [
    "| 数据类型      | 是否可变 | 是否重复             | 是否有序 | 定义符号 |\n",
    "|-----------|------|------------------|------|------|\n",
    "| 列表(list)  | 可变   | 可以重复             | 有序   | []   |\n",
    "| 元组(tuple) | 可变   | 可以重复             | 有序   | ()   |\n",
    "| 字典        | 可变   | key不可重复；value可重复 | 无序   |\n",
    "| 集合        | 可变   | 不可重复             | 无序   | {}   |"
   ],
   "metadata": {
    "collapsed": false
   }
  },
  {
   "cell_type": "code",
   "execution_count": null,
   "outputs": [],
   "source": [],
   "metadata": {
    "collapsed": false
   }
  }
 ],
 "metadata": {
  "kernelspec": {
   "display_name": "Python 3",
   "language": "python",
   "name": "python3"
  },
  "language_info": {
   "codemirror_mode": {
    "name": "ipython",
    "version": 2
   },
   "file_extension": ".py",
   "mimetype": "text/x-python",
   "name": "python",
   "nbconvert_exporter": "python",
   "pygments_lexer": "ipython2",
   "version": "2.7.6"
  }
 },
 "nbformat": 4,
 "nbformat_minor": 0
}
