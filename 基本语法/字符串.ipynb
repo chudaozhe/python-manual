{
 "cells": [
  {
   "cell_type": "markdown",
   "source": [
    "## 字符串\n",
    "在python中字符串是基本数据类型，是一个不可变的字符序列；"
   ],
   "metadata": {
    "collapsed": false
   }
  },
  {
   "cell_type": "code",
   "execution_count": null,
   "outputs": [],
   "source": [
    "a='python'\n",
    "aa=\"python\"\n",
    "aaa='''python'''\n",
    "print(a,id(a))\n",
    "print(a,id(aa))\n",
    "print(a,id(aaa))\n",
    "#创建aa字符串的时候，发现存储中有相同的字符串，不会再开辟新的存储空间，而是把该字符的地址付给新创建的变量。"
   ],
   "metadata": {
    "collapsed": false
   }
  },
  {
   "cell_type": "markdown",
   "source": [
    "### 字符串的驻留机制\n",
    "仅保存一份相同的且不可变的字符串方法，不同的值被存放在字符串的驻留池中，python的驻留机制对相同的字符串只保存一份拷贝，后续创建相同字符串时，不会开辟新空间，而是把该字符的地址赋给新创建的变量。"
   ],
   "metadata": {
    "collapsed": false
   }
  },
  {
   "cell_type": "markdown",
   "source": [
    "#### 驻留机制的几种情况\n",
    "字符串的长度为0或1时；"
   ],
   "metadata": {
    "collapsed": false
   }
  },
  {
   "cell_type": "code",
   "execution_count": 2,
   "outputs": [
    {
     "name": "stdout",
     "output_type": "stream",
     "text": [
      "True\n",
      "True\n"
     ]
    }
   ],
   "source": [
    "s1=''   # 字符长度为0\n",
    "s2=''\n",
    "print(s1 is s2)\n",
    "\n",
    "s1='%'   # 字符长度为1\n",
    "s2='%'\n",
    "print(s1 is s2)\n"
   ],
   "metadata": {
    "collapsed": false,
    "ExecuteTime": {
     "start_time": "2023-04-28T14:52:21.005614Z",
     "end_time": "2023-04-28T14:52:21.013630Z"
    }
   }
  },
  {
   "cell_type": "markdown",
   "source": [
    "符合标识符的字符串(字母，数字，下滑线)；"
   ],
   "metadata": {
    "collapsed": false
   }
  },
  {
   "cell_type": "code",
   "execution_count": 3,
   "outputs": [
    {
     "name": "stdout",
     "output_type": "stream",
     "text": [
      "True\n",
      "False\n",
      "4485803248\n",
      "4485803312\n",
      "True\n",
      "True\n"
     ]
    }
   ],
   "source": [
    "s1='abc%'  # 不符合字符串\n",
    "s2='abc%'\n",
    "print(s1==s2)\n",
    "print(s1 is s2) #内存地址不一样！\n",
    "print(id(s1))\n",
    "print(id(s2))\n",
    "\n",
    "s1='abcx'\n",
    "s2='abcx'\n",
    "print(s1==s2)\n",
    "print(s1 is s2) #内存地址一样！"
   ],
   "metadata": {
    "collapsed": false,
    "ExecuteTime": {
     "start_time": "2023-04-28T14:54:54.155426Z",
     "end_time": "2023-04-28T14:54:54.163796Z"
    }
   }
  },
  {
   "cell_type": "markdown",
   "source": [
    "字符串只在编译时进行驻留，而非运行时；"
   ],
   "metadata": {
    "collapsed": false
   }
  },
  {
   "cell_type": "code",
   "execution_count": 4,
   "outputs": [
    {
     "name": "stdout",
     "output_type": "stream",
     "text": [
      "abc\n",
      "True\n",
      "False\n",
      "<class 'str'>\n",
      "<class 'str'>\n"
     ]
    }
   ],
   "source": [
    "a='abc'    \n",
    "b='ab'+'c'  # b的值在连接之前就完成了\n",
    "c=''.join(['ab','c'])  # c是程序运行的时候对列表中的数据进行连接的\n",
    "print(c)\n",
    "print(a is b)\n",
    "print(a is c) #注意这里\n",
    "print(type(c))\n",
    "print(type(a))"
   ],
   "metadata": {
    "collapsed": false,
    "ExecuteTime": {
     "start_time": "2023-04-28T15:02:58.458240Z",
     "end_time": "2023-04-28T15:02:58.466328Z"
    }
   }
  },
  {
   "cell_type": "markdown",
   "source": [
    "[-5,256]之间的整数数字；"
   ],
   "metadata": {
    "collapsed": false
   }
  },
  {
   "cell_type": "code",
   "execution_count": 5,
   "outputs": [
    {
     "name": "stdout",
     "output_type": "stream",
     "text": [
      "True\n",
      "False\n"
     ]
    }
   ],
   "source": [
    "a=-5\n",
    "b=-5\n",
    "print(a is b)\n",
    "a=-6\n",
    "b=-6\n",
    "print(a is b)"
   ],
   "metadata": {
    "collapsed": false,
    "ExecuteTime": {
     "start_time": "2023-04-28T15:05:49.269462Z",
     "end_time": "2023-04-28T15:05:49.277427Z"
    }
   }
  },
  {
   "cell_type": "markdown",
   "source": [
    "sys中的inter方法强制2个字符串指向同一个对象；"
   ],
   "metadata": {
    "collapsed": false
   }
  },
  {
   "cell_type": "code",
   "execution_count": 6,
   "outputs": [
    {
     "name": "stdout",
     "output_type": "stream",
     "text": [
      "False\n",
      "True\n"
     ]
    }
   ],
   "source": [
    "import sys\n",
    "a='abc%'\n",
    "b='abc%'\n",
    "print(a is b)\n",
    "a=sys.intern(b)\n",
    "print(a is b)"
   ],
   "metadata": {
    "collapsed": false,
    "ExecuteTime": {
     "start_time": "2023-04-28T15:06:47.751068Z",
     "end_time": "2023-04-28T15:06:47.759100Z"
    }
   }
  },
  {
   "cell_type": "markdown",
   "source": [
    "字符串驻留机制的优缺点：\n",
    "\n",
    "当需要值相同的字符串时可以直接从字符串池里拿来使用，避免频繁的创建和销毁，提升雄安率和节约内存，因此拼接字符串和修改字符串是会比较影响性能的；\n",
    "\n",
    "在需要进行字符串拼接时建议使用str类型的join方法，而非+join()方法是先计算出所有字符串的长度，然后再拷贝，只`new`一次对象，效率要比`+`效率高。"
   ],
   "metadata": {
    "collapsed": false
   }
  },
  {
   "cell_type": "markdown",
   "source": [
    "### 字符串的常用操作\n",
    "\n",
    "#### 查询操作方法\n",
    "\n",
    "| 功能   | 方法名称     | 作用                                           |\n",
    "|------|----------|----------------------------------------------|\n",
    "| 查询方法 | index()  | 查找子串substr第一次出现的位置，如果查找的子串不存在时，则抛出ValueError |\n",
    "|      | rindex() | 查找子串substr最后出现的位置，如果查找的子串不存在时，则抛出valueerror  |\n",
    "|      | find()   | 查找子串substr第一次出现的位置，如果查找的子串不存在时，则返回-1         |\n",
    "|      | rfind()  | 查找子串substr最后出现的位置，如果查找的子串不存在时，则返回-1          |\n"
   ],
   "metadata": {
    "collapsed": false
   }
  },
  {
   "cell_type": "code",
   "execution_count": 7,
   "outputs": [
    {
     "name": "stdout",
     "output_type": "stream",
     "text": [
      "3\n",
      "9\n",
      "-1\n",
      "9\n"
     ]
    }
   ],
   "source": [
    "#两者的区别就是：找不到出现的位置时，报错结果不一样；\n",
    "s='hello,hello'\n",
    "print(s.index('lo'))\n",
    "print(s.rindex('lo'))   # 逗号也是一个索引值\n",
    "\n",
    "s='hello,hello'\n",
    "print(s.find('p'))\n",
    "print(s.rfind('lo'))"
   ],
   "metadata": {
    "collapsed": false,
    "ExecuteTime": {
     "start_time": "2023-04-28T15:14:52.829596Z",
     "end_time": "2023-04-28T15:14:52.840629Z"
    }
   }
  },
  {
   "cell_type": "markdown",
   "source": [
    "#### 大小写转换操作的方法\n",
    "\n",
    "| 功能    | 方法名称         | 作用                                |\n",
    "|-------|--------------|-----------------------------------|\n",
    "| 大小写转化 | upper()      | 把字符串中所有字符都转成大写字母                  |\n",
    "|       | lower()      | 把字符串中所有字符都转成小写字母                  |\n",
    "|       | swapcase()   | 把字符串中所有大写字母转换成小写字母，把所有小写字母转换成大写字母 |\n",
    "|       | capitalize() | 把第一个字符转换成大写，把其余字符转换为小写            |\n",
    "|       | title()      | 把每个单词的第一个字符转换为大写，把每个单词的剩余字符转换为小写  |\n"
   ],
   "metadata": {
    "collapsed": false
   }
  },
  {
   "cell_type": "code",
   "execution_count": 8,
   "outputs": [
    {
     "name": "stdout",
     "output_type": "stream",
     "text": [
      "HELLO,PYTHON 4485866352\n",
      "hello,python 4485830448\n",
      "hello,python 4485867248\n",
      "hello,python 4485830704\n",
      "True\n",
      "False\n",
      "HELLO,pYTHON\n",
      "Hello,Python\n",
      "Hello,python\n"
     ]
    }
   ],
   "source": [
    "s='hello,python'\n",
    "a=s.upper()\n",
    "print(a,id(a))\n",
    "print(s,id(s))\n",
    "#解释：字符串是不可变数据类型，转换成大写内存位置不一样，开辟了另一个存储空间，产生新的字符串对象。\n",
    "\n",
    "s='hello,python'\n",
    "a=s.lower()    # 转换之后会产生一个新的字符串对象\n",
    "print(a,id(a))\n",
    "print(s,id(s))\n",
    "print(a==s)\n",
    "print(a is s)    # 内存位置不一致；\n",
    "\n",
    "s2='hello,Python'\n",
    "print(s2.swapcase())   # HELLO,pYTHON\n",
    "print(s2.title())   # Hello,Python\n",
    "print(s2.capitalize())  # Hello,python"
   ],
   "metadata": {
    "collapsed": false,
    "ExecuteTime": {
     "start_time": "2023-04-28T15:19:08.027200Z",
     "end_time": "2023-04-28T15:19:08.065639Z"
    }
   }
  },
  {
   "cell_type": "markdown",
   "source": [
    "#### 内容对齐操作的方法\n",
    "\n",
    "| 功能    | 方法名称     | 作用                                                            |\n",
    "|-------|----------|---------------------------------------------------------------|\n",
    "| 字符串对齐 | center() | 居中对齐，第一个参数指定宽度，第二个参数指定填充符，第2个参数是可选的，默认是空格，如果设置宽度小于实际宽度则返回原字符串 |\n",
    "|       | ljust    | 左对齐，第一个参数指定宽度，第二个参数指定填充符，第二个参数是可选的，默认是空格，如果设置宽度小于实际宽度则返回原字符串  |\n",
    "|       | rjust    | 右对齐，第一个参数指定宽度，第二个参数指定填充符，第二个参数是可选的，默认是空格，如果设置宽度小于实际宽度则返回原字符串  |\n",
    "|       | zfill()  | 右对齐，左边用0填充，该方法只接受一个参数，用于指定字符串的宽度，如果指定的宽度小于等于字符串的长度，返回字符串本身。   |"
   ],
   "metadata": {
    "collapsed": false
   }
  },
  {
   "cell_type": "code",
   "execution_count": 9,
   "outputs": [
    {
     "name": "stdout",
     "output_type": "stream",
     "text": [
      "****hello,python****\n",
      "hello,python********\n",
      "hello,python\n",
      "    hello,python    \n",
      "********hello,python\n",
      "        hello,python\n",
      "hello,python\n",
      "00000000hello,python\n",
      "hello,python\n",
      "-0008901\n"
     ]
    }
   ],
   "source": [
    "s='hello,python'\n",
    "\n",
    "print(s.center(20,'*'))   # ****hello,python****\n",
    "print(s.ljust(20,\"*\"))    # hello,python********\n",
    "print(s.center(10,'*'))   # hello,python\n",
    "print(s.center(20))\n",
    "\n",
    "print(s.rjust(20,'*'))\n",
    "print(s.rjust(20))\n",
    "print(s.ljust(10,'*'))\n",
    "\n",
    "print(s.zfill(20))\n",
    "print(s.zfill(10))\n",
    "print('-8901'.zfill(8))"
   ],
   "metadata": {
    "collapsed": false,
    "ExecuteTime": {
     "start_time": "2023-04-28T15:21:41.052031Z",
     "end_time": "2023-04-28T15:21:41.075201Z"
    }
   }
  },
  {
   "cell_type": "markdown",
   "source": [
    "#### 劈分操作的方法：\n",
    "\n",
    "| 功能     | 方法名称       | 作用                                                   |\n",
    "|--------|------------|------------------------------------------------------|\n",
    "| 字符串的劈分 | split()    | 从字符串的左边开始劈分，默认的劈分字符串是空格字符串，返回的值都是一个列表                |\n",
    "|        |            | 以通过参数sep指定劈分字符串的是劈分符                                 |\n",
    "|        |            | 通过参数maxsplit指定劈分字符串时的最大劈分次数，在经过最大次劈分之后，剩余的字串会单独做为一部分 |\n",
    "|        | rsplit()   | 从字符串的右边开始劈分，默认的劈分字符是空格字符串，返回的值都是一个列表                 |\n",
    "|        |            | 以通过参数sep指定劈分字符串的是劈分符                                 |\n",
    "|        |            | 通过参数maxsplit指定劈分字符串时的最大劈分次数，在经过最大次劈分之后，剩余的字串会单独做为一部分 |\n",
    "|        | strip() 方法 | 用于移除字符串头尾指定的字符（默认为空格或换行符）或字符序列                       |"
   ],
   "metadata": {
    "collapsed": false
   }
  },
  {
   "cell_type": "code",
   "execution_count": 12,
   "outputs": [
    {
     "name": "stdout",
     "output_type": "stream",
     "text": [
      "['hello', 'world', 'Python']\n",
      "['hello', 'world', 'python']\n",
      "['hello', 'world|python']\n"
     ]
    }
   ],
   "source": [
    "s='hello world Python'\n",
    "lst=s.split()\n",
    "print(lst)\n",
    "\n",
    "s1='hello|world|python'\n",
    "lst1=s1.split(sep='|')\n",
    "print(lst1)\n",
    "\n",
    "s1='hello|world|python'\n",
    "lst1=s1.split(sep='|',maxsplit=1)\n",
    "print(lst1)"
   ],
   "metadata": {
    "collapsed": false,
    "ExecuteTime": {
     "start_time": "2023-04-28T15:26:28.006520Z",
     "end_time": "2023-04-28T15:26:28.074313Z"
    }
   }
  },
  {
   "cell_type": "code",
   "execution_count": 11,
   "outputs": [
    {
     "name": "stdout",
     "output_type": "stream",
     "text": [
      "['hello', 'world', 'Python']\n",
      "['hello', 'world', 'python']\n",
      "['hello|world', 'python']\n"
     ]
    }
   ],
   "source": [
    "s='hello world Python'\n",
    "lst=s.rsplit()\n",
    "print(lst)\n",
    "\n",
    "s1='hello|world|python'\n",
    "lst1=s1.rsplit('|')\n",
    "print(lst1)\n",
    "\n",
    "s1='hello|world|python'\n",
    "lst1=s1.rsplit(sep='|',maxsplit=1)\n",
    "print(lst1)"
   ],
   "metadata": {
    "collapsed": false,
    "ExecuteTime": {
     "start_time": "2023-04-28T15:26:06.141466Z",
     "end_time": "2023-04-28T15:26:06.150674Z"
    }
   }
  },
  {
   "cell_type": "markdown",
   "source": [
    "#### 判断字符串操作的方法\n",
    "\n",
    "| 功能       | 方法名称           | 作用                               |\n",
    "|----------|----------------|----------------------------------|\n",
    "| 判断字符串的方法 | isidentifier() | 判断指定的字符串是不是合法的标识符                |\n",
    "|          | isspace()      | 判断指定的字符串是否全部由空白字符组成(回车、换行、水平制表符) |\n",
    "|          | isalpha()      | 判断指定的字符串是否全部由字母组成                |\n",
    "|          | isdecimal()    | 判断指定字符串是否全部由十进制的数字组成             |\n",
    "|          | isnumeric()    | 判断指定的字符串是否全部由数字组成                |\n",
    "|          | isalnum()      | 判断指定的字符串是否全部由字母和数字组成             |"
   ],
   "metadata": {
    "collapsed": false
   }
  },
  {
   "cell_type": "code",
   "execution_count": 13,
   "outputs": [
    {
     "name": "stdout",
     "output_type": "stream",
     "text": [
      "False\n",
      "True\n",
      "True\n",
      "True\n",
      "True\n",
      "True\n",
      "True\n",
      "False\n",
      "True\n",
      "False\n",
      "False\n",
      "True\n",
      "True\n",
      "True\n",
      "True\n",
      "True\n",
      "False\n"
     ]
    }
   ],
   "source": [
    "s='hello,python'\n",
    "print(s.isidentifier())  # False\n",
    "print( 'hello'.isidentifier())  # True\n",
    "print('张三_'.isidentifier())   # True\n",
    "print('张三_123'.isidentifier())   # True\n",
    "\n",
    "print('\\t'.isspace())  # True\n",
    "print('abc'.isalpha())   # True\n",
    "print('张三'.isalpha())   # True\n",
    "print('张三1'.isalpha())   # Flase\n",
    "\n",
    "print('123'.isdecimal())    # True\n",
    "print('123四'.isdecimal())    # Flase\n",
    "print('ⅡⅡⅡ'.isdecimal())     # Flase\n",
    "\n",
    "print('123'.isnumeric())   # True\n",
    "print('123四'.isnumeric())   # True\n",
    "print('ⅡⅡⅡ'.isnumeric())     # True\n",
    "print('abc1'.isalnum())   # True\n",
    "print('张三123'.isalnum())   # True\n",
    "print('abc!'.isalnum())    # False\n"
   ],
   "metadata": {
    "collapsed": false,
    "ExecuteTime": {
     "start_time": "2023-04-28T15:28:46.277722Z",
     "end_time": "2023-04-28T15:28:46.303456Z"
    }
   }
  },
  {
   "cell_type": "markdown",
   "source": [
    "#### 字符串操作的其它方法\n",
    "\n",
    "| 功能     | 方法名称      | 作用                                                                                |\n",
    "|--------|-----------|-----------------------------------------------------------------------------------|\n",
    "| 字符串替换  | replace() | 第一个参数指定被替换的子串，第二个参数指定替换子串的字符串，该方法返回替换后得到的字符串，替换前的字符串不发生变化，调用该方法时可以通过第三个参数指定最大替换次数 |\n",
    "| 字符串的合并 | join()    | 将列表或元组中的字符串合并成一个字符串                                                               |"
   ],
   "metadata": {
    "collapsed": false
   }
  },
  {
   "cell_type": "code",
   "execution_count": null,
   "outputs": [],
   "source": [
    "s='hello,Python'\n",
    "print(s.replace('Python','java'))\n",
    "\n",
    "s1='hello,Python,Python,Python'\n",
    "print(s1.replace('Python','java'))\n",
    "\n",
    "print(s1.replace('Python','java',2))\n",
    "\n",
    "lst=['hello','java','python']\n",
    "print('|'.join(lst))\n",
    "\n",
    "lst=['hello','java','python']  #列表\n",
    "print(' '.join(lst))\n",
    "\n",
    "tup=('hello','java','python') #元组\n",
    "print(' '.join(tup))\n",
    "\n",
    "print('*'.join('python'))"
   ],
   "metadata": {
    "collapsed": false
   }
  },
  {
   "cell_type": "markdown",
   "source": [
    "### 字符串的比较\n",
    "\n",
    "字符串的比较操作：\n",
    "\n",
    "运算符：>，<=，<，<=，==，!=\n",
    "\n",
    "比较规则：首先比较两个字符串中的第一个字符，如果相等则继续比较下一个字符，以此比较下去，直到两个字符串中的字符不相等时，其比较结果就是两个字符串的比较结果，两个字符串中的所有后续字符将不再被比较；\n",
    "\n",
    "比较原理：两个以上字符进行比较时，比较的是其ordinal value(原始值)，调用内置函数ord可以得到指定字符的ordinal value。与内置函数ord对应的是内置函数chr，调用内置函数chr时指定ordinal value可以得到其对应的字符。"
   ],
   "metadata": {
    "collapsed": false
   }
  },
  {
   "cell_type": "code",
   "execution_count": null,
   "outputs": [],
   "source": [
    "print('apple'>'app')  # True\n",
    "print('apple'>'banana')  # False\n",
    "print(ord('a'),ord('b'))  # 获取字符的原始值   97 98\n",
    "print(ord('马'))   # 39532\n",
    "print(chr(97),chr(98))  # 获得原始值所对应的字符  a b\n",
    "\n",
    "print(chr(39532))   # 马\n",
    "\n",
    "#== 比较的是value；is比较的是id(内存地址)是否相等\n",
    "a=b='python'\n",
    "c='python'\n",
    "print(a==b)  # True\n",
    "print(b==c)    # True\n",
    "print(a==c)   # True\n",
    "\n",
    "print(a is b)   # True\n",
    "print(a is c)    # True\n",
    "print(b is c)     # True\n",
    "\n",
    "print(id(a))   # True  1920823049840\n",
    "print(id(c))   # True   1920823049840\n",
    "print(id(a))    # True   1920823049840"
   ],
   "metadata": {
    "collapsed": false
   }
  },
  {
   "cell_type": "markdown",
   "source": [
    "### 字符串的切片操作\n",
    "字符串是不可变类型，不具备增删改操作，切片操作将产生新的对象\n",
    "\n",
    "切片：\n",
    "`[start:end:step]`  步长是以索引为单位的"
   ],
   "metadata": {
    "collapsed": false
   }
  },
  {
   "cell_type": "code",
   "execution_count": null,
   "outputs": [],
   "source": [
    "s='hello,python'\n",
    "s1=s[:5]   # 由于没有指定起始位置，默认从索引值0\n",
    "s2=s[6:]\n",
    "s3='!'\n",
    "ss=s1+s3+s2\n",
    "\n",
    "print(s1)\n",
    "print(s2)\n",
    "print(ss)\n",
    "\n",
    "print(id(s1),type(s1))\n",
    "print(id(s2),type(s2))\n",
    "print(id(s3),type(s3))\n",
    "print(id(ss),type(ss))\n",
    "\n",
    "s='hello,python'\n",
    "print(s[1:5:1])   # ello   从索引为1开始到索引为5，不包含索引为5的，步长为1；\n",
    "\n",
    "print(s[::2])  # 索引为0，2，4，6，8，10\n",
    "\t\t\t\t# hlopto\n",
    "\n",
    "print(s[::-1])   # 输出：nohtyp,olleh\n",
    "# 默认从从字符串的最后一个元素开始，到字符串的第一个元素\n",
    "\n",
    "print(s[-6::1])   # python"
   ],
   "metadata": {
    "collapsed": false
   }
  },
  {
   "cell_type": "markdown",
   "source": [
    "### 格式化字符串\n",
    "字符串的拼接格式\n",
    "\n",
    "两种占位符：`%`和`{}`\n",
    "\n",
    "%作占位符：%s为字符串，%i或%d为整数，%f为浮点数。"
   ],
   "metadata": {
    "collapsed": false
   }
  },
  {
   "cell_type": "code",
   "execution_count": null,
   "outputs": [],
   "source": [
    "# %做占位符\n",
    "name='张三'\n",
    "age=3\n",
    "print('我叫%s，今年%d岁' % (name,age))"
   ],
   "metadata": {
    "collapsed": false
   }
  },
  {
   "cell_type": "markdown",
   "source": [
    "{}作占位符"
   ],
   "metadata": {
    "collapsed": false
   }
  },
  {
   "cell_type": "code",
   "execution_count": null,
   "outputs": [],
   "source": [
    "# {}做占位符\n",
    "name='张三'\n",
    "age=3\n",
    "print('我叫{0}，今年{1}岁'.format(name,age))\n",
    "# f-string格式\n",
    "print(f'我叫{name}，今年{age}岁')"
   ],
   "metadata": {
    "collapsed": false
   }
  },
  {
   "cell_type": "markdown",
   "source": [
    "#### 占位符还可以表示精度和宽度\n",
    "宽度代表位数，比如%10d，表示10位数，不足10位前面用`空格`填充，超过10位也不会截断"
   ],
   "metadata": {
    "collapsed": false
   }
  },
  {
   "cell_type": "code",
   "execution_count": 14,
   "outputs": [
    {
     "name": "stdout",
     "output_type": "stream",
     "text": [
      "        66\n",
      "3.141593\n",
      "3.142\n",
      "     3.142\n",
      "3.1415926\n",
      "3.14\n",
      "3.142\n",
      "     3.142\n"
     ]
    }
   ],
   "source": [
    "# %做占位符\n",
    "print('%10d' % 66)  # 10 表示的是宽度\n",
    "\n",
    "print('%f' % 3.1415926)\n",
    "print('%.3f' % 3.1415926)\n",
    "print('%10.3f' % 3.1415926) # 宽度为10，精度为小数点后3位\n",
    "\n",
    "# {}做占位符\n",
    "print('{0}'.format(3.1415926))\n",
    "\n",
    "print('{0:.3}'.format(3.1415926))  # 表示总共3位数\n",
    "\n",
    "print('{0:.3f}'.format(3.1415926))\n",
    "\n",
    "print('{0:10.3f}'.format(3.1415926)) # 宽度为10位，保留三位小数"
   ],
   "metadata": {
    "collapsed": false,
    "ExecuteTime": {
     "start_time": "2023-04-28T16:10:30.491096Z",
     "end_time": "2023-04-28T16:10:30.507796Z"
    }
   }
  },
  {
   "cell_type": "markdown",
   "source": [
    "### 字符串的编码转化\n",
    "编码与解码的方式\n",
    "\n",
    "编码：将字符串转化为二进制数据(bytes)\n",
    "解码：将bytes类型的数据转化成字符串类型"
   ],
   "metadata": {
    "collapsed": false
   }
  },
  {
   "cell_type": "code",
   "execution_count": null,
   "outputs": [],
   "source": [
    "# 编码格式\n",
    "s='天涯共此时'\n",
    "print(s.encode(encoding='gbk'))  # 在gbk这种编码格式中一个中文占2个字节\n",
    "print(s.encode(encoding='utf-8'))  # 在utf-8这种编码格式中一个中文占3个字节\n",
    "\n",
    "# 解码格式\n",
    "byte=s.encode(encoding='gbk')\n",
    "print(byte.decode(encoding='gbk'))  # byte代表的是二进制数据\n",
    "\n",
    "byte=s.encode(encoding='utf-8')\n",
    "print(byte.decode(encoding='utf-8'))  # byte代表的是二进制数据"
   ],
   "metadata": {
    "collapsed": false
   }
  }
 ],
 "metadata": {
  "kernelspec": {
   "display_name": "Python 3",
   "language": "python",
   "name": "python3"
  },
  "language_info": {
   "codemirror_mode": {
    "name": "ipython",
    "version": 2
   },
   "file_extension": ".py",
   "mimetype": "text/x-python",
   "name": "python",
   "nbconvert_exporter": "python",
   "pygments_lexer": "ipython2",
   "version": "2.7.6"
  }
 },
 "nbformat": 4,
 "nbformat_minor": 0
}
