{
 "cells": [
  {
   "cell_type": "markdown",
   "source": [
    "## 数据类型转换"
   ],
   "metadata": {
    "collapsed": false
   }
  },
  {
   "cell_type": "markdown",
   "source": [
    "### 为什么进行数据转换"
   ],
   "metadata": {
    "collapsed": false
   }
  },
  {
   "cell_type": "code",
   "execution_count": null,
   "outputs": [],
   "source": [
    "# 数据类型转换,将不同的数据类型的数据拼接在一起；\n",
    "name = '张三'\n",
    "age = 20\n",
    "print(type(name), type(age))  # 数据类型不同\n",
    "# print('我叫' + name + '今年,' + age + '岁')  # 报错，类型不同\n",
    "print('我叫' + name + ',今年' + str(age) + '岁')  # 加号为连接符"
   ],
   "metadata": {
    "collapsed": false,
    "ExecuteTime": {
     "start_time": "2023-04-26T00:39:55.649702Z",
     "end_time": "2023-04-26T00:39:55.657786Z"
    }
   }
  },
  {
   "cell_type": "markdown",
   "source": [
    "### str()函数将其他类型转化成str类型"
   ],
   "metadata": {
    "collapsed": false
   }
  },
  {
   "cell_type": "code",
   "execution_count": null,
   "outputs": [],
   "source": [
    "print('--------------str()函数将其他类型转化成str类型----------')\n",
    "i1 = 10\n",
    "f1 = 198.9\n",
    "b1 = False\n",
    "print(type(i1), type(f1), type(b1))\n",
    "print(type(str(i1)), type(str(f1)), type(str(b1)))"
   ],
   "metadata": {
    "collapsed": false,
    "ExecuteTime": {
     "start_time": "2023-04-26T00:53:08.364149Z",
     "end_time": "2023-04-26T00:53:08.370216Z"
    }
   }
  },
  {
   "cell_type": "markdown",
   "source": [
    "### int()函数将其他类型转化为int类型"
   ],
   "metadata": {
    "collapsed": false
   }
  },
  {
   "cell_type": "code",
   "execution_count": null,
   "outputs": [],
   "source": [
    "print('-----------int()函数将其他类型转化为int类型--------')\n",
    "# 文字类与小数类的字符串不能转化为int；浮点数转化为int,末尾为0\n",
    "s1 = '128'\n",
    "f1 = 1.595\n",
    "s2 = '77.889'\n",
    "b1 = True\n",
    "s3 = 'hello'\n",
    "print(type(s1), type(f1), type(s2), type(b1), type(s3))\n",
    "print(int(s1), type(int(s1)))  # 将字符串转化为整形，字符串为整数\n",
    "print(int(f1), type(int(f1)))  # 将float转成int类型，截取整数\n",
    "# print(int(s2), type(int(s2)))  # 报错，字符串内为小数串\n",
    "print(int(b1), type(int(b1)))\n",
    "# print(int(s3), type(int(s3)))  # 字符串内为字母，不能转为int"
   ],
   "metadata": {
    "collapsed": false
   }
  },
  {
   "cell_type": "markdown",
   "source": [
    "### float()函数将其他类型转化为float型"
   ],
   "metadata": {
    "collapsed": false
   }
  },
  {
   "cell_type": "code",
   "execution_count": null,
   "outputs": [],
   "source": [
    "print('-----------float()函数将其他类型转化为float型------------')\n",
    "# 文字类无法转化为浮点型；整数转成浮点数，末尾为.0\n",
    "s1 = 128\n",
    "f1 = 1.595\n",
    "s2 = '77.889'\n",
    "b1 = False\n",
    "s3 = 'hello'\n",
    "print(type(s1), type(f1), type(s2), type(b1), type(s3))\n",
    "print(float(s1), type(float(s1)))\n",
    "print(float(f1), type(float(f1)))\n",
    "print(float(s2), type(float(s2)))\n",
    "print(float(b1), type(float(b1)))\n",
    "# print(float(s3), type(float(s3)))"
   ],
   "metadata": {
    "collapsed": false,
    "ExecuteTime": {
     "start_time": "2023-04-26T00:51:03.834746Z",
     "end_time": "2023-04-26T00:51:03.842644Z"
    }
   }
  },
  {
   "cell_type": "code",
   "execution_count": null,
   "outputs": [],
   "source": [],
   "metadata": {
    "collapsed": false
   }
  }
 ],
 "metadata": {
  "kernelspec": {
   "display_name": "Python 3",
   "language": "python",
   "name": "python3"
  },
  "language_info": {
   "codemirror_mode": {
    "name": "ipython",
    "version": 2
   },
   "file_extension": ".py",
   "mimetype": "text/x-python",
   "name": "python",
   "nbconvert_exporter": "python",
   "pygments_lexer": "ipython2",
   "version": "2.7.6"
  }
 },
 "nbformat": 4,
 "nbformat_minor": 0
}
