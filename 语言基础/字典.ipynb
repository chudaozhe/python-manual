{
 "cells": [
  {
   "cell_type": "markdown",
   "source": [
    "## 字典"
   ],
   "metadata": {
    "collapsed": false
   }
  },
  {
   "cell_type": "markdown",
   "source": [
    "是python内置的数据结构之一，与列表一样是一个可变序列(数据结构可执行增删改操作)；不可变序列：整数、字符串(不进行增删改操作)\n",
    "\n",
    "以键值对的方式存储数据，字典是一个无序的序列；键不可重复。"
   ],
   "metadata": {
    "collapsed": false
   }
  },
  {
   "cell_type": "markdown",
   "source": [
    "### 字典的原理"
   ],
   "metadata": {
    "collapsed": false
   }
  },
  {
   "cell_type": "markdown",
   "source": [
    "实现原理：数据在字典中存储的时候会进行哈希算法，将key进行哈希计算存储位置，所以key必须是一个不可变序列，根据key查找value所在的位置"
   ],
   "metadata": {
    "collapsed": false
   }
  },
  {
   "cell_type": "markdown",
   "source": [
    "### 字典的创建\n",
    "1.使用花括号{}"
   ],
   "metadata": {
    "collapsed": false
   }
  },
  {
   "cell_type": "code",
   "execution_count": 1,
   "outputs": [
    {
     "name": "stdout",
     "output_type": "stream",
     "text": [
      "{'张三': 100, '李四': 98, '王五': 45} {} {}\n"
     ]
    }
   ],
   "source": [
    "dict1 = {'张三':100,'李四':98,'王五':45}\n",
    "#空字典：\n",
    "dict2 = {}\n",
    "dict3 = dict()\n",
    "print(dict1, dict2, dict3)"
   ],
   "metadata": {
    "collapsed": false,
    "ExecuteTime": {
     "start_time": "2023-04-27T21:40:07.626393Z",
     "end_time": "2023-04-27T21:40:07.636290Z"
    }
   }
  },
  {
   "cell_type": "markdown",
   "source": [
    "2.使用内置函数dict()"
   ],
   "metadata": {
    "collapsed": false
   }
  },
  {
   "cell_type": "code",
   "execution_count": 2,
   "outputs": [
    {
     "name": "stdout",
     "output_type": "stream",
     "text": [
      "{'name': 'jack', 'age': 20}\n"
     ]
    }
   ],
   "source": [
    "dict1 = dict(name='jack',age=20)\n",
    "print(dict1)"
   ],
   "metadata": {
    "collapsed": false,
    "ExecuteTime": {
     "start_time": "2023-04-27T20:39:16.752689Z",
     "end_time": "2023-04-27T20:39:16.785891Z"
    }
   }
  },
  {
   "cell_type": "markdown",
   "source": [
    "### 字典的查询操作"
   ],
   "metadata": {
    "collapsed": false
   }
  },
  {
   "cell_type": "markdown",
   "source": [
    "字典中元素的获取：根据键获取值"
   ],
   "metadata": {
    "collapsed": false
   }
  },
  {
   "cell_type": "markdown",
   "source": [
    "1.[]     举例：`score['张三']`\n",
    "2.get()方法     举例：`score.get('张三',66)` # 如果张三不存在则返回默认值66\n",
    "\n",
    "二者取值的区别：\n",
    "[]如果字典中不存在指定的key,抛出keyError异常\n",
    "get()方法取值，如果字典中不存在指定的key,并不会抛出KeyError,而是返回None,可以通过参数设置默认的value，以便指定的key不存在返回"
   ],
   "metadata": {
    "collapsed": false
   }
  },
  {
   "cell_type": "markdown",
   "source": [
    "key值判断："
   ],
   "metadata": {
    "collapsed": false
   }
  },
  {
   "cell_type": "code",
   "execution_count": 3,
   "outputs": [
    {
     "name": "stdout",
     "output_type": "stream",
     "text": [
      "True\n",
      "False\n"
     ]
    }
   ],
   "source": [
    "#in 指定的key在字典中存在返回True;\n",
    "#not in 指定的key在字典中不存在返回True\n",
    "score = {'张三':100,'李四':98,'王五':45}\n",
    "print('张三' in score)\n",
    "print('张三' not in score)"
   ],
   "metadata": {
    "collapsed": false,
    "ExecuteTime": {
     "start_time": "2023-04-27T20:45:04.902619Z",
     "end_time": "2023-04-27T20:45:04.922294Z"
    }
   }
  },
  {
   "cell_type": "markdown",
   "source": [
    "#### keys()----获取字典中所有的key"
   ],
   "metadata": {
    "collapsed": false
   }
  },
  {
   "cell_type": "code",
   "execution_count": null,
   "outputs": [],
   "source": [
    "score = {'张三':100,'李四':98,'王五':45}\n",
    "key = score.keys()\n",
    "print(key)\n",
    "print(type(key))\n",
    "print(list(key))"
   ],
   "metadata": {
    "collapsed": false
   }
  },
  {
   "cell_type": "markdown",
   "source": [
    "#### values()-----获取字典中所有的value"
   ],
   "metadata": {
    "collapsed": false
   }
  },
  {
   "cell_type": "code",
   "execution_count": null,
   "outputs": [],
   "source": [
    "score = {'张三':100,'李四':98,'王五':45}\n",
    "value = score.values()\n",
    "print(value)\n",
    "print(type(value))"
   ],
   "metadata": {
    "collapsed": false
   }
  },
  {
   "cell_type": "markdown",
   "source": [
    "#### items()------获取字典中所有的key，value对"
   ],
   "metadata": {
    "collapsed": false
   }
  },
  {
   "cell_type": "code",
   "execution_count": null,
   "outputs": [],
   "source": [
    "score = {'张三':100,'李四':98,'王五':45}\n",
    "ii = score.items()\n",
    "print(ii)\n",
    "print(type(ii))"
   ],
   "metadata": {
    "collapsed": false
   }
  },
  {
   "cell_type": "markdown",
   "source": [
    "#### 字典元素的遍历"
   ],
   "metadata": {
    "collapsed": false
   }
  },
  {
   "cell_type": "code",
   "execution_count": 4,
   "outputs": [
    {
     "name": "stdout",
     "output_type": "stream",
     "text": [
      "张三 : 100 or 100\n",
      "李四 : 98 or 98\n",
      "王五 : 45 or 45\n"
     ]
    }
   ],
   "source": [
    "# 获取的是键,其中key是自定义变量\n",
    "score = {'张三':100,'李四':98,'王五':45}\n",
    "for key in score:\n",
    "    print(key, ':', score[key], 'or', score.get(key))"
   ],
   "metadata": {
    "collapsed": false,
    "ExecuteTime": {
     "start_time": "2023-04-27T20:50:56.311533Z",
     "end_time": "2023-04-27T20:50:56.344010Z"
    }
   }
  },
  {
   "cell_type": "markdown",
   "source": [
    "### 字典元素的增删改操作"
   ],
   "metadata": {
    "collapsed": false
   }
  },
  {
   "cell_type": "markdown",
   "source": [
    "#### 字典元素的删除\n",
    "del 和 clear"
   ],
   "metadata": {
    "collapsed": false
   }
  },
  {
   "cell_type": "code",
   "execution_count": 5,
   "outputs": [
    {
     "name": "stdout",
     "output_type": "stream",
     "text": [
      "{'李四': 98, '王五': 45}\n",
      "{}\n"
     ]
    }
   ],
   "source": [
    "score = {'张三':100,'李四':98,'王五':45}\n",
    "del score['张三']   # 删除指定的键值对\n",
    "print(score)\n",
    "score.clear() # 清空字典中的元素\n",
    "print(score)"
   ],
   "metadata": {
    "collapsed": false,
    "ExecuteTime": {
     "start_time": "2023-04-27T20:54:29.527363Z",
     "end_time": "2023-04-27T20:54:29.555431Z"
    }
   }
  },
  {
   "cell_type": "markdown",
   "source": [
    "#### 字典元素的新增\n",
    "`score['jack']=90`\n",
    "\n",
    "也可以修改元素的值：`score['李四']=60`"
   ],
   "metadata": {
    "collapsed": false
   }
  },
  {
   "cell_type": "code",
   "execution_count": null,
   "outputs": [],
   "source": [
    "score = {'张三':100,'李四':98,'王五':45}\n",
    "score['小二'] = 90\n",
    "print(score)"
   ],
   "metadata": {
    "collapsed": false
   }
  },
  {
   "cell_type": "markdown",
   "source": [
    "### 字典的特点"
   ],
   "metadata": {
    "collapsed": false
   }
  },
  {
   "cell_type": "markdown",
   "source": [
    "1.字典中的所有元素都是一个key-value对，key不可以重复，value可以重复；\n",
    "\n",
    "2.字典中的元素是无序的；\n",
    "\n",
    "3.字典中的key必须是不可变对象；\n",
    "\n",
    "4.字典也可以根据需要动态地伸缩\n",
    "\n",
    "5.字典会浪费较大的内存，是一种使用空间换时间的数据结构"
   ],
   "metadata": {
    "collapsed": false
   }
  },
  {
   "cell_type": "markdown",
   "source": [
    "#### 字典推导式\n",
    "\n",
    "字典生成式：\n",
    "\n",
    "内置函数zip()：用于将可迭代的对象(可以使用for in循环遍历的对象)作为参数，将对象中对应的元素打包成一个元组，然后返回由这些元组组成的列表"
   ],
   "metadata": {
    "collapsed": false
   }
  },
  {
   "cell_type": "code",
   "execution_count": 12,
   "outputs": [
    {
     "name": "stdout",
     "output_type": "stream",
     "text": [
      "[('Fruits', 96), ('Book', 78), ('Other', 85)]\n",
      "{'Fruits': 96, 'Book': 78, 'Other': 85}\n",
      "{'FRUITS': 96, 'BOOK': 78, 'OTHER': 85}\n"
     ]
    }
   ],
   "source": [
    "keys = ['Fruits','Book','Other']\n",
    "values = [96,78,85]\n",
    "\n",
    "list1 = zip(keys, values)\n",
    "print(list(list1))\n",
    "\n",
    "dict1={k2:v2 for k2, v2 in zip(keys, values)}\n",
    "print(dict1)\n",
    "\n",
    "#.upper() 转大写\n",
    "dict2={k3.upper():v3 for k3, v3 in zip(keys, values)}\n",
    "print(dict2)"
   ],
   "metadata": {
    "collapsed": false,
    "ExecuteTime": {
     "start_time": "2023-04-27T21:16:06.539632Z",
     "end_time": "2023-04-27T21:16:06.551621Z"
    }
   }
  },
  {
   "cell_type": "code",
   "execution_count": null,
   "outputs": [],
   "source": [],
   "metadata": {
    "collapsed": false
   }
  }
 ],
 "metadata": {
  "kernelspec": {
   "display_name": "Python 3",
   "language": "python",
   "name": "python3"
  },
  "language_info": {
   "codemirror_mode": {
    "name": "ipython",
    "version": 2
   },
   "file_extension": ".py",
   "mimetype": "text/x-python",
   "name": "python",
   "nbconvert_exporter": "python",
   "pygments_lexer": "ipython2",
   "version": "2.7.6"
  }
 },
 "nbformat": 4,
 "nbformat_minor": 0
}
