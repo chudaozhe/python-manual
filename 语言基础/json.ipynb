{
 "cells": [
  {
   "cell_type": "markdown",
   "source": [
    "## json字符串转对象\n",
    "\n",
    "`json.loads()`或`json.JSONDecoder().decode()`"
   ],
   "metadata": {
    "collapsed": false
   }
  },
  {
   "cell_type": "markdown",
   "source": [
    "### 方法1"
   ],
   "metadata": {
    "collapsed": false
   }
  },
  {
   "cell_type": "code",
   "execution_count": 6,
   "metadata": {
    "collapsed": true,
    "ExecuteTime": {
     "start_time": "2023-12-27T23:46:51.248707Z",
     "end_time": "2023-12-27T23:46:51.338171Z"
    }
   },
   "outputs": [
    {
     "name": "stdout",
     "output_type": "stream",
     "text": [
      "1\n",
      "['1', '2']\n"
     ]
    }
   ],
   "source": [
    "import json\n",
    "\n",
    "str_value = '{\"key1\":1, \"key2\":\"22\", \"key3\":[\"1\", \"2\"], \"key4\":{\"key44\":\"444\"}}'\n",
    "data_dict = json.loads(str_value)\n",
    "\n",
    "print(data_dict.get(\"key1\", 11))\n",
    "print(data_dict[\"key3\"])\n"
   ]
  },
  {
   "cell_type": "markdown",
   "source": [
    "### 方法2"
   ],
   "metadata": {
    "collapsed": false
   }
  },
  {
   "cell_type": "code",
   "execution_count": 7,
   "outputs": [
    {
     "name": "stdout",
     "output_type": "stream",
     "text": [
      "{'key': 'value'}\n"
     ]
    }
   ],
   "source": [
    "import json\n",
    "\n",
    "json_str = '{\"key\": \"value\"}'\n",
    "data = json.JSONDecoder().decode(json_str)\n",
    "print(data)\n"
   ],
   "metadata": {
    "collapsed": false,
    "ExecuteTime": {
     "start_time": "2023-12-27T23:46:51.281420Z",
     "end_time": "2023-12-27T23:46:51.353116Z"
    }
   }
  },
  {
   "cell_type": "markdown",
   "source": [
    "## 对象转json字符串\n",
    "`json.dumps()`或`json.JSONEncoder().encode()`"
   ],
   "metadata": {
    "collapsed": false
   }
  },
  {
   "cell_type": "markdown",
   "source": [
    "### 方法1"
   ],
   "metadata": {
    "collapsed": false
   }
  },
  {
   "cell_type": "code",
   "execution_count": 8,
   "outputs": [
    {
     "name": "stdout",
     "output_type": "stream",
     "text": [
      "{\"key1\": 1, \"key2\": \"22\", \"key3\": [\"1\", \"2\"], \"key4\": {\"key44\": \"444\"}}\n"
     ]
    }
   ],
   "source": [
    "import json\n",
    "\n",
    "data_dict = {\"key1\":1, \"key2\":\"22\", \"key3\":[\"1\", \"2\"], \"key4\":{\"key44\":\"444\"}}\n",
    "print(json.dumps(data_dict))\n"
   ],
   "metadata": {
    "collapsed": false,
    "ExecuteTime": {
     "start_time": "2023-12-27T23:46:51.303278Z",
     "end_time": "2023-12-27T23:46:51.354088Z"
    }
   }
  },
  {
   "cell_type": "markdown",
   "source": [
    "### 方法2"
   ],
   "metadata": {
    "collapsed": false
   }
  },
  {
   "cell_type": "code",
   "execution_count": 9,
   "outputs": [
    {
     "name": "stdout",
     "output_type": "stream",
     "text": [
      "{\"key\": \"value\"}\n"
     ]
    }
   ],
   "source": [
    "data = {\"key\": \"value\"}\n",
    "json_str = json.JSONEncoder().encode(data)\n",
    "print(json_str)"
   ],
   "metadata": {
    "collapsed": false,
    "ExecuteTime": {
     "start_time": "2023-12-27T23:46:51.319074Z",
     "end_time": "2023-12-27T23:46:51.354880Z"
    }
   }
  },
  {
   "cell_type": "code",
   "execution_count": 9,
   "outputs": [],
   "source": [],
   "metadata": {
    "collapsed": false,
    "ExecuteTime": {
     "start_time": "2023-12-27T23:46:51.335103Z",
     "end_time": "2023-12-27T23:46:51.355300Z"
    }
   }
  },
  {
   "cell_type": "markdown",
   "source": [
    "## 标题"
   ],
   "metadata": {
    "collapsed": false
   }
  },
  {
   "cell_type": "code",
   "execution_count": 9,
   "outputs": [],
   "source": [],
   "metadata": {
    "collapsed": false,
    "ExecuteTime": {
     "start_time": "2023-12-27T23:46:51.339977Z",
     "end_time": "2023-12-27T23:46:51.529983Z"
    }
   }
  }
 ],
 "metadata": {
  "kernelspec": {
   "display_name": "Python 3",
   "language": "python",
   "name": "python3"
  },
  "language_info": {
   "codemirror_mode": {
    "name": "ipython",
    "version": 2
   },
   "file_extension": ".py",
   "mimetype": "text/x-python",
   "name": "python",
   "nbconvert_exporter": "python",
   "pygments_lexer": "ipython2",
   "version": "2.7.6"
  }
 },
 "nbformat": 4,
 "nbformat_minor": 0
}
