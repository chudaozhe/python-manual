{
 "cells": [
  {
   "cell_type": "markdown",
   "source": [
    "## 模块\n",
    "模块：Modules\n",
    "\n",
    "函数与模块的关系：一个模块中可以包含N多个函数；\n",
    "\n",
    "在python中一个扩展名为.py的文件就是一个模块；\n",
    "\n",
    "使用模块的好处：方便其它程序和脚本的导入并使用；避免函数名和变量名冲突；提高代码的可维护性与可重用性。"
   ],
   "metadata": {
    "collapsed": false
   }
  },
  {
   "cell_type": "markdown",
   "source": [
    "### 模块的导入\n",
    "创建模块：新建一个.py文件，名称尽量不要与python自带的标准模块名称相同\n",
    "\n",
    "导入模块：\n",
    "```\n",
    "import 模块名称 [as 别名]\n",
    "\n",
    "from 模块名称 import 函数/变量/类\n",
    "```"
   ],
   "metadata": {
    "collapsed": false
   }
  },
  {
   "cell_type": "code",
   "execution_count": 1,
   "outputs": [
    {
     "name": "stdout",
     "output_type": "stream",
     "text": [
      "3.141592653589793\n",
      "8.0\n",
      "10\n",
      "9\n",
      "3.141592653589793\n",
      "8.0\n"
     ]
    }
   ],
   "source": [
    "import math\n",
    "print(math.pi)\n",
    "print(math.pow(2,3))\n",
    "print(math.ceil(9.001))\n",
    "print(math.floor(9.999))\n",
    "\n",
    "#或者这样写\n",
    "from math import pi\n",
    "from math import pow\n",
    "print(pi)\n",
    "print(pow(2,3))"
   ],
   "metadata": {
    "collapsed": false,
    "ExecuteTime": {
     "start_time": "2023-04-29T15:27:44.101290Z",
     "end_time": "2023-04-29T15:27:44.112163Z"
    }
   }
  },
  {
   "cell_type": "markdown",
   "source": [
    "导入自定义模块"
   ],
   "metadata": {
    "collapsed": false
   }
  },
  {
   "cell_type": "code",
   "execution_count": 2,
   "outputs": [
    {
     "name": "stdout",
     "output_type": "stream",
     "text": [
      "5\n",
      "2.5\n",
      "5\n",
      "2.5\n"
     ]
    }
   ],
   "source": [
    "#新建名为 calc.py 的模块，写入内容为\n",
    "def add(a,b):\n",
    "    return a+b\n",
    "def div(c,d):\n",
    "    return (c/d)\n",
    "\n",
    "#再新建文件.py,引入自定义的模块\n",
    "import calc\n",
    "print(calc.add(2, 3))\n",
    "print(calc.div(10,4))\n",
    "\n",
    "#也可以这样写：\n",
    "from calc import add\n",
    "from calc import div\n",
    "print(add(2,3))\n",
    "print(div(10,4))"
   ],
   "metadata": {
    "collapsed": false,
    "ExecuteTime": {
     "start_time": "2023-04-29T15:30:21.942695Z",
     "end_time": "2023-04-29T15:30:21.956759Z"
    }
   }
  },
  {
   "cell_type": "markdown",
   "source": [
    "### 以主程序的方式运行\n",
    "在每个的模块的定义中都包括一个记录模块名称的变量__name__，程序可以检查该变量，以确定他们在哪个模块中执行。如果一个模块不是被导入到其它程序中执行，那么他可能在解释器的顶级模块中执行。顶级模块的__name__变量值为__main__\n",
    "```\n",
    "if __name__ == '__main__':\n",
    "\tpass\n",
    "# 输入“main”，回车就会输出  if __name__ == '__main__':\n",
    "```"
   ],
   "metadata": {
    "collapsed": false
   }
  },
  {
   "cell_type": "code",
   "execution_count": 3,
   "outputs": [
    {
     "name": "stdout",
     "output_type": "stream",
     "text": [
      "34\n",
      "30\n"
     ]
    }
   ],
   "source": [
    "if __name__ == '__main__':   # 只有当运行calc2的时候才会输出“print”\n",
    "    print(add(10,24))\n",
    "\n",
    "#再新建另一个文件demo0:\n",
    "import calc\n",
    "print(calc.add(10,20))   # 不会再输出导入的模块calc2的print..."
   ],
   "metadata": {
    "collapsed": false,
    "ExecuteTime": {
     "start_time": "2023-04-29T15:36:30.045880Z",
     "end_time": "2023-04-29T15:36:30.061621Z"
    }
   }
  },
  {
   "cell_type": "markdown",
   "source": [
    "### python中的包\n",
    "包是一个分层次的目录结构，它将一组功能相近的模块组织在一个目录下；\n",
    "\n",
    "作用：代码规范、避免模块名冲突；\n",
    "\n",
    "包与目录的区别：包包含init.py文件的目录称为包；目录里通常不包含init.py文件；\n",
    "\n",
    "Python程序下有多个包，每个包下有与之对应的多个模块，每个模块中就有类，函数属性等...\n",
    "\n",
    "包的导入：\n",
    "```\n",
    "import 包名.模块名\n",
    "```"
   ],
   "metadata": {
    "collapsed": false
   }
  },
  {
   "cell_type": "code",
   "execution_count": 4,
   "outputs": [
    {
     "name": "stdout",
     "output_type": "stream",
     "text": [
      "1\n",
      "1\n"
     ]
    }
   ],
   "source": [
    "import package1.module1\n",
    "print(package1.module1.a)\n",
    "\n",
    "#或者可以这样写\n",
    "import package1.module1 as KK  # KK是package1.module1的别名\n",
    "print(KK.a)"
   ],
   "metadata": {
    "collapsed": false,
    "ExecuteTime": {
     "start_time": "2023-04-29T15:44:15.157184Z",
     "end_time": "2023-04-29T15:44:15.176570Z"
    }
   }
  },
  {
   "cell_type": "markdown",
   "source": [
    "导入包的模块时注意事项：\n",
    "```\n",
    "使用import导入时只能跟包名或模块名\n",
    "import module\n",
    "import package\n",
    "\n",
    "使用from ... import导入时可以跟包，模块，函数，变量\n",
    "from package import module1\n",
    "from package.module import a\n",
    "```"
   ],
   "metadata": {
    "collapsed": false
   }
  },
  {
   "cell_type": "markdown",
   "source": [
    "### python中常见的内置模块\n",
    "\n",
    "| 模块名      | 描述                              |\n",
    "|----------|---------------------------------|\n",
    "| sys      | 与python解释器及其环境操作相关的标准库          |\n",
    "| time     | 提供与时间相关的各种函数的标准库                |\n",
    "| os       | 提供了访问操作系统服务功能的标准库               |\n",
    "| calender | 提供了与日期相关的各种函数的标准库               |\n",
    "| urllib   | 用于读取来自网上的（服务器）的数据标准库            |\n",
    "| json     | 用于使用JSON序列化和返序列化对象              |\n",
    "| re       | 用于在字符串中执行正则表达式匹配和替换             |\n",
    "| math     | 提供标准算数运算函数的标准库                  |\n",
    "| decimal  | 用于进行精确控制运算精度、有效数位和四舍五入操作的的十进制运算 |\n",
    "| logging  | 提供了灵活的记录事件、错误、警告和调试信息等日志的信息功能。  |"
   ],
   "metadata": {
    "collapsed": false
   }
  },
  {
   "cell_type": "code",
   "execution_count": 19,
   "outputs": [
    {
     "name": "stdout",
     "output_type": "stream",
     "text": [
      "28\n",
      "408\n",
      "1682755837.126272\n",
      "time.struct_time(tm_year=2023, tm_mon=4, tm_mday=29, tm_hour=16, tm_min=10, tm_sec=37, tm_wday=5, tm_yday=119, tm_isdst=0)\n",
      "b'\\n<!doctype html>\\n<html>\\n<head>\\n<meta charset=\"utf-8\">\\n<title>\\xe7\\xbb\\xb4\\xe6\\x8a\\xa4\\xe4\\xb8\\xad</title>\\n</head>\\n\\n<body>\\n<p style=\"text-align:center;\">\\xe7\\xbb\\xb4\\xe6\\x8a\\xa4\\xe4\\xb8\\xad\\xef\\xbc\\x8c\\xe7\\xbb\\x99\\xe6\\x82\\xa8\\xe5\\xb8\\xa6\\xe6\\x9d\\xa5\\xe7\\x9a\\x84\\xe4\\xb8\\x8d\\xe4\\xbe\\xbf\\xe6\\x95\\xac\\xe8\\xaf\\xb7\\xe8\\xb0\\x85\\xe8\\xa7\\xa3</p>\\n</body>\\n</html>\\n\\n'\n"
     ]
    }
   ],
   "source": [
    "# 获取对象的内存大小\n",
    "import sys\n",
    "print(sys.getsizeof(24))\n",
    "print(sys.getsizeof(str))\n",
    "# 获取时间\n",
    "import time\n",
    "print(time.time())   # 输出为秒\n",
    "print(time.localtime(time.time())) # 转为本地时间\n",
    "\n",
    "# 读取百度\n",
    "import urllib.request\n",
    "print(urllib.request.urlopen('http://test.cuiwei.net/').read())"
   ],
   "metadata": {
    "collapsed": false,
    "ExecuteTime": {
     "start_time": "2023-04-29T16:10:37.130478Z",
     "end_time": "2023-04-29T16:10:38.591632Z"
    }
   }
  },
  {
   "cell_type": "markdown",
   "source": [
    "### 第三方模块的安装与使用"
   ],
   "metadata": {
    "collapsed": false
   }
  },
  {
   "cell_type": "code",
   "execution_count": 20,
   "outputs": [
    {
     "name": "stdout",
     "output_type": "stream",
     "text": [
      "Collecting schedule\r\n",
      "  Downloading schedule-1.2.0-py2.py3-none-any.whl (11 kB)\r\n",
      "Installing collected packages: schedule\r\n",
      "Successfully installed schedule-1.2.0\r\n",
      "\r\n",
      "\u001B[1m[\u001B[0m\u001B[34;49mnotice\u001B[0m\u001B[1;39;49m]\u001B[0m\u001B[39;49m A new release of pip is available: \u001B[0m\u001B[31;49m23.0.1\u001B[0m\u001B[39;49m -> \u001B[0m\u001B[32;49m23.1.2\u001B[0m\r\n",
      "\u001B[1m[\u001B[0m\u001B[34;49mnotice\u001B[0m\u001B[1;39;49m]\u001B[0m\u001B[39;49m To update, run: \u001B[0m\u001B[32;49mpip install --upgrade pip\u001B[0m\r\n"
     ]
    }
   ],
   "source": [
    "!pip install schedule"
   ],
   "metadata": {
    "collapsed": false,
    "ExecuteTime": {
     "start_time": "2023-04-29T16:11:44.214548Z",
     "end_time": "2023-04-29T16:11:50.558648Z"
    }
   }
  },
  {
   "cell_type": "markdown",
   "source": [
    "第三方模块的使用："
   ],
   "metadata": {
    "collapsed": false
   }
  },
  {
   "cell_type": "code",
   "execution_count": 21,
   "outputs": [
    {
     "name": "stdout",
     "output_type": "stream",
     "text": [
      "哈哈，嘻嘻...\n",
      "哈哈，嘻嘻...\n",
      "哈哈，嘻嘻...\n"
     ]
    },
    {
     "ename": "KeyboardInterrupt",
     "evalue": "",
     "output_type": "error",
     "traceback": [
      "\u001B[0;31m---------------------------------------------------------------------------\u001B[0m",
      "\u001B[0;31mKeyboardInterrupt\u001B[0m                         Traceback (most recent call last)",
      "Cell \u001B[0;32mIn[21], line 11\u001B[0m\n\u001B[1;32m      9\u001B[0m \u001B[38;5;28;01mwhile\u001B[39;00m \u001B[38;5;28;01mTrue\u001B[39;00m:  \u001B[38;5;66;03m# 无线循环语句\u001B[39;00m\n\u001B[1;32m     10\u001B[0m     schedule\u001B[38;5;241m.\u001B[39mrun_pending()\n\u001B[0;32m---> 11\u001B[0m     \u001B[43mtime\u001B[49m\u001B[38;5;241;43m.\u001B[39;49m\u001B[43msleep\u001B[49m\u001B[43m(\u001B[49m\u001B[38;5;241;43m1\u001B[39;49m\u001B[43m)\u001B[49m\n",
      "\u001B[0;31mKeyboardInterrupt\u001B[0m: "
     ]
    }
   ],
   "source": [
    "import schedule\n",
    "import time\n",
    "\n",
    "def job():\n",
    "    print('哈哈，嘻嘻...')\n",
    "\n",
    "schedule.every(3).seconds.do(job)\n",
    "\n",
    "while True:  # 无线循环语句\n",
    "    schedule.run_pending()\n",
    "    time.sleep(1)"
   ],
   "metadata": {
    "collapsed": false
   }
  },
  {
   "cell_type": "markdown",
   "source": [
    "### 文件读写的原理__读取磁盘文件中的内容\n",
    "文件的读写操作俗称`IO操作`；\n",
    "\n",
    ".py文件是由解释器去执行，解释器调用操作系统资源操作磁盘上的文件，对硬盘上的文件进行读和写的操作。打开一个python文件后，应用程序的数据运行在内存中，从内存中拿取数据到应用程序叫读，向内存中输出数据叫做写。"
   ],
   "metadata": {
    "collapsed": false
   }
  },
  {
   "cell_type": "markdown",
   "source": [
    "内置函数open()创建文件对象：\n",
    "\n",
    "```\n",
    "file = open(filename [,mode,encoding])\n",
    "被创建的文件对象   要创建或打开的文件名称    打开模式默认为只读  默认文本文件txt中字符的编码格式为gbk;\n",
    "```"
   ],
   "metadata": {
    "collapsed": false
   }
  },
  {
   "cell_type": "code",
   "execution_count": 22,
   "outputs": [
    {
     "ename": "FileNotFoundError",
     "evalue": "[Errno 2] No such file or directory: 'wenben.txt'",
     "output_type": "error",
     "traceback": [
      "\u001B[0;31m---------------------------------------------------------------------------\u001B[0m",
      "\u001B[0;31mFileNotFoundError\u001B[0m                         Traceback (most recent call last)",
      "Cell \u001B[0;32mIn[22], line 1\u001B[0m\n\u001B[0;32m----> 1\u001B[0m file\u001B[38;5;241m=\u001B[39m\u001B[38;5;28;43mopen\u001B[39;49m\u001B[43m(\u001B[49m\u001B[38;5;124;43m'\u001B[39;49m\u001B[38;5;124;43mwenben.txt\u001B[39;49m\u001B[38;5;124;43m'\u001B[39;49m\u001B[43m,\u001B[49m\u001B[38;5;124;43m'\u001B[39;49m\u001B[38;5;124;43mr\u001B[39;49m\u001B[38;5;124;43m'\u001B[39;49m\u001B[43m,\u001B[49m\u001B[43mencoding\u001B[49m\u001B[38;5;241;43m=\u001B[39;49m\u001B[38;5;124;43m'\u001B[39;49m\u001B[38;5;124;43mutf-8\u001B[39;49m\u001B[38;5;124;43m'\u001B[39;49m\u001B[43m)\u001B[49m  \u001B[38;5;66;03m# 将txt的编码格式转换为.py文件默认的编码格式utf-8\u001B[39;00m\n\u001B[1;32m      2\u001B[0m \u001B[38;5;28mprint\u001B[39m(file\u001B[38;5;241m.\u001B[39mreadlines())\n\u001B[1;32m      3\u001B[0m file\u001B[38;5;241m.\u001B[39mclose()\n",
      "File \u001B[0;32m~/Library/Caches/pypoetry/virtualenvs/fastapiproject-H3ixck8a-py3.9/lib/python3.9/site-packages/IPython/core/interactiveshell.py:284\u001B[0m, in \u001B[0;36m_modified_open\u001B[0;34m(file, *args, **kwargs)\u001B[0m\n\u001B[1;32m    277\u001B[0m \u001B[38;5;28;01mif\u001B[39;00m file \u001B[38;5;129;01min\u001B[39;00m {\u001B[38;5;241m0\u001B[39m, \u001B[38;5;241m1\u001B[39m, \u001B[38;5;241m2\u001B[39m}:\n\u001B[1;32m    278\u001B[0m     \u001B[38;5;28;01mraise\u001B[39;00m \u001B[38;5;167;01mValueError\u001B[39;00m(\n\u001B[1;32m    279\u001B[0m         \u001B[38;5;124mf\u001B[39m\u001B[38;5;124m\"\u001B[39m\u001B[38;5;124mIPython won\u001B[39m\u001B[38;5;124m'\u001B[39m\u001B[38;5;124mt let you open fd=\u001B[39m\u001B[38;5;132;01m{\u001B[39;00mfile\u001B[38;5;132;01m}\u001B[39;00m\u001B[38;5;124m by default \u001B[39m\u001B[38;5;124m\"\u001B[39m\n\u001B[1;32m    280\u001B[0m         \u001B[38;5;124m\"\u001B[39m\u001B[38;5;124mas it is likely to crash IPython. If you know what you are doing, \u001B[39m\u001B[38;5;124m\"\u001B[39m\n\u001B[1;32m    281\u001B[0m         \u001B[38;5;124m\"\u001B[39m\u001B[38;5;124myou can use builtins\u001B[39m\u001B[38;5;124m'\u001B[39m\u001B[38;5;124m open.\u001B[39m\u001B[38;5;124m\"\u001B[39m\n\u001B[1;32m    282\u001B[0m     )\n\u001B[0;32m--> 284\u001B[0m \u001B[38;5;28;01mreturn\u001B[39;00m \u001B[43mio_open\u001B[49m\u001B[43m(\u001B[49m\u001B[43mfile\u001B[49m\u001B[43m,\u001B[49m\u001B[43m \u001B[49m\u001B[38;5;241;43m*\u001B[39;49m\u001B[43margs\u001B[49m\u001B[43m,\u001B[49m\u001B[43m \u001B[49m\u001B[38;5;241;43m*\u001B[39;49m\u001B[38;5;241;43m*\u001B[39;49m\u001B[43mkwargs\u001B[49m\u001B[43m)\u001B[49m\n",
      "\u001B[0;31mFileNotFoundError\u001B[0m: [Errno 2] No such file or directory: 'wenben.txt'"
     ]
    }
   ],
   "source": [
    "file=open('wenben.txt','r',encoding='utf-8')  # 将txt的编码格式转换为.py文件默认的编码格式utf-8\n",
    "print(file.readlines())\n",
    "file.close()"
   ],
   "metadata": {
    "collapsed": false
   }
  },
  {
   "cell_type": "markdown",
   "source": [
    "### 常用的文件打开模式\n",
    "文件的类型：按文件中数据的组织形式，文件分为以下两大类\n",
    "\n",
    "文本文件：存储的是普通的“字符文本”，默认为Unicode字符集，可以使用记事本程序打开；\n",
    "\n",
    "二进制文件：把数据内容用“字节”存储，无法用记事本打开，必须使用专用的软件打开，举例：MP3音频文件 .jpg图片 .doc文档等。"
   ],
   "metadata": {
    "collapsed": false
   }
  },
  {
   "cell_type": "code",
   "execution_count": null,
   "outputs": [],
   "source": [
    "# r\n",
    "file=open('123.txt','w')  # 有该文件写入内容覆盖，没有该文件则创建文件写入内容\n",
    "file.write('python')\n",
    "file.close()\n",
    "\n",
    "#有该文件且文件内容为什么都会被写入的内容覆盖掉；\n",
    "#没有该文件则会有新的文件123.txt创建，写入内容\n",
    "\n",
    "# a\n",
    "file=open('123.txt','a') # 追加内容\n",
    "file.write('python')\n",
    "file.close()\n",
    "#在已有的123.tex文件中输出结果：\n",
    "\n",
    "\n",
    "src_file=open('photo.jpg','rb')\n",
    "targt_file=open('copyphoto.jpg','wb')\n",
    "\n",
    "targt_file.write(src_file.read())\n",
    "\n",
    "src_file.close()\n",
    "targt_file.close()"
   ],
   "metadata": {
    "collapsed": false
   }
  },
  {
   "cell_type": "markdown",
   "source": [
    "| 打开模式 | 描述                                                |\n",
    "|------|---------------------------------------------------|\n",
    "| r    | 以只读模式打开文件，文件的指针将会放在文件的开头                          |\n",
    "| w    | 以只写模式打开文件，如果文件不存在则创建，如果文件存在，则覆盖原有内容，文件指针在文件的开头    |\n",
    "| a    | 以追加模式打开文件，如果文件不存在则创建，如果文件存在，则在文件末尾追加内容，文件指针在源文件末尾 |\n",
    "| b    | 以二进制文件打开文件，不能单独使用，需要与共它模式一起使用，rb,或者wb             |\n",
    "| +    | 以读写方式打开文件，不能单独使用，需要与其它模式一起使用，a+                   |"
   ],
   "metadata": {
    "collapsed": false
   }
  },
  {
   "cell_type": "markdown",
   "source": [
    "### 文件对象的常用方法"
   ],
   "metadata": {
    "collapsed": false
   }
  },
  {
   "cell_type": "markdown",
   "source": [
    "| 方法名                   | 说明                                                                                                                  |\n",
    "|-----------------------|---------------------------------------------------------------------------------------------------------------------|\n",
    "| read([size])          | 从文件中读取size个字节或字符的内容返回。若省略[size]则读取到文件末尾，即一次读取文件所有内容；注意一点的是：read会在控制器上输出。                                            |\n",
    "| readline()            | 从文本文件中读取一行内容                                                                                                        |\n",
    "| readlines()           | 把文本文件中每一行都作为独立的字符串对象，并将这些对象放入列表返回                                                                                   |\n",
    "| write(str)            | 将字符串内容写入文件                                                                                                          |\n",
    "| writelines(s_list)    | 将字符串s_list写入文本文件，不添加换行符                                                                                             |\n",
    "| seek(offset[,whence]) | 把文件指针移动到新的位置，offset表示相对于whence的位置：offset：为正往结束方向移动，为负往开始方向移动。whence不同的值代表不同的而含义：0，从文件开头计算(默认值)；1，从当前位置开始算；2，从文件尾开始算 |\n",
    "| tell()                | 返回文件指定的当前位置                                                                                                         |\n",
    "| flush()               | 把缓冲区的内容写入文件，但不关闭文件                                                                                                  |\n",
    "| close()               | 把缓冲区的内容写入文件，同时关闭文件，释放文件对象相关的资源。                                                                                     |"
   ],
   "metadata": {
    "collapsed": false
   }
  },
  {
   "cell_type": "code",
   "execution_count": 25,
   "outputs": [
    {
     "name": "stdout",
     "output_type": "stream",
     "text": [
      "\n",
      "\n",
      "\n",
      "[]\n",
      "\n",
      "\n",
      "0\n"
     ]
    }
   ],
   "source": [
    "file = open('a.txt', 'r', encoding='UTF-8')\n",
    "print(file.read())\n",
    "\n",
    "file = open('a.txt', 'r', encoding='UTF-8')\n",
    "print(file.read(2))\n",
    "\n",
    "file = open('a.txt', 'r', encoding='UTF-8')\n",
    "print(file.readline())\n",
    "\n",
    "file = open('a.txt', 'r', encoding='UTF-8')\n",
    "print(file.readlines())\n",
    "\n",
    "#写\n",
    "file = open('c.txt', 'a')\n",
    "file.write('hello') # 将字符串写入内容\n",
    "file.close() # 创建名为c.txt文件内容为“hello”\n",
    "\n",
    "file = open('c.txt', 'a')\n",
    "lst = ['java','go','python']\n",
    "file.writelines(lst)\n",
    "file.close()  # c.txt文件中内容为 “hellojavagopython”\n",
    "\n",
    "file = open('d.txt', 'r',encoding='utf-8')\n",
    "file.seek(3) # 一个中文占2个字节，光标停在“中之前”\n",
    "print(file.read())\n",
    "file.close()\n",
    "\n",
    "file = open('d.txt', 'r',encoding='utf-8')\n",
    "print(file.read())\n",
    "print(file.tell())  # 14字节\n",
    "file.close()\n",
    "\n",
    "file = open('f.txt', 'a')\n",
    "file.write('enheng')\n",
    "file.flush()  # 数据是会先写在缓存里的\n",
    "file.write('aha')\n",
    "file.close()"
   ],
   "metadata": {
    "collapsed": false,
    "ExecuteTime": {
     "start_time": "2023-04-29T16:25:28.939416Z",
     "end_time": "2023-04-29T16:25:28.951632Z"
    }
   }
  },
  {
   "cell_type": "markdown",
   "source": [
    "### with语句（上下文管理器）\n",
    "with语句可以自动管理上下文资源，不论什么原因跳出with块，都能确保文件正确的关闭，以此来达到释放资源的目的。"
   ],
   "metadata": {
    "collapsed": false
   }
  },
  {
   "cell_type": "code",
   "execution_count": 26,
   "outputs": [
    {
     "name": "stdout",
     "output_type": "stream",
     "text": [
      "enhengaha\n"
     ]
    }
   ],
   "source": [
    "with open('f.txt','r',encoding='utf-8') as file:\n",
    "    print(file.read())\n",
    "\n",
    "#open('f.txt','r',encoding='utf-8') 称为上下文表达式，对象称为上下文管理器"
   ],
   "metadata": {
    "collapsed": false,
    "ExecuteTime": {
     "start_time": "2023-04-29T16:28:49.648191Z",
     "end_time": "2023-04-29T16:28:49.688306Z"
    }
   }
  },
  {
   "cell_type": "markdown",
   "source": [
    "上下文管理器：一个类对象实现了特殊方法____enter____与____exit____,那么称类对象遵守上下文关系协议，而这个类的实例对象就称为上下文管理器。\n",
    "\n",
    "语言解释："
   ],
   "metadata": {
    "collapsed": false
   }
  },
  {
   "cell_type": "code",
   "execution_count": null,
   "outputs": [],
   "source": [
    "class MyContentMgr(object):\n",
    "    def __enter__(self):\n",
    "        print(\"__enter__方法被调用了\")\n",
    "        return self\n",
    "\n",
    "    def __exit__(self, exc_type, exc_val, exc_tb):\n",
    "        print(\"__exit__被调用执行了\")\n",
    "\n",
    "    def show(self):\n",
    "        print('show方法被调用执行了')\n",
    "\n",
    "with MyContentMgr() as file: # 相当于MycontentMgr=file\n",
    "    file.show()"
   ],
   "metadata": {
    "collapsed": false
   }
  },
  {
   "cell_type": "markdown",
   "source": [
    "建议用with语句写打开文件"
   ],
   "metadata": {
    "collapsed": false
   }
  },
  {
   "cell_type": "code",
   "execution_count": null,
   "outputs": [],
   "source": [
    "with open('789.jpg', 'rb') as src_file:\n",
    "    with open('9810.jpg','wb') as targ_file:\n",
    "        targ_file.write(src_file.read())"
   ],
   "metadata": {
    "collapsed": false
   }
  },
  {
   "cell_type": "markdown",
   "source": [
    "### os模块的常用函数\n",
    "目录操作：\n",
    "os模块是python内置的与操作系统功能和文件系统相关的模块，该模块中的语句的执行结果通常与操作系统有关，在不同的操作系统上运行，得到的结果可能不一样。\n",
    "os模块与os.path模块用于对目录或文件进行操作。"
   ],
   "metadata": {
    "collapsed": false
   }
  },
  {
   "cell_type": "code",
   "execution_count": null,
   "outputs": [],
   "source": [
    "import os\n",
    "os.system('notepad.exe') # 打开记事本应用程序\n",
    "os.system('calc.exe') # 打开计算机应运程序\n",
    "\n",
    "# 直接调用可执行文件\n",
    "os.startfile('C:\\\\Program Files (x86)\\\\Tencent\\\\QQ\\\\Bin\\\\qq.exe') # 登录应用程序qq"
   ],
   "metadata": {
    "collapsed": false
   }
  },
  {
   "cell_type": "markdown",
   "source": [
    "os模块操作目录相关函数：\n",
    "\n",
    "| 函数                              | 说明                 |\n",
    "|---------------------------------|--------------------|\n",
    "| getcwd()                        | 返回当前的工作(文件.py)目录   |\n",
    "| listdir(path)                   | 返回指定路径下的文件   和目录信息 |\n",
    "| mkdir(path[,mode])              | 创建目录               |\n",
    "| makedirs(path1/path2...[,mode]) | 创建多级目录             |\n",
    "| rmdir(path)                     | 删除目录               |\n",
    "| removedirs(path1/path2)         | 删除多级目录             |\n",
    "| chdir(path)                     | 将path设置为当前工作目录     |"
   ],
   "metadata": {
    "collapsed": false
   }
  },
  {
   "cell_type": "code",
   "execution_count": null,
   "outputs": [],
   "source": [
    "import os\n",
    "print(os.getcwd())\n",
    "\n",
    "lis = os.listdir('../jichu')  # 注意是“/”\n",
    "print(lis)\n",
    "os.mkdir('newpy')  # 默认目录路径与当前写的程序的文件在一个路径下\n",
    "\n",
    "os.makedirs('A/B/C')\n",
    "\n",
    "os.rmdir('newpy.py')\n",
    "\n",
    "os.removedirs('A/B/C')\n",
    "\n",
    "\n",
    "import os\n",
    "print(os.getcwd())\n",
    "os.chdir('E:\\\\（network）\\\\python资料及练习\\\\python学习-练习\\\\project')\n",
    "print(os.getcwd())"
   ],
   "metadata": {
    "collapsed": false
   }
  },
  {
   "cell_type": "markdown",
   "source": [
    "### os.path模块的常用方法\n",
    "\n",
    "| 函数              | 说明                                 |\n",
    "|-----------------|------------------------------------|\n",
    "| abspath(path)   | 用于获取文件或目录的绝对路径                     |\n",
    "| exists(path)    | 用于判断文件或目录是否存在，如果存在返回True,否则返回False |\n",
    "| join(path,name) | 将目录与目录或者文件名拼接起来                    |\n",
    "| splitext()      | 分离文件名和扩展名                          |\n",
    "| basename(path)  | 从一个目录中提取文件名                        |\n",
    "| split()         | 目录与文件拆分                            |\n",
    "| dirname(path)   | 从一个路径中提取文件路径，不包括文件名                |\n",
    "| isdir(path)     | 用于判断是否为路径                          |"
   ],
   "metadata": {
    "collapsed": false
   }
  },
  {
   "cell_type": "code",
   "execution_count": null,
   "outputs": [],
   "source": [
    "import os.path\n",
    "print(os.path.abspath('project'))  # 目录的绝对路径\n",
    "print(os.path.exists('jichu'),os.path.exists('calc.py'))\n",
    "print(os.path.join('E:\\\\Python','demo110.py'))\n",
    "print(os.path.split('E:\\（network）\\python资料及练习\\python学习-练习\\jichu'))  #目录与文件拆分\n",
    "print(os.path.splitext('bug.py'))\n",
    "print(os.path.basename('E:\\（network）\\python资料及练习\\python学习-练习\\jichu\\leiyuduixiang.py'))\n",
    "print(os.path.dirname('E:\\（network）\\python资料及练习\\python学习-练习\\jichu\\leiyuduixiang.pyd'))\n",
    "print(os.path.isdir('E:\\（network）\\python资料及练习\\python学习-练习\\jichu'))"
   ],
   "metadata": {
    "collapsed": false
   }
  },
  {
   "cell_type": "markdown",
   "source": [
    "练习：获取当前目录下的所有.py文件"
   ],
   "metadata": {
    "collapsed": false
   }
  },
  {
   "cell_type": "code",
   "execution_count": null,
   "outputs": [],
   "source": [
    "import os\n",
    "path = os.getcwd()\n",
    "pyfile = os.listdir(path)\n",
    "for file in pyfile:\n",
    "    if file.endswith('.py'):  # 以什么结尾\n",
    "        print(file)"
   ],
   "metadata": {
    "collapsed": false
   }
  },
  {
   "cell_type": "markdown",
   "source": [
    "walk()方法：递归遍历指定目录下所有的文件和目录。而且将目录下的子目录都遍历出来。"
   ],
   "metadata": {
    "collapsed": false
   }
  },
  {
   "cell_type": "code",
   "execution_count": null,
   "outputs": [],
   "source": [
    "import os\n",
    "path = os.getcwd()\n",
    "lis_files = os.walk(path) # 返回为一个元组\n",
    "print(lis_files)  # 是一个迭代器对象 <generator object walk at 0x00000148F96ED7B0>\n",
    "for dirpath,dirname,filename in lis_files:\n",
    "    print(dirpath)\n",
    "    print(filename)\n",
    "    print(dirname)\n",
    "    print('------------------')  # 不仅遍历出当前目录、文件，还遍历出子目录与子文件"
   ],
   "metadata": {
    "collapsed": false
   }
  },
  {
   "cell_type": "code",
   "execution_count": null,
   "outputs": [],
   "source": [
    "import os\n",
    "path = os.getcwd()\n",
    "lis_files = os.walk(path) # 返回为一个元组\n",
    "print(lis_files)  # 是一个迭代器对象 <generator object walk at 0x00000148F96ED7B0>\n",
    "for dirpath,dirname,filename in lis_files:\n",
    "    for dir in dirname:\n",
    "        print(os.path.join(dirpath,dir)) # 当前目录下有多少个子目录\n",
    "\n",
    "    for file in filename:\n",
    "        print(os.path.join(dirpath,file))  # 遍历指定目录下所有的文件以及目录类似于递归的操作\n",
    "    print('--------------------')"
   ],
   "metadata": {
    "collapsed": false
   }
  },
  {
   "cell_type": "markdown",
   "source": [
    "补充词语理解：\n",
    "\n",
    "循环（loop），指的是在满足条件的情况下，重复执行同一段代码。比如，while语句。\n",
    "迭代（iterate），指的是按照某种顺序逐个访问列表中的每一项。比如，for语句。每一次对过程的重复称为一次“迭代”，而每一次迭代得到的结果会作为下一次迭代的初始值。走n遍，反反复复\n",
    "遍历（traversal），指的是按照一定的规则访问树形结构中的每个节点，而且每个节点都只访问一次。'走一遍'\n",
    "递归（recursion），指的是一个函数不断调用自身的行为。比如，以编程方式输出著名的斐波纳契数列。"
   ],
   "metadata": {
    "collapsed": false
   }
  }
 ],
 "metadata": {
  "kernelspec": {
   "display_name": "Python 3",
   "language": "python",
   "name": "python3"
  },
  "language_info": {
   "codemirror_mode": {
    "name": "ipython",
    "version": 2
   },
   "file_extension": ".py",
   "mimetype": "text/x-python",
   "name": "python",
   "nbconvert_exporter": "python",
   "pygments_lexer": "ipython2",
   "version": "2.7.6"
  }
 },
 "nbformat": 4,
 "nbformat_minor": 0
}
