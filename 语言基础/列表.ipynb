{
 "cells": [
  {
   "cell_type": "markdown",
   "source": [
    "## 列表"
   ],
   "metadata": {
    "collapsed": false
   }
  },
  {
   "cell_type": "markdown",
   "source": [
    "为什么需要列表？\n",
    "\n",
    "变量可以存储一个元素，而列表可以存储N多个元素，程序可以方便的对这些数据进行整体性操作；列表相当于其他语言中的数组"
   ],
   "metadata": {
    "collapsed": false
   }
  },
  {
   "cell_type": "code",
   "execution_count": null,
   "outputs": [],
   "source": [
    "lst = ['hello', 'world', 89]\n",
    "print(id(lst))\n",
    "print(type(lst))\n",
    "print(lst)\n",
    "\n",
    "#解释：\n",
    "#lst 的id是112，类型是列表，value是'hello','world',89\n",
    "#那么，每一个对象也都有id，type，value"
   ],
   "metadata": {
    "collapsed": false,
    "ExecuteTime": {
     "start_time": "2023-04-27T16:39:31.829839Z",
     "end_time": "2023-04-27T16:39:31.839253Z"
    }
   }
  },
  {
   "cell_type": "markdown",
   "source": [
    "### 列表的创建"
   ],
   "metadata": {
    "collapsed": false
   }
  },
  {
   "cell_type": "code",
   "execution_count": null,
   "outputs": [],
   "source": [
    "'''第一种方式，中括号[],元素之间用英文逗号相隔'''\n",
    "lst1 = ['hello','world',90]\n",
    "\n",
    "'''第二种方式，使用内置函数list()'''\n",
    "lst2 = list(['hello','world',90])\n",
    "\n",
    "print(lst1, lst2)\n",
    "\n",
    "# 空列表创建\n",
    "lst3=[]\n",
    "lst4=list()\n",
    "lst5=list([])\n",
    "print(lst3, id(lst3))\n",
    "print(lst4, id(lst4))\n",
    "print(lst5, id(lst5))"
   ],
   "metadata": {
    "collapsed": false,
    "ExecuteTime": {
     "start_time": "2023-04-27T16:50:41.219998Z",
     "end_time": "2023-04-27T16:50:41.229417Z"
    }
   }
  },
  {
   "cell_type": "markdown",
   "source": [
    "### 列表特点"
   ],
   "metadata": {
    "collapsed": false
   }
  },
  {
   "cell_type": "markdown",
   "source": [
    "列表元素按顺序有序排序；\n",
    "\n",
    "索引映射唯一一个数据\n",
    "\n",
    "| 说明   | 内容         |\n",
    "|------|------------|\n",
    "| 逆向索引 | -3 -2 -1   |\n",
    "| 列表   | [10,20,30] |\n",
    "| 正向索引 | 0 1 2      |\n",
    "\n",
    "列表可以存储重复数据；\n",
    "\n",
    "任意数据类型混存；\n",
    "\n",
    "根据需要动态分配和回收内存"
   ],
   "metadata": {
    "collapsed": false
   }
  },
  {
   "cell_type": "markdown",
   "source": [
    "### 列表的查询--获取列表指定元素的索引"
   ],
   "metadata": {
    "collapsed": false
   }
  },
  {
   "cell_type": "code",
   "execution_count": null,
   "outputs": [],
   "source": [
    "lst = ['hello','world',98,'hello']\n",
    "# 查询列表中存在N个相同元素，默认只返回相同元素的第一个元素\n",
    "print(lst.index('hello')) # 输出结果0\n",
    "# 如果查询的元素在列表中不存在，则会报错\n",
    "# print(lst.index('99'))      # ValueError\n",
    "# 在指定的start与stop之间寻找\n",
    "print(lst.index('hello',1,4))   # 1-4 不包括4    输出结果3"
   ],
   "metadata": {
    "collapsed": false,
    "ExecuteTime": {
     "start_time": "2023-04-27T17:20:55.376083Z",
     "end_time": "2023-04-27T17:20:55.383240Z"
    }
   }
  },
  {
   "cell_type": "markdown",
   "source": [
    "### 获取列表指定的元素"
   ],
   "metadata": {
    "collapsed": false
   }
  },
  {
   "cell_type": "markdown",
   "source": [
    "获取列表中的单个元素：索引---->元素\n",
    "\n",
    "正向索引从0到N-1\n",
    "\n",
    "逆向索引从-N到-1\n",
    "\n",
    "指定的索引不存在，IndexError"
   ],
   "metadata": {
    "collapsed": false
   }
  },
  {
   "cell_type": "code",
   "execution_count": null,
   "outputs": [],
   "source": [
    "lst = ['hello','world',98,'hello','wwe',789]\n",
    "# 获取索引为2的元素\n",
    "print(lst[2])   # 98\n",
    "# 获取索引为-3的元素\n",
    "print(lst[-3])    # hello\n",
    "# 获取的索引元素超出范围\n",
    "# print(lst[-10])     # IndexError"
   ],
   "metadata": {
    "collapsed": false,
    "ExecuteTime": {
     "start_time": "2023-04-27T17:21:52.501549Z",
     "end_time": "2023-04-27T17:21:52.516732Z"
    }
   }
  },
  {
   "cell_type": "markdown",
   "source": [
    "### 获取列表中的多个元素：切片\n",
    "\n",
    "语法格式：\n",
    "\n",
    "列表名[start : stop : step]\n",
    "\n",
    "切片操作：\n",
    "\n",
    "切片的结果----原列表切片的拷贝\n",
    "\n",
    "切片范围：(start : stop) 前包后不包\n",
    "\n",
    "step 默认为1，简写(start : stop)"
   ],
   "metadata": {
    "collapsed": false
   }
  },
  {
   "cell_type": "code",
   "execution_count": null,
   "outputs": [],
   "source": [
    "#step 为正数：\n",
    "\n",
    "#(:stop:step) 切片的第一个元素默认是列表的第一个元素\n",
    "#(start::step) 切片的最后一个元素默认是列表的最后一个元素\n",
    "#(从start开始往后计算切片)\n",
    "\n",
    "lst = [10,20,30,40,50,60,70,80,90]\n",
    "# start=1,stop=6(不包括索引6的元素),step=1\n",
    "print('------step为正数-----')\n",
    "print('原列表',id(lst))\n",
    "lst1 = lst[1:6:1]   # 默认步长为1，lst[1:6:]\n",
    "print(lst1)\n",
    "print('切片后：',id(lst1))\n",
    "print(lst[1:6])     # 默认步长为1\n",
    "print(lst[1:6:])\n",
    "print(lst[1:6:2])\n",
    "print(lst[:6:2])\n",
    "print(lst[1::2])    # 从索引为1的到列表元素最后"
   ],
   "metadata": {
    "collapsed": false,
    "ExecuteTime": {
     "start_time": "2023-04-27T17:27:12.522367Z",
     "end_time": "2023-04-27T17:27:12.526978Z"
    }
   }
  },
  {
   "cell_type": "code",
   "execution_count": null,
   "outputs": [],
   "source": [
    "#step为负数：\n",
    "\n",
    "#(:stop:step) 切片的第一个元素默认是列表的最后一个元素\n",
    "#(start::step) 切片的最后一个元素默认是列表中的第一个元素\n",
    "#(从stop开始往前计算切片)\n",
    "\n",
    "lst = [10,20,30,40,50,60,70,80,90]\n",
    "print('------step为负数-----')\n",
    "print('原列表',lst)\n",
    "print(lst[::-1])\n",
    "print(lst[7::-1])\n",
    "print(lst[6:0:-2])"
   ],
   "metadata": {
    "collapsed": false,
    "ExecuteTime": {
     "start_time": "2023-04-27T17:28:59.713632Z",
     "end_time": "2023-04-27T17:28:59.718774Z"
    }
   }
  },
  {
   "cell_type": "markdown",
   "source": [
    "### 列表元素的判断及遍历\n",
    "遍历：将列表中的元素依次输出。\n",
    "\n",
    "判断指定元素在列表中是否存在---in与not in"
   ],
   "metadata": {
    "collapsed": false
   }
  },
  {
   "cell_type": "code",
   "execution_count": null,
   "outputs": [],
   "source": [
    "lst = [10, 20, 'python', 'world']\n",
    "print(10 in lst)\n",
    "print('hello' not in lst)"
   ],
   "metadata": {
    "collapsed": false,
    "ExecuteTime": {
     "start_time": "2023-04-27T17:31:46.397148Z",
     "end_time": "2023-04-27T17:31:46.407894Z"
    }
   }
  },
  {
   "cell_type": "markdown",
   "source": [
    "列表元素的遍历"
   ],
   "metadata": {
    "collapsed": false
   }
  },
  {
   "cell_type": "code",
   "execution_count": null,
   "outputs": [],
   "source": [
    "lst = [10, 20, 'python', 'world']\n",
    "for i in lst:\n",
    "    print(i)"
   ],
   "metadata": {
    "collapsed": false,
    "ExecuteTime": {
     "start_time": "2023-04-27T17:32:33.800297Z",
     "end_time": "2023-04-27T17:32:33.806777Z"
    }
   }
  },
  {
   "cell_type": "markdown",
   "source": [
    "### 列表元素的添加、删除、修改、排序操作\n",
    "\n",
    "#### 列表元素添加：\n",
    "append()：在列表末尾添加一个元素"
   ],
   "metadata": {
    "collapsed": false
   }
  },
  {
   "cell_type": "code",
   "execution_count": null,
   "outputs": [],
   "source": [
    "# 在列表末尾添加一个元素\n",
    "lst=[123,'rrt','hello',99]\n",
    "print('原列表',id(lst))\n",
    "lst.append(100)\n",
    "print('添加后的列表',lst,id(lst))\n",
    "\n",
    "# lst2=['hello','world']\n",
    "# lst.append(lst2) # 将lst2作为整个列表加在lst里的最后一个元素后面\n",
    "# print(lst) # [123, 'rrt', 'hello', 99, 100, ['hello', 'world']]"
   ],
   "metadata": {
    "collapsed": false
   }
  },
  {
   "cell_type": "markdown",
   "source": [
    "extend()：在列表元素末尾以此添加多个元素"
   ],
   "metadata": {
    "collapsed": false
   }
  },
  {
   "cell_type": "code",
   "execution_count": null,
   "outputs": [],
   "source": [
    "# 在列表末尾至少添加一个元素--extend()\n",
    "lst=[123,'rrt','hello',99,100]\n",
    "lst2=['hello','world']\n",
    "lst.extend(lst2)  # 将lst2里的元素分别加在lst元素后面\n",
    "print(lst) # [123, 'rrt', 'hello', 99, 100, 'hello', 'world']"
   ],
   "metadata": {
    "collapsed": false
   }
  },
  {
   "cell_type": "markdown",
   "source": [
    "insert()：通过索引在列表的任意位置添加一个元素"
   ],
   "metadata": {
    "collapsed": false
   }
  },
  {
   "cell_type": "code",
   "execution_count": null,
   "outputs": [],
   "source": [
    "lst = ['hello','world',99,23,'pwd']\n",
    "lst.insert(2,'不要学我')    # 在指定所以之前添加元素\n",
    "print(lst)"
   ],
   "metadata": {
    "collapsed": false
   }
  },
  {
   "cell_type": "markdown",
   "source": [
    "切片：在列表的任意位置添加至少一个元素"
   ],
   "metadata": {
    "collapsed": false
   }
  },
  {
   "cell_type": "code",
   "execution_count": null,
   "outputs": [],
   "source": [
    "lst=['hello', 'world', '不要学我', 99, 23, 'pwd']\n",
    "lst2=[True,False,'hello']\n",
    "lst[3:]=lst2    # 为指定的切片赋予一个新值(赋予多个新值)\n",
    "print(lst)"
   ],
   "metadata": {
    "collapsed": false
   }
  },
  {
   "cell_type": "markdown",
   "source": [
    "#### 列表元素删除：remove()、pop()、切片、del\n",
    "\n",
    "remove()：根据元素删除\n",
    "\n",
    "一次删除一个指定元素；"
   ],
   "metadata": {
    "collapsed": false
   }
  },
  {
   "cell_type": "code",
   "execution_count": null,
   "outputs": [],
   "source": [
    "lst = [10,20,10,20,50,60,30]\n",
    "lst.remove(50)\n",
    "print(lst)\n",
    "\n",
    "#重复元素只删除第一个；\n",
    "lst = [10,20,10,20,50,60,30]\n",
    "lst.remove(20)\n",
    "print(lst)\n",
    "\n",
    "#元素不存在的话ValueError"
   ],
   "metadata": {
    "collapsed": false,
    "ExecuteTime": {
     "start_time": "2023-04-27T17:42:00.959465Z",
     "end_time": "2023-04-27T17:42:00.970696Z"
    }
   }
  },
  {
   "cell_type": "markdown",
   "source": [
    "pop()：根据索引删除\n",
    "\n",
    "删除一个指定索引位置上的元素"
   ],
   "metadata": {
    "collapsed": false
   }
  },
  {
   "cell_type": "code",
   "execution_count": null,
   "outputs": [],
   "source": [
    "lst = [10,20,10,20,50,60,30]\n",
    "lst.pop(0)\n",
    "print(lst)\n",
    "\n",
    "#不指定索引，默认删除列表中中最后一个元素\n",
    "lst = [10,20,10,20,50,60,30]\n",
    "lst.pop()\n",
    "print(lst)\n",
    "\n",
    "#指定索引不存在，ValueError"
   ],
   "metadata": {
    "collapsed": false
   }
  },
  {
   "cell_type": "markdown",
   "source": [
    "切片：一次至少删除一个元素，将产生一个新的列表元素"
   ],
   "metadata": {
    "collapsed": false
   }
  },
  {
   "cell_type": "code",
   "execution_count": null,
   "outputs": [],
   "source": [
    "# 删除至少一个元素，产生一个新的列表对象\n",
    "lst = [10,20,10,20,50,60,30]\n",
    "new_lst = lst[1:3]\n",
    "print('原列表',id(lst),lst)\n",
    "print('新列表',id(new_lst),new_lst)\n",
    "\n",
    "# 不产生新的列表，而是删除原有列表中的内容\n",
    "lst[1:3]=[]\n",
    "print(lst,id(lst))"
   ],
   "metadata": {
    "collapsed": false
   }
  },
  {
   "cell_type": "markdown",
   "source": [
    "clear()：清楚列表中的所有元素"
   ],
   "metadata": {
    "collapsed": false
   }
  },
  {
   "cell_type": "code",
   "execution_count": null,
   "outputs": [],
   "source": [
    "lst = [10,20,10,20,50,60,30]\n",
    "lst.clear()\n",
    "print(lst)"
   ],
   "metadata": {
    "collapsed": false
   }
  },
  {
   "cell_type": "markdown",
   "source": [
    "del：删除列表\n",
    "（1）用来删除列表中单个元素或者一段连续的元素。\n",
    "（2）删除单个元素语法格式:del列表名[索引引]。\n",
    "（3）删除一段连续的元素语法格式:del列表名[开始索引:结束索引]\n",
    "（4）删除从开始索引到结束索引之间的元素,不包括结束索引的元\n",
    "素。"
   ],
   "metadata": {
    "collapsed": false
   }
  },
  {
   "cell_type": "code",
   "execution_count": null,
   "outputs": [],
   "source": [
    "list1=['a','b','c','a']\n",
    "del list1[1]\n",
    "# 删除索引为1的元素\n",
    "print(list1)\n",
    "\n",
    "list2=[10,56,34,2,56,44,7]\n",
    "del list2[1:4]\n",
    "# 删除索引为1-3的元素\n",
    "print(list2)"
   ],
   "metadata": {
    "collapsed": false,
    "ExecuteTime": {
     "start_time": "2023-04-27T17:49:26.137971Z",
     "end_time": "2023-04-27T17:49:26.149247Z"
    }
   }
  },
  {
   "cell_type": "markdown",
   "source": [
    "#### 列表元素修改：\n",
    "\n",
    "为指定索引的元素赋予一个新值(一次修改一个值)"
   ],
   "metadata": {
    "collapsed": false
   }
  },
  {
   "cell_type": "code",
   "execution_count": null,
   "outputs": [],
   "source": [
    "lst = [10,20,10,20,50,60,30]\n",
    "lst[5]=200\n",
    "print(lst)"
   ],
   "metadata": {
    "collapsed": false
   }
  },
  {
   "cell_type": "markdown",
   "source": [
    "为指定的切片赋予一个新值(赋予多个新值)"
   ],
   "metadata": {
    "collapsed": false
   }
  },
  {
   "cell_type": "code",
   "execution_count": null,
   "outputs": [],
   "source": [
    "lst = [10,20,10,20,50,60,30]\n",
    "lst[:4]=[100,200,100]\n",
    "print(lst)"
   ],
   "metadata": {
    "collapsed": false
   }
  },
  {
   "cell_type": "markdown",
   "source": [
    "#### 列表元素排序\n",
    "1.调用sort()方法，列表中的所有元素默认按照从小到大(升序)顺序进行排序，可以指定reverse=True，进行降序排序；"
   ],
   "metadata": {
    "collapsed": false
   }
  },
  {
   "cell_type": "code",
   "execution_count": null,
   "outputs": [],
   "source": [
    "lst = [20,50,98,69,45,60,30]\n",
    "print('排序前：',lst,id(lst))\n",
    "lst.sort()     # 默认升序，reverse=False\n",
    "print('排序后：',lst,id(lst))\n",
    "lst.sort(reverse=True)  # 降序\n",
    "print('再排序后：',lst,id(lst))"
   ],
   "metadata": {
    "collapsed": false
   }
  },
  {
   "cell_type": "markdown",
   "source": [
    "2.调用内置函数sorted()升序，可以指定reverse=True，进行降序排序，原列表不发生变化；(产生一个新的列表对象)"
   ],
   "metadata": {
    "collapsed": false
   }
  },
  {
   "cell_type": "code",
   "execution_count": null,
   "outputs": [],
   "source": [
    "lst = [20,50,98,69,45,60,30]\n",
    "print('排序前：',lst,id(lst))\n",
    "lst1=sorted(lst)     # 默认升序，reverse=False\n",
    "print('排序后：',lst1,id(lst1))\n",
    "jixu=sorted(lst,reverse=True)  # 降序\n",
    "print('再排序后：',jixu,id(jixu))"
   ],
   "metadata": {
    "collapsed": false
   }
  },
  {
   "cell_type": "markdown",
   "source": [
    "### 列表生成式--生成列表的公式"
   ],
   "metadata": {
    "collapsed": false
   }
  },
  {
   "cell_type": "code",
   "execution_count": null,
   "outputs": [],
   "source": [
    "#格式 [{列表元素的表达式} for i in range(1,6)]\n",
    "lst = [i for i in range(1,6)]  # 将1-6的序列赋值给i,在以列表的格式输出\n",
    "print(lst)\n",
    "\n",
    "lst2 = [i*2 for i in range(1,6)]\n",
    "print(lst2)"
   ],
   "metadata": {
    "collapsed": false,
    "ExecuteTime": {
     "start_time": "2023-04-27T17:56:15.080981Z",
     "end_time": "2023-04-27T17:56:15.093003Z"
    }
   }
  },
  {
   "cell_type": "code",
   "execution_count": null,
   "outputs": [],
   "source": [
    "list1 = [1,2,3]\n",
    "list2 = [1,2,3]\n",
    "#res = list1.append(list1) #死循环\n",
    "res = list1.append(list2)\n",
    "\n",
    "print(list(list1))\n",
    "\n",
    "'''递归'''\n",
    "def recursion(list1):\n",
    "    for i in list1:\n",
    "        if isinstance(i, list):\n",
    "            recursion(i)\n",
    "        else:\n",
    "            print(i)\n",
    "\n",
    "\n",
    "recursion(list1)\n"
   ],
   "metadata": {
    "collapsed": false,
    "ExecuteTime": {
     "start_time": "2023-04-27T18:00:18.395454Z",
     "end_time": "2023-04-27T18:00:18.402950Z"
    }
   }
  },
  {
   "cell_type": "code",
   "execution_count": null,
   "outputs": [],
   "source": [],
   "metadata": {
    "collapsed": false
   }
  }
 ],
 "metadata": {
  "kernelspec": {
   "display_name": "Python 3",
   "language": "python",
   "name": "python3"
  },
  "language_info": {
   "codemirror_mode": {
    "name": "ipython",
    "version": 2
   },
   "file_extension": ".py",
   "mimetype": "text/x-python",
   "name": "python",
   "nbconvert_exporter": "python",
   "pygments_lexer": "ipython2",
   "version": "2.7.6"
  }
 },
 "nbformat": 4,
 "nbformat_minor": 0
}
