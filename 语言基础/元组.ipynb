{
 "cells": [
  {
   "cell_type": "markdown",
   "source": [
    "## 元组\n",
    "python内置的数据结构之一，是一个不可变序列；"
   ],
   "metadata": {
    "collapsed": false
   }
  },
  {
   "cell_type": "markdown",
   "source": [
    "### 不可变序列与可变序列\n",
    "不可变序列：字符串、元组（没有增删改操作）"
   ],
   "metadata": {
    "collapsed": false
   }
  },
  {
   "cell_type": "code",
   "execution_count": null,
   "outputs": [],
   "source": [
    "'''不可变序列：字符串，元组...内存地址在增删改之后发生变化'''\n",
    "s = '哈哈'\n",
    "s1 = s+'hello'\n",
    "print(s,id(s))   # 2426108766224\n",
    "print(s1,id(s1))\t# 2426108766416"
   ],
   "metadata": {
    "collapsed": false
   }
  },
  {
   "cell_type": "markdown",
   "source": [
    "可变序列：列表、字典（可以对序列执行增删改操作，对象地址不发生更改）"
   ],
   "metadata": {
    "collapsed": false
   }
  },
  {
   "cell_type": "code",
   "execution_count": null,
   "outputs": [],
   "source": [
    "'''可变序列：列表，字典...内存地址在增删改之后没发生变化'''\n",
    "lst = [50,'hello',56,80]\n",
    "print(lst,id(lst))      # 1847814275392\n",
    "lst.append(99)\n",
    "print(lst,id(lst))      # 1847814275392"
   ],
   "metadata": {
    "collapsed": false
   }
  },
  {
   "cell_type": "markdown",
   "source": [
    "### 元组的创建方式"
   ],
   "metadata": {
    "collapsed": false
   }
  },
  {
   "cell_type": "code",
   "execution_count": 9,
   "outputs": [
    {
     "name": "stdout",
     "output_type": "stream",
     "text": [
      "('python', 'world', 90) <class 'tuple'>\n",
      "('python', 'world', 90) <class 'tuple'>\n",
      "('python', 'world', 91) <class 'tuple'>\n",
      "('python',) <class 'tuple'>\n",
      "poop <class 'str'>\n",
      "('poop',) <class 'tuple'>\n"
     ]
    }
   ],
   "source": [
    "tuple1 = ('python','world',90)\n",
    "print(tuple1, type(tuple1))\n",
    "\n",
    "tuple2 = tuple(('python','world',90))\n",
    "print(tuple2, type(tuple2))\n",
    "\n",
    "# 注意\n",
    "tuple3 = ('python','world',91)\n",
    "tuple4 = 'python','world',91\n",
    "print(tuple3, type(tuple3))\n",
    "print(tuple4, type(tuple4))\n",
    "# 如果是一个元素，比如：tuple5=('poop'),输出的类型是str，所以“只包含一个元组的元素需要使用逗号和小括号” ，逗号不能省略！！！\n",
    "tuple5=('poop')\n",
    "print(tuple5, type(tuple5))  # poop <class 'str'>\n",
    "\n",
    "tuple5=('poop',)\n",
    "print(tuple5, type(tuple5)) # ('poop',) <class 'tuple'>"
   ],
   "metadata": {
    "collapsed": false,
    "ExecuteTime": {
     "start_time": "2023-04-27T22:29:50.664709Z",
     "end_time": "2023-04-27T22:29:50.686585Z"
    }
   }
  },
  {
   "cell_type": "code",
   "execution_count": null,
   "outputs": [],
   "source": [
    "# 创建空元组\n",
    "tuple1=()\n",
    "tuple2=tuple()\n",
    "print(tuple1)\n",
    "print(tuple2)"
   ],
   "metadata": {
    "collapsed": false
   }
  },
  {
   "cell_type": "markdown",
   "source": [
    "### 元组的遍历\n",
    "元组是可迭代对象，所以可以使用for...in进行遍历(走一遍)"
   ],
   "metadata": {
    "collapsed": false
   }
  },
  {
   "cell_type": "code",
   "execution_count": 3,
   "outputs": [
    {
     "name": "stdout",
     "output_type": "stream",
     "text": [
      "('python', 'world', 90) <class 'tuple'>\n",
      "('python', 'world', 90) <class 'tuple'>\n"
     ]
    }
   ],
   "source": [
    "ttp=('python',980,'world')\n",
    "print(ttp[0]) # 获取元组方式\n",
    "for i in ttp:\n",
    "    print(i)"
   ],
   "metadata": {
    "collapsed": false,
    "ExecuteTime": {
     "start_time": "2023-04-27T21:38:14.525875Z",
     "end_time": "2023-04-27T21:38:14.537021Z"
    }
   }
  },
  {
   "cell_type": "code",
   "execution_count": null,
   "outputs": [],
   "source": [],
   "metadata": {
    "collapsed": false
   }
  }
 ],
 "metadata": {
  "kernelspec": {
   "display_name": "Python 3",
   "language": "python",
   "name": "python3"
  },
  "language_info": {
   "codemirror_mode": {
    "name": "ipython",
    "version": 2
   },
   "file_extension": ".py",
   "mimetype": "text/x-python",
   "name": "python",
   "nbconvert_exporter": "python",
   "pygments_lexer": "ipython2",
   "version": "2.7.6"
  }
 },
 "nbformat": 4,
 "nbformat_minor": 0
}
