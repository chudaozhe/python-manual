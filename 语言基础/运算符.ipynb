{
 "cells": [
  {
   "cell_type": "markdown",
   "source": [
    "## 运算符"
   ],
   "metadata": {
    "collapsed": false
   }
  },
  {
   "cell_type": "markdown",
   "source": [
    "### 算术运算符\n",
    "标准算数运算符：\n",
    "\n",
    "加(+)、减(-)、乘(*)、除(/)、整除(//)\n",
    "\n",
    "取余运算符：%\n",
    "\n",
    "幂运算符：**"
   ],
   "metadata": {
    "collapsed": false
   }
  },
  {
   "cell_type": "code",
   "execution_count": null,
   "metadata": {
    "collapsed": true,
    "ExecuteTime": {
     "start_time": "2023-04-26T09:36:27.863292Z",
     "end_time": "2023-04-26T09:36:27.871071Z"
    }
   },
   "outputs": [],
   "source": [
    "print(1 + 1)  # 加法运算\n",
    "print(2 - 1)  # 减法运算\n",
    "print(2 * 4)  # 乘法运算\n",
    "print(11 / 2)  # 除法运算\n",
    "print(6 % 4)  # 取余运算：6除4取余数\n",
    "print(9 // 8)  # 整除运算：9除8取商（整数部分）\n",
    "print(2 ** 3)  # 幂运算：2的3次方"
   ]
  },
  {
   "cell_type": "markdown",
   "source": [
    "| 运算符 | 表示           | 例子     | 结果             |\n",
    "|-----|--------------|--------|----------------|\n",
    "|     |              | 9%4    | 1              |\n",
    "| %   | 取余一正一负       | 9%-4   | 9-(-4)*(-3)=-3 |\n",
    "|     | 余数=被除数-除数*商  | -9%4   | -9-4*(-3)=3    |\n",
    "|     |              | -9%-4  | -1             |\n",
    "| //  | 整除（一正一负向下取整） | 9//-4  | -3(2.25=2+1)   |\n",
    "|     |              | 9//4   | 2              |\n",
    "|     |              | -9//4  | -3             |\n",
    "|     |              | -9//-4 | 2              |"
   ],
   "metadata": {
    "collapsed": false
   }
  },
  {
   "cell_type": "code",
   "execution_count": null,
   "outputs": [],
   "source": [
    "print(12 % 8)  # 4\n",
    "print(12 % -8)  # 12-(-8)*(-2)=-4\n",
    "print(-12 % 8)  # -12-8*(-2)=4\n",
    "print(-12 % -8)  # -4"
   ],
   "metadata": {
    "collapsed": false,
    "ExecuteTime": {
     "start_time": "2023-04-26T09:56:39.866078Z",
     "end_time": "2023-04-26T09:56:39.882360Z"
    }
   }
  },
  {
   "cell_type": "markdown",
   "source": [
    "### 赋值运算符\n",
    "执行顺序为从右-->左\n",
    "\n",
    "支持链式赋值"
   ],
   "metadata": {
    "collapsed": false
   }
  },
  {
   "cell_type": "code",
   "execution_count": null,
   "outputs": [],
   "source": [
    "a = b = c = 20\n",
    "print(a, b, c)"
   ],
   "metadata": {
    "collapsed": false
   }
  },
  {
   "cell_type": "markdown",
   "source": [
    "支持参数赋值：`+=`、`-=`、`*=`、`//=`、`%=`"
   ],
   "metadata": {
    "collapsed": false
   }
  },
  {
   "cell_type": "code",
   "execution_count": null,
   "outputs": [],
   "source": [
    "a = 10\n",
    "a += 12\t# a=a+12\n",
    "print(a)"
   ],
   "metadata": {
    "collapsed": false,
    "ExecuteTime": {
     "start_time": "2023-04-26T10:26:34.369384Z",
     "end_time": "2023-04-26T10:26:34.383106Z"
    }
   }
  },
  {
   "cell_type": "markdown",
   "source": [
    "支持系列解包赋值"
   ],
   "metadata": {
    "collapsed": false
   }
  },
  {
   "cell_type": "code",
   "execution_count": null,
   "outputs": [],
   "source": [
    "a,b,c,=20,30,40\n",
    "print(a,b,c)\n",
    "\n",
    "# 交换两个变量的值\n",
    "a,b=10,20\n",
    "print('交换之前：a,b',(a,b))\n",
    "a,b=b,a\n",
    "print('交换之后：a,b',(a,b))"
   ],
   "metadata": {
    "collapsed": false,
    "ExecuteTime": {
     "start_time": "2023-04-26T10:16:06.217010Z",
     "end_time": "2023-04-26T10:16:06.239747Z"
    }
   }
  },
  {
   "cell_type": "markdown",
   "source": [
    "### 比较运算符\n",
    "对变量或表达式的结果进行大小、真假等比较"
   ],
   "metadata": {
    "collapsed": false
   }
  },
  {
   "cell_type": "code",
   "execution_count": null,
   "outputs": [],
   "source": [
    "# 运算符：>,<,>=,<=,!=\n",
    "# == 对象value的比较\n",
    "# is,is not 对象的id比较"
   ],
   "metadata": {
    "collapsed": false
   }
  },
  {
   "cell_type": "markdown",
   "source": [
    "`==`比较的是值，而`=`是赋值；比较对象的标识使用的是`is`或`is not`"
   ],
   "metadata": {
    "collapsed": false
   }
  },
  {
   "cell_type": "code",
   "execution_count": null,
   "outputs": [],
   "source": [
    "a = 10\n",
    "b = 10\n",
    "print(a == b)  # 返回为True,说明a与b的vlaue相等\n",
    "print(a is b)  # 返回为True,说明a与b的标识相等\n",
    "print(a, id(a))"
   ],
   "metadata": {
    "collapsed": false,
    "ExecuteTime": {
     "start_time": "2023-04-26T10:43:12.903607Z",
     "end_time": "2023-04-26T10:43:12.935264Z"
    }
   }
  },
  {
   "cell_type": "code",
   "execution_count": null,
   "outputs": [],
   "source": [
    "lis1 = [11, 22, 33, 44]\n",
    "lis2 = [11, 22, 33, 44]\n",
    "print(lis1 == lis2)\n",
    "print(lis1 is lis2)  # id不同\n",
    "print(lis1, id(lis1))\n",
    "print(lis2, id(lis2))\n",
    "print(lis1 is not lis2)\n",
    "\n",
    "# 比较运算符的结果为布尔类型\n",
    "a, b = 10, 20\n",
    "print('a大于b：', a > b)"
   ],
   "metadata": {
    "collapsed": false,
    "ExecuteTime": {
     "start_time": "2023-04-26T11:25:52.668933Z",
     "end_time": "2023-04-26T11:25:52.673944Z"
    }
   }
  },
  {
   "cell_type": "markdown",
   "source": [
    "### 布尔运算符\n",
    "对于布尔值之间的运算；\n",
    "\n",
    "都有`and`、`or`、`not in`、`in`;"
   ],
   "metadata": {
    "collapsed": false
   }
  },
  {
   "cell_type": "markdown",
   "source": [
    "and：一假则假"
   ],
   "metadata": {
    "collapsed": false
   }
  },
  {
   "cell_type": "code",
   "execution_count": null,
   "outputs": [],
   "source": [
    "a, b = 1, 2\n",
    "print(a == 1 and b == 2)  # True and True 为True\n",
    "print(a == 1 and b < 1)  # True and False 为False\n",
    "print(a != 1 and b == 2)  # False and True 为False\n",
    "print(a != 1 and b < 1)  # False and False 为False"
   ],
   "metadata": {
    "collapsed": false
   }
  },
  {
   "cell_type": "markdown",
   "source": [
    "or：一真则真"
   ],
   "metadata": {
    "collapsed": false
   }
  },
  {
   "cell_type": "code",
   "execution_count": null,
   "outputs": [],
   "source": [
    "a, b = 1, 2\n",
    "print(a == 1 or b == 2)  # True and True 为True\n",
    "print(a == 1 or b < 1)  # True and False 为True\n",
    "print(a != 1 or b == 2)  # False and True 为True\n",
    "print(a != 1 or b < 1)  # False and False 为False"
   ],
   "metadata": {
    "collapsed": false
   }
  },
  {
   "cell_type": "markdown",
   "source": [
    "in 与 not in"
   ],
   "metadata": {
    "collapsed": false
   }
  },
  {
   "cell_type": "code",
   "execution_count": null,
   "outputs": [],
   "source": [
    "f = True\n",
    "ff = False\n",
    "print(not f)  # 对布尔类型操作数进行取反-----False\n",
    "\n",
    "s = 'helloworld'\n",
    "print('w' in s)  # True\n",
    "print('k' not in s)  # True"
   ],
   "metadata": {
    "collapsed": false
   }
  },
  {
   "cell_type": "markdown",
   "source": [
    "### 位运算符\n",
    "将数据转成二进制计算；\n",
    "\n",
    "1.位与&：对应位数都是1，结果位数才是1，否则为零"
   ],
   "metadata": {
    "collapsed": false
   }
  },
  {
   "cell_type": "code",
   "execution_count": null,
   "outputs": [],
   "source": [
    "print(4&8)     # 按位与&，同为1时结果为1(两个十进制转化为二进制按位计算)\n",
    "#0000 0100\n",
    "#0000 1000"
   ],
   "metadata": {
    "collapsed": false,
    "ExecuteTime": {
     "start_time": "2023-04-26T11:38:54.857922Z",
     "end_time": "2023-04-26T11:38:54.887080Z"
    }
   }
  },
  {
   "cell_type": "markdown",
   "source": [
    "2.位或|：对应位数都是0，结果位数才是0，否则为1"
   ],
   "metadata": {
    "collapsed": false
   }
  },
  {
   "cell_type": "code",
   "execution_count": null,
   "outputs": [],
   "source": [
    "print(4|8)      #按位或|，同为0时结果为0\n",
    "#0000 0100\n",
    "#0000 1000\n",
    "#0000 1100"
   ],
   "metadata": {
    "collapsed": false
   }
  },
  {
   "cell_type": "markdown",
   "source": [
    "3.左移位<<：高位溢出，低位补零(乘以2)"
   ],
   "metadata": {
    "collapsed": false
   }
  },
  {
   "cell_type": "code",
   "execution_count": null,
   "outputs": [],
   "source": [
    "print(4<<1)     # 向左移动1位(4乘以2)"
   ],
   "metadata": {
    "collapsed": false,
    "ExecuteTime": {
     "start_time": "2023-04-26T11:41:11.924140Z",
     "end_time": "2023-04-26T11:41:11.938509Z"
    }
   }
  },
  {
   "cell_type": "markdown",
   "source": [
    "4.右移位>>：高位补零，低位丢弃(移一位除以2---2的幂)"
   ],
   "metadata": {
    "collapsed": false
   }
  },
  {
   "cell_type": "code",
   "execution_count": null,
   "outputs": [],
   "source": [
    "print(4>>2)     # 向右移动2位(4除以2**2)"
   ],
   "metadata": {
    "collapsed": false,
    "ExecuteTime": {
     "start_time": "2023-04-26T11:41:46.151348Z",
     "end_time": "2023-04-26T11:41:46.159153Z"
    }
   }
  },
  {
   "cell_type": "markdown",
   "source": [
    "补：二进制原码+1=补码"
   ],
   "metadata": {
    "collapsed": false
   }
  },
  {
   "cell_type": "markdown",
   "source": [
    "### 运算符的优先级\n",
    "算数运算符 > 位运算 > 比较运算符 > 布尔运算 > 赋值运算\n",
    "\n",
    "有括号会先计算括号里的"
   ],
   "metadata": {
    "collapsed": false
   }
  }
 ],
 "metadata": {
  "kernelspec": {
   "display_name": "Python 3",
   "language": "python",
   "name": "python3"
  },
  "language_info": {
   "codemirror_mode": {
    "name": "ipython",
    "version": 2
   },
   "file_extension": ".py",
   "mimetype": "text/x-python",
   "name": "python",
   "nbconvert_exporter": "python",
   "pygments_lexer": "ipython2",
   "version": "2.7.6"
  }
 },
 "nbformat": 4,
 "nbformat_minor": 0
}
