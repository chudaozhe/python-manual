{
 "cells": [
  {
   "cell_type": "markdown",
   "source": [
    "## 对象\n",
    "cls是类方法里面的第一个参数，表示类本身；self是实例方法里的第一个参数，表示对象本身。\n",
    "\n",
    "在python中没有专门的修饰符用于属性的私有，如果该属性不希望在类对象外部被访问，前边使用两个`_`"
   ],
   "metadata": {
    "collapsed": false
   }
  },
  {
   "cell_type": "markdown",
   "source": [
    "### 两大编程思想\n",
    "面向过程与面向对象"
   ],
   "metadata": {
    "collapsed": false
   }
  },
  {
   "cell_type": "markdown",
   "source": [
    "### 类和对象的创建\n",
    "类是多个类似事物组成的群体的统称，能够判断\n",
    "\n",
    "1.数据类型：不同的数据类型属于不同的类；使用内置函数查看数据类型type()\n",
    "\n",
    "2.对象：100、99、520都是int类之下包含的相似的不同个例，这个个例专业术语称为实例或对象\n",
    "\n",
    "3.类的创建："
   ],
   "metadata": {
    "collapsed": false
   }
  },
  {
   "cell_type": "code",
   "execution_count": 1,
   "outputs": [
    {
     "name": "stdout",
     "output_type": "stream",
     "text": [
      "140388378638560\n",
      "<class 'type'>\n",
      "<class '__main__.Student'>\n"
     ]
    }
   ],
   "source": [
    "class Student: # Student 类名；由一个或多个单词组成，每个单词的首字母大写，其余小写\n",
    "    pass\n",
    "\n",
    "# python 中一切皆对象，Student是对象吗？有内存空间吗？\n",
    "print(id(Student))\n",
    "print(type(Student))\n",
    "print(Student)"
   ],
   "metadata": {
    "collapsed": false,
    "ExecuteTime": {
     "start_time": "2023-04-29T14:04:29.366640Z",
     "end_time": "2023-04-29T14:04:29.377998Z"
    }
   }
  },
  {
   "cell_type": "markdown",
   "source": [
    "4.类的组成："
   ],
   "metadata": {
    "collapsed": false
   }
  },
  {
   "cell_type": "code",
   "execution_count": 2,
   "metadata": {
    "collapsed": true,
    "ExecuteTime": {
     "start_time": "2023-04-29T00:27:27.424670Z",
     "end_time": "2023-04-29T00:27:27.439406Z"
    }
   },
   "outputs": [
    {
     "name": "stdout",
     "output_type": "stream",
     "text": [
      "我在实习...\n",
      "我在实习...\n",
      "我是类方法，因为我使用了classmethod进行修饰\n"
     ]
    }
   ],
   "source": [
    "class Student: # Student 类名；由一个或多个单词组成，每个单词的首字母大写，其余小写\n",
    "    native_place='吉林'   # 直接写在类里的变量，称为类属性\n",
    "    def __init__(self,name,age):  # 初始化变量\n",
    "        self.name=name    # self.name称为实例属性，进行了一个赋值操作，将局部变量的name的值赋值给实体属性\n",
    "        self.age=age\n",
    "    # 定义在类内部的方法称为实例方法：传的是实例对象\n",
    "    def study(self):\n",
    "        print('我在实习...')\n",
    "\n",
    "    # 静态方法\n",
    "    @staticmethod\n",
    "    def method():\n",
    "        print('我使用了staticmethod进行修饰，所以我是静态方法')\n",
    "\n",
    "    # 类方法\n",
    "    @classmethod\n",
    "    def cm(cls):\n",
    "        print('我是类方法，因为我使用了classmethod进行修饰')\n",
    "\n",
    "stu1 = Student(\"zs\", 1)\n",
    "Student.study(stu1)\n",
    "stu1.study()\n",
    "\n",
    "Student.cm()"
   ]
  },
  {
   "cell_type": "markdown",
   "source": [
    "### 类对象与类属性\n",
    "1.对象的创建：又称为类的实例化\n",
    "\n",
    "语法： 实例名=类名( )"
   ],
   "metadata": {
    "collapsed": false
   }
  },
  {
   "cell_type": "code",
   "execution_count": 2,
   "outputs": [
    {
     "name": "stdout",
     "output_type": "stream",
     "text": [
      "4429902272\n",
      "<class '__main__.Student'>\n",
      "<__main__.Student object at 0x1080af1c0>\n"
     ]
    }
   ],
   "source": [
    "class Student: # Student 类名；由一个或多个单词组成，每个单词的首字母大写，其余小写\n",
    "    native_place='吉林'   # 直接写在类里的变量，称为类属性\n",
    "    def __init__(self,name,age):  # 初始化变量\n",
    "        self.name=name    # self.name称为实例属性，进行了一个赋值操作，将局部变量的name的值赋值给实体属性\n",
    "        self.age=age\n",
    "    # 定义在类内部称为实例方法：传的是实例对象\n",
    "    def study(self):\n",
    "        print('我在实习...')\n",
    "\n",
    "# 创建Student类的实例对象\n",
    "stu=Student('张三',20)   # 实例对象(有类指针)，会指向类对象\n",
    "print(id(stu))    # Student类的实例对象的内存地址\n",
    "print(type(stu))\n",
    "print(stu)"
   ],
   "metadata": {
    "collapsed": false,
    "ExecuteTime": {
     "start_time": "2023-04-29T14:22:07.885575Z",
     "end_time": "2023-04-29T14:22:07.897385Z"
    }
   }
  },
  {
   "cell_type": "code",
   "execution_count": null,
   "outputs": [],
   "source": [
    "class Student: # Student 类名；由一个或多个单词组成，每个单词的首字母大写，其余小写\n",
    "    native_place='吉林'   # 直接写在类里的变量，称为类属性\n",
    "    def __init__(self,name,age):  # 初始化变量\n",
    "        self.name=name    # self.name称为实例属性，进行了一个赋值操作，将局部变量的name的值赋值给实体属性\n",
    "        self.age=age\n",
    "    # 定义在类内部称为实例方法\n",
    "    def study(self):\n",
    "        print('我在实习...')\n",
    "\n",
    "\n",
    "# 创建Student类的实例对象\n",
    "stu=Student('张三',20)   # 实例对象(有类指针)，会指向类对象调用类对象\n",
    "stu.study()   # 对象名.方法名   实例方法\n",
    "print(stu.name)  # 实例属性\n",
    "print(stu.age)\n",
    "\n",
    "# 类名.方法名(类的对象)--实际上就是方法定义处的self\n",
    "Student.study(stu)   # 与stu.study()功能相同，都是调用student的study方法"
   ],
   "metadata": {
    "collapsed": false
   }
  },
  {
   "cell_type": "markdown",
   "source": [
    "### 类方法与静态方法\n",
    "类方法：\n",
    "\n",
    "使用@classmethod修饰的方法，使用类名直接访问"
   ],
   "metadata": {
    "collapsed": false
   }
  },
  {
   "cell_type": "code",
   "execution_count": null,
   "outputs": [],
   "source": [
    "class Student: # Student 类名；由一个或多个单词组成，每个单词的首字母大写，其余小写\n",
    "    native_place='吉林'   # 直接写在类里的变量，称为类属性\n",
    "    def __init__(self,name,age):  # 初始化变量\n",
    "        self.name=name    # self.name称为实例属性，进行了一个赋值操作，将局部变量的name的值赋值给实体属性\n",
    "        self.age=age\n",
    "    # 定义在类内部称为实例方法\n",
    "    def study(self):\n",
    "        print('我在实习...')\n",
    "\n",
    "    @classmethod\n",
    "    def cm(cls):\n",
    "        print('我是类方法，因为我使用了classmethod修饰')\n",
    "\n",
    "Student.cm()"
   ],
   "metadata": {
    "collapsed": false
   }
  },
  {
   "cell_type": "markdown",
   "source": [
    "静态方法：\n",
    "\n",
    "使用@staticmethod修饰的方法，使用类名直接访问"
   ],
   "metadata": {
    "collapsed": false
   }
  },
  {
   "cell_type": "code",
   "execution_count": null,
   "outputs": [],
   "source": [
    "class Student: # Student 类名；由一个或多个单词组成，每个单词的首字母大写，其余小写\n",
    "    native_place='吉林'   # 直接写在类里的变量，称为类属性\n",
    "    def __init__(self,name,age):  # 初始化变量\n",
    "        self.name=name    # self.name称为实例属性，进行了一个赋值操作，将局部变量的name的值赋值给实体属性\n",
    "        self.age=age\n",
    "    # 定义在类内部称为实例方法\n",
    "    def study(self):\n",
    "        print('我在实习...')\n",
    "\n",
    "    @staticmethod\n",
    "    def stamen():\n",
    "        print('我是静态方法，因为我使用了staticmenthod')\n",
    "\n",
    "Student.stamen()"
   ],
   "metadata": {
    "collapsed": false
   }
  },
  {
   "cell_type": "markdown",
   "source": [
    "### 动态绑定属性和方法\n",
    "Python是动态语言，在创建对象之后可以动态的绑定属性和方法"
   ],
   "metadata": {
    "collapsed": false
   }
  },
  {
   "cell_type": "code",
   "execution_count": null,
   "outputs": [],
   "source": [
    "class Student():\n",
    "    def __init__(self,name,age):\n",
    "        self.name = name    # 实例化变量=局部变量\n",
    "        self.age = age\n",
    "    def eat(self):\n",
    "        print('在吃饭')\n",
    "\n",
    "stu1 = Student('张三',20)\n",
    "stu2 = Student('马武',47)\n",
    "# 动态绑定属性\n",
    "stu2.gender = '女'\n",
    "print(stu1.name,stu1.age)\n",
    "print(stu2.name,stu2.age,stu2.gender)\n",
    "\n",
    "# 动态绑定方法\n",
    "def show():   # 函数\n",
    "    print('动态绑定方法')\n",
    "\n",
    "stu1.show = show    # 方法\n",
    "stu1.show()"
   ],
   "metadata": {
    "collapsed": false
   }
  },
  {
   "cell_type": "markdown",
   "source": [
    "python类函数有self和没self的区别：有self必须创建实例；没有self可以直接用类名调用函数。"
   ],
   "metadata": {
    "collapsed": false
   }
  },
  {
   "cell_type": "markdown",
   "source": [
    "### 面向对象的三大特征\n",
    "\n",
    "#### 封装：提高程序的安全性；\n",
    "\n",
    "将数据(属性)和行为(方法)包装在类对象中。在方法内部对属性进行操作，在类对象的外部调用方法。这样，无需关心方法内部的具体实现细节，从而隔离了复杂度。\n",
    "\n",
    "在python中没有专门的修饰符用于属性的私有，如果该属性不希望在类对象外部被访问，前边使用两个`_`"
   ],
   "metadata": {
    "collapsed": false
   }
  },
  {
   "cell_type": "code",
   "execution_count": null,
   "outputs": [],
   "source": [
    "class Car():\n",
    "    def __init__(self,brand):    # brand 是类的一个属性\n",
    "        self.brand = brand\n",
    "    def start(self):\n",
    "        print('汽车已启动')\n",
    "\n",
    "car = Car('大众')\n",
    "Car.start(car)    # car.start()\n",
    "print(car.brand)"
   ],
   "metadata": {
    "collapsed": false
   }
  },
  {
   "cell_type": "code",
   "execution_count": null,
   "outputs": [],
   "source": [
    "class Student():\n",
    "    def __init__(self,name,age):\n",
    "        self.name = name\n",
    "        self.__age = age  # 不希望在类的外部调用\n",
    "\n",
    "    def show(self):\n",
    "        print(self.name,self.__age)\n",
    "\n",
    "stu = Student('lisi',20)\n",
    "stu.show()\n",
    "print(stu.name)\n",
    "# print(stu.__age)  出错不能调用\n",
    "print(dir(stu))\n",
    "print(stu._Student__age)"
   ],
   "metadata": {
    "collapsed": false
   }
  },
  {
   "cell_type": "markdown",
   "source": [
    "#### 继承：提高代码的复用性\n",
    "语法格式：\n",
    "class 子类类名（父类1,父类2,...）:\n",
    "\tpass\n",
    "\n",
    "#如果一个类没有继承任何类，则默认继承object\n",
    "#python支持多继承\n",
    "#定义子类时，必须在其构造函数中调用父类的构造函数"
   ],
   "metadata": {
    "collapsed": false
   }
  },
  {
   "cell_type": "code",
   "execution_count": null,
   "outputs": [],
   "source": [
    "class Person(object):\n",
    "    def __init__(self,name,age):\n",
    "        self.name=name\n",
    "        self.age=age\n",
    "\n",
    "    def info(self):\n",
    "        print(self.name,self.age)\n",
    "\n",
    "class Student(Person):\n",
    "    def __init__(self,name,age,stunum):\n",
    "        super().__init__(name,age)   # super函数是用来调用父类(超类)的一个方法；\n",
    "        self.stunum=stunum\n",
    "\n",
    "class Teacher(Person):\n",
    "    def __init__(self,name,age,teachyear):\n",
    "        super().__init__(name,age)\n",
    "        self.teachyear=teachyear\n",
    "\n",
    "student=Student('李四',23,'18010832')\n",
    "teacher=Teacher('么妹',60,23)\n",
    "\n",
    "student.info()\n",
    "teacher.info()"
   ],
   "metadata": {
    "collapsed": false
   }
  },
  {
   "cell_type": "code",
   "execution_count": null,
   "outputs": [],
   "source": [
    "class A(object):\n",
    "    pass\n",
    "\n",
    "class B(object):\n",
    "    pass\n",
    "\n",
    "class C(A,B):\n",
    "    pass"
   ],
   "metadata": {
    "collapsed": false
   }
  },
  {
   "cell_type": "markdown",
   "source": [
    "方法重写\n",
    "如果子类对继承的父类的某个属性或方法不满意，可以在子类中对其(方法体)进行重新编写；\n",
    "\n",
    "子类重写后的方法：super().xxx()调用父类中被重写的方法；"
   ],
   "metadata": {
    "collapsed": false
   }
  },
  {
   "cell_type": "code",
   "execution_count": null,
   "outputs": [],
   "source": [
    "class Person(object):\n",
    "    def __init__(self,name,age):\n",
    "        self.name=name\n",
    "        self.age=age\n",
    "\n",
    "    def info(self):\n",
    "        print(self.name,self.age)\n",
    "\n",
    "class Student(Person):\n",
    "    def __init__(self,name,age,stunum):\n",
    "        super().__init__(name,age)\n",
    "        self.stunum=stunum\n",
    "    def info(self):\n",
    "        super().info()\n",
    "        print(self.stunum)\n",
    "\n",
    "class Teacher(Person):\n",
    "    def __init__(self,name,age,teachyear):\n",
    "        super().__init__(name,age)\n",
    "        self.teachyear=teachyear\n",
    "    def info(self):\n",
    "        super().info()\n",
    "        print(self.teachyear)\n",
    "\n",
    "student=Student('李四',23,'18010832')\n",
    "teacher=Teacher('么妹',60,23)\n",
    "\n",
    "student.info()\n",
    "teacher.info()"
   ],
   "metadata": {
    "collapsed": false
   }
  },
  {
   "cell_type": "markdown",
   "source": [
    "object类：\n",
    "\n",
    "是所有类的父类，因此所有类都有object类的属性和方法；\n",
    "\n",
    "内置函数dir()可以查看指定对象所有的属性；\n",
    "\n",
    "object有一个____str____()方法，用于返回一个对于“对象的描述”，对应于内置函数str()经常用于print()方法，帮我们查看对象的信息，所以我们经常会对____str____()进行重写."
   ],
   "metadata": {
    "collapsed": false
   }
  },
  {
   "cell_type": "code",
   "execution_count": null,
   "outputs": [],
   "source": [
    "class Student():\n",
    "    pass\n",
    "\n",
    "stu=Student()\n",
    "print(dir(stu))\n",
    "print(stu)"
   ],
   "metadata": {
    "collapsed": false
   }
  },
  {
   "cell_type": "markdown",
   "source": [
    "重写____str____()方法"
   ],
   "metadata": {
    "collapsed": false
   }
  },
  {
   "cell_type": "code",
   "execution_count": null,
   "outputs": [],
   "source": [
    "class Person:\n",
    "    def __init__(self,name,age):\n",
    "        self.name=name\n",
    "        self.age=age\n",
    "\n",
    "    def __str__(self):\n",
    "        return '我的名字叫{0},今年{1}岁'.format(self.name,self.age)\n",
    "\n",
    "stu=Person(\"马丽荣\",23)\n",
    "print(dir(stu))   #可以查看指定对象所有属性\n",
    "print(type(stu))\n",
    "print(stu)"
   ],
   "metadata": {
    "collapsed": false
   }
  },
  {
   "cell_type": "markdown",
   "source": [
    "#### 多态：提高程序的可扩展性和可维护性\n",
    "即便不知道一个变量所引用的对象到底是什么类型，仍然可以通过这个变量调用方法，在运行过程中根据变量所引用对象类型，动态调用哪个对象中的方法"
   ],
   "metadata": {
    "collapsed": false
   }
  },
  {
   "cell_type": "code",
   "execution_count": null,
   "outputs": [],
   "source": [
    "class Anmial(object):\n",
    "    def eat(self):\n",
    "        print(\"动物要吃...\")\n",
    "\n",
    "class Dog(Anmial):\n",
    "    def eat(self):\n",
    "        print(\"狗吃骨头...\")\n",
    "\n",
    "class Cat(Anmial):\n",
    "    def eat(self):\n",
    "        print(\"猫猫爱吃鱼...\")\n",
    "\n",
    "class Person(object):\n",
    "    def eat(self):\n",
    "        print(\"人吃五谷杂粮...\")\n",
    "\n",
    "def func(anmi):\n",
    "    anmi.eat()  # 不关心对象的类型，只关系该对象是否具有eat的行为\n",
    "\n",
    "func(Dog())\n",
    "func(Cat())\n",
    "func(Person())\n",
    "func(Anmial())\n",
    "\n",
    "#person不存在继承关系，但是有eat方法；"
   ],
   "metadata": {
    "collapsed": false
   }
  },
  {
   "cell_type": "markdown",
   "source": [
    "python是动态语言，可以动态的绑定属性和方法，不需要关心person是谁的子类，关心person是否有eat属性或方法；"
   ],
   "metadata": {
    "collapsed": false
   }
  },
  {
   "cell_type": "markdown",
   "source": [
    "### 特殊属性和特殊方法\n",
    "特殊属性：dict() 获得类对象或实例对象所绑定的所有属性和方法的字典"
   ],
   "metadata": {
    "collapsed": false
   }
  },
  {
   "cell_type": "code",
   "execution_count": null,
   "outputs": [],
   "source": [
    "class A:\n",
    "    pass\n",
    "class B:\n",
    "    pass\n",
    "\n",
    "class C(A,B):\n",
    "    def __init__(self,name,age):\n",
    "        self.name=name\n",
    "        self.age=age\n",
    "\n",
    "class D(A):\n",
    "    pass\n",
    "\n",
    "#创建C类对象\n",
    "x=C('Jack',20)  # x是C类型的实例对象；\n",
    "print(x.__dict__)  #实例对象的属性字典\n",
    "print(C.__dict__)\n",
    "print(x.__class__)   # 输出对象所属的类\n",
    "print(C.__bases__)  # C类的父类类型的元素\n",
    "print(C.__base__)  # 类的基类\n",
    "print(C.__mro__)    # 类的层次结构\n",
    "print(A.__subclasses__())"
   ],
   "metadata": {
    "collapsed": false
   }
  },
  {
   "cell_type": "markdown",
   "source": [
    "__init__   __new__ 方法："
   ],
   "metadata": {
    "collapsed": false
   }
  },
  {
   "cell_type": "code",
   "execution_count": null,
   "outputs": [],
   "source": [
    "class Students(object):\n",
    "    def __new__(cls, *args, **kwargs):   # 用于创建对象\n",
    "        print('__new__被调用执行了，cls的id值为：{0}'.format(id(cls)))  # 4608\n",
    "        objj=super().__new__(cls)\n",
    "        print('创建的对象的id为：{0}'.format(id(objj)))  # 3824\n",
    "        return objj\n",
    "\n",
    "    def __init__(self,name,age):   # 对创建的对象进行初始化\n",
    "        print('__init__方法调用了id：{0}'.format(id(self)))  # 3824\n",
    "        self.name = name\n",
    "        self.age = age\n",
    "\n",
    "print(\"输出Student类的的id：{0}\".format(id(Students)))  # 4608\n",
    "print(\"输出object对象的id：{0}\".format(id(object)))   # 2336\n",
    "\n",
    "stu = Students(\"张三\",20)\n",
    "print(\"输出实例对象stuid：{0}\".format(id(stu)))  # 3824"
   ],
   "metadata": {
    "collapsed": false
   }
  },
  {
   "cell_type": "markdown",
   "source": [
    "### 类的浅拷贝与深拷贝\n",
    "变量的赋值操作：只是形成了两个变量，实际上还是指向同一个对象"
   ],
   "metadata": {
    "collapsed": false
   }
  },
  {
   "cell_type": "code",
   "execution_count": null,
   "outputs": [],
   "source": [
    "class CPU:\n",
    "    pass\n",
    "\n",
    "class Disk:\n",
    "    pass\n",
    "\n",
    "class Computer:\n",
    "    def __init__(self,cpu,disk):\n",
    "        self.cpu = cpu\n",
    "        self.disk  =disk\n",
    "\n",
    "# 变量的赋值\n",
    "cpu1 = CPU()\n",
    "cpu2 = cpu1\n",
    "print(cpu1,id(cpu1))\n",
    "print(cpu2,id(cpu2))"
   ],
   "metadata": {
    "collapsed": false
   }
  },
  {
   "cell_type": "markdown",
   "source": [
    "#### 浅拷贝\n",
    "python拷贝一般都是浅拷贝，拷贝时对象包含的子对象不拷贝，因此，原对象与拷贝对象会引用同一个子对象。（是重新建立了一个Computer实例对象，相当于原来的实例对象id变了，但是value不变，因此新拷贝出来的computer实例对象cpu和disk还是原来的）"
   ],
   "metadata": {
    "collapsed": false
   }
  },
  {
   "cell_type": "code",
   "execution_count": null,
   "outputs": [],
   "source": [
    "class CPU:\n",
    "    pass\n",
    "\n",
    "class Disk:\n",
    "    pass\n",
    "\n",
    "class Computer:\n",
    "    def __init__(self,cpu,disk):\n",
    "        self.cpu = cpu\n",
    "        self.disk  =disk\n",
    "\n",
    "cpu1 = CPU()\n",
    "# 类的浅拷贝\n",
    "disk = Disk()\n",
    "computer = Computer(cpu1,disk)\n",
    "\n",
    "import copy\n",
    "computer2 = copy.copy(computer)\n",
    "print(computer,computer.cpu,computer.disk)\n",
    "print(computer2,computer2.cpu,computer2.disk)"
   ],
   "metadata": {
    "collapsed": false
   }
  },
  {
   "cell_type": "markdown",
   "source": [
    "#### 深拷贝\n",
    "使用copy模块的deepcopy函数，递归拷贝对象中包含的子对象，源对象和拷贝对象所有的的子对象也不相同。"
   ],
   "metadata": {
    "collapsed": false
   }
  },
  {
   "cell_type": "code",
   "execution_count": null,
   "outputs": [],
   "source": [
    "class CPU:\n",
    "    pass\n",
    "\n",
    "class Disk:\n",
    "    pass\n",
    "\n",
    "class Computer:\n",
    "    def __init__(self,cpu,disk):\n",
    "        self.cpu = cpu\n",
    "        self.disk  =disk\n",
    "\n",
    "cpu1 = CPU()\n",
    "\n",
    "disk = Disk()\n",
    "computer = Computer(cpu1,disk)\n",
    "\n",
    "import copy\n",
    "computer3 = copy.deepcopy(computer)\n",
    "print(computer,computer.cpu,computer.disk)\n",
    "print(computer3,computer3.cpu,computer3.disk)"
   ],
   "metadata": {
    "collapsed": false
   }
  },
  {
   "cell_type": "markdown",
   "source": [],
   "metadata": {
    "collapsed": false
   }
  }
 ],
 "metadata": {
  "kernelspec": {
   "display_name": "Python 3",
   "language": "python",
   "name": "python3"
  },
  "language_info": {
   "codemirror_mode": {
    "name": "ipython",
    "version": 2
   },
   "file_extension": ".py",
   "mimetype": "text/x-python",
   "name": "python",
   "nbconvert_exporter": "python",
   "pygments_lexer": "ipython2",
   "version": "2.7.6"
  }
 },
 "nbformat": 4,
 "nbformat_minor": 0
}
