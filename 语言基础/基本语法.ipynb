{
 "cells": [
  {
   "cell_type": "markdown",
   "source": [
    "## 基本语法"
   ],
   "metadata": {
    "collapsed": false
   }
  },
  {
   "cell_type": "markdown",
   "source": [
    "### 输出"
   ],
   "metadata": {
    "collapsed": false
   }
  },
  {
   "cell_type": "code",
   "execution_count": 1,
   "outputs": [
    {
     "name": "stdout",
     "output_type": "stream",
     "text": [
      "3.14\n",
      "3\n",
      "True\n",
      "人生苦短，我用python！\n",
      "hello world python\n",
      "http://www.baidu.com\n",
      "她说:\"我要学习python\"\n"
     ]
    }
   ],
   "source": [
    "print(3.14)\n",
    "print(1 + 2)\n",
    "print(1 == 1)\n",
    "print('人生苦短，我用python！')\n",
    "# 输出以空格相隔\n",
    "print('hello', 'world', 'python')\n",
    "\n",
    "print('http://www.baidu.com')\n",
    "print('她说:\"我要学习python\"')"
   ],
   "metadata": {
    "collapsed": false,
    "ExecuteTime": {
     "start_time": "2023-04-30T00:13:18.551818Z",
     "end_time": "2023-04-30T00:13:18.565773Z"
    }
   }
  },
  {
   "cell_type": "markdown",
   "source": [
    "输出到文件"
   ],
   "metadata": {
    "collapsed": false
   }
  },
  {
   "cell_type": "code",
   "execution_count": 4,
   "outputs": [],
   "source": [
    "# a+表示如果文件不存在就创建，存在就在文件内容后面追加\n",
    "f = open('./log.txt', 'a+')\n",
    "print('hello world!', file=f)\n",
    "f.close()"
   ],
   "metadata": {
    "collapsed": false,
    "ExecuteTime": {
     "start_time": "2023-04-26T01:27:09.485436Z",
     "end_time": "2023-04-26T01:27:09.494158Z"
    }
   }
  },
  {
   "cell_type": "markdown",
   "source": [
    "### 转义字符与元字符"
   ],
   "metadata": {
    "collapsed": false
   }
  },
  {
   "cell_type": "code",
   "execution_count": null,
   "outputs": [],
   "source": [
    "print('hello\\nworld')  # 换行--newline\n",
    "print('hello\\tworld')  # tab,一个tab键四个空格\n",
    "print('hellooooo\\tworld')\n",
    "print('hello\\rworld')  # 回车，world将hello覆盖\n",
    "print('hello\\bworld')  # 退一格\n",
    "\n",
    "# 元字符\n",
    "# 如果不希望转义字符起作用，就使用元字符，在字符串之前加上r或R\n",
    "print(r'hello\\nworld')\n",
    "print(R'hello\\nworld')"
   ],
   "metadata": {
    "collapsed": false
   }
  },
  {
   "cell_type": "markdown",
   "source": [
    "### 字符编码"
   ],
   "metadata": {
    "collapsed": false
   }
  },
  {
   "cell_type": "code",
   "execution_count": null,
   "outputs": [],
   "source": [
    "# 字符编码：GBK   unicode--utf-8\n",
    "print(chr(0b100111001011000))\n",
    "print(ord('乘'))"
   ],
   "metadata": {
    "collapsed": false
   }
  },
  {
   "cell_type": "markdown",
   "source": [
    "### 标识符与保留字"
   ],
   "metadata": {
    "collapsed": false
   }
  },
  {
   "cell_type": "code",
   "execution_count": 2,
   "outputs": [
    {
     "name": "stdout",
     "output_type": "stream",
     "text": [
      "['False', 'None', 'True', '__peg_parser__', 'and', 'as', 'assert', 'async', 'await', 'break', 'class', 'continue', 'def', 'del', 'elif', 'else', 'except', 'finally', 'for', 'from', 'global', 'if', 'import', 'in', 'is', 'lambda', 'nonlocal', 'not', 'or', 'pass', 'raise', 'return', 'try', 'while', 'with', 'yield']\n"
     ]
    }
   ],
   "source": [
    "import keyword\n",
    "print(keyword.kwlist)   # 输出的就为保留字\n",
    "# 标识符规则：不能以数字、保留字开头，区分大小写；变量、函数、类、模块和其它对象起的名字为标识符"
   ],
   "metadata": {
    "collapsed": false,
    "ExecuteTime": {
     "start_time": "2023-04-26T01:15:56.108938Z",
     "end_time": "2023-04-26T01:15:56.119112Z"
    }
   }
  },
  {
   "cell_type": "markdown",
   "source": [
    "### 变量的定义与使用"
   ],
   "metadata": {
    "collapsed": false
   }
  },
  {
   "cell_type": "code",
   "execution_count": null,
   "outputs": [],
   "source": [
    "# 变量由三部分组成：ID，type,value;\n",
    "name = \"aaa\"\n",
    "print(name)\n",
    "print('标识：', id(name))\n",
    "print('类型：', type(name))\n",
    "print('值：', name)"
   ],
   "metadata": {
    "collapsed": false
   }
  },
  {
   "cell_type": "markdown",
   "source": [
    "### 变量的多次赋值"
   ],
   "metadata": {
    "collapsed": false
   }
  },
  {
   "cell_type": "code",
   "execution_count": null,
   "outputs": [],
   "source": [
    "name = 'aaa'\n",
    "print(name)\n",
    "name = 'bbb'\n",
    "print(name)"
   ],
   "metadata": {
    "collapsed": false
   }
  },
  {
   "cell_type": "markdown",
   "source": [
    "### 注释\n",
    "中文编码注释-->在文件开头加上中文声明注释，用以指定源码文件的编码格式!"
   ],
   "metadata": {
    "collapsed": false
   }
  },
  {
   "cell_type": "code",
   "execution_count": null,
   "outputs": [],
   "source": [
    "#coding:utf-8 或者 gbk"
   ],
   "metadata": {
    "collapsed": false
   }
  },
  {
   "cell_type": "markdown",
   "source": [
    "### 输入"
   ],
   "metadata": {
    "collapsed": false
   }
  },
  {
   "cell_type": "code",
   "execution_count": 5,
   "outputs": [
    {
     "name": "stdout",
     "output_type": "stream",
     "text": [
      "haha <class 'str'>\n"
     ]
    }
   ],
   "source": [
    "present = input('大圣想要神魔礼物：')\n",
    "print(present, type(present))"
   ],
   "metadata": {
    "collapsed": false,
    "ExecuteTime": {
     "start_time": "2023-04-26T01:32:07.854404Z",
     "end_time": "2023-04-26T01:32:23.804183Z"
    }
   }
  },
  {
   "cell_type": "code",
   "execution_count": 6,
   "outputs": [
    {
     "name": "stdout",
     "output_type": "stream",
     "text": [
      "3\n"
     ]
    }
   ],
   "source": [
    "# 练习：输入两个整数，并对其求和；\n",
    "num1 = int(input('输入第一个数：'))\n",
    "num2 = int(input('输入第二个数：'))\n",
    "sum1 = num1 + num2\n",
    "print(sum1)"
   ],
   "metadata": {
    "collapsed": false,
    "ExecuteTime": {
     "start_time": "2023-04-26T01:34:26.345057Z",
     "end_time": "2023-04-26T01:34:36.370514Z"
    }
   }
  },
  {
   "cell_type": "code",
   "execution_count": null,
   "outputs": [],
   "source": [],
   "metadata": {
    "collapsed": false
   }
  }
 ],
 "metadata": {
  "kernelspec": {
   "display_name": "Python 3",
   "language": "python",
   "name": "python3"
  },
  "language_info": {
   "codemirror_mode": {
    "name": "ipython",
    "version": 2
   },
   "file_extension": ".py",
   "mimetype": "text/x-python",
   "name": "python",
   "nbconvert_exporter": "python",
   "pygments_lexer": "ipython2",
   "version": "2.7.6"
  }
 },
 "nbformat": 4,
 "nbformat_minor": 0
}
